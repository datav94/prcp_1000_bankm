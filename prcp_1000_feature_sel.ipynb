{
 "cells": [
  {
   "cell_type": "markdown",
   "id": "f948a832-cfdb-4213-ba5d-f47c7456e0ba",
   "metadata": {},
   "source": [
    "# Feature selection"
   ]
  },
  {
   "cell_type": "code",
   "execution_count": 1,
   "id": "4f587201-ae89-40b4-86bd-a1556db66c48",
   "metadata": {},
   "outputs": [],
   "source": [
    "# loading data using .env file\n",
    "import os\n",
    "import pandas as pd\n",
    "import numpy as np\n",
    "import matplotlib.pyplot as plt\n",
    "import seaborn as sns\n",
    "from sklearn.preprocessing import LabelEncoder, MultiLabelBinarizer, OneHotEncoder\n",
    "from sklearn.model_selection import train_test_split\n",
    "from scipy import stats\n",
    "from dotenv import load_dotenv\n",
    "\n",
    "dotenv_path = os.getcwd()+'\\\\local.env'\n",
    "load_dotenv(dotenv_path=dotenv_path)\n",
    "\n",
    "%matplotlib inline"
   ]
  },
  {
   "cell_type": "code",
   "execution_count": 2,
   "id": "ff38b4e6-2b46-418e-b7b5-bc205fe57db7",
   "metadata": {},
   "outputs": [
    {
     "data": {
      "text/html": [
       "<div>\n",
       "<style scoped>\n",
       "    .dataframe tbody tr th:only-of-type {\n",
       "        vertical-align: middle;\n",
       "    }\n",
       "\n",
       "    .dataframe tbody tr th {\n",
       "        vertical-align: top;\n",
       "    }\n",
       "\n",
       "    .dataframe thead th {\n",
       "        text-align: right;\n",
       "    }\n",
       "</style>\n",
       "<table border=\"1\" class=\"dataframe\">\n",
       "  <thead>\n",
       "    <tr style=\"text-align: right;\">\n",
       "      <th></th>\n",
       "      <th>age</th>\n",
       "      <th>job</th>\n",
       "      <th>marital</th>\n",
       "      <th>education</th>\n",
       "      <th>default</th>\n",
       "      <th>housing</th>\n",
       "      <th>loan</th>\n",
       "      <th>contact</th>\n",
       "      <th>month</th>\n",
       "      <th>day_of_week</th>\n",
       "      <th>...</th>\n",
       "      <th>campaign</th>\n",
       "      <th>pdays</th>\n",
       "      <th>previous</th>\n",
       "      <th>poutcome</th>\n",
       "      <th>emp_var_rate</th>\n",
       "      <th>cons_price_idx</th>\n",
       "      <th>cons_conf_idx</th>\n",
       "      <th>euribor3m</th>\n",
       "      <th>nr_employed</th>\n",
       "      <th>y</th>\n",
       "    </tr>\n",
       "  </thead>\n",
       "  <tbody>\n",
       "    <tr>\n",
       "      <th>0</th>\n",
       "      <td>56</td>\n",
       "      <td>housemaid</td>\n",
       "      <td>married</td>\n",
       "      <td>basic.4y</td>\n",
       "      <td>no</td>\n",
       "      <td>no</td>\n",
       "      <td>no</td>\n",
       "      <td>telephone</td>\n",
       "      <td>may</td>\n",
       "      <td>mon</td>\n",
       "      <td>...</td>\n",
       "      <td>1</td>\n",
       "      <td>999</td>\n",
       "      <td>0</td>\n",
       "      <td>nonexistent</td>\n",
       "      <td>1.1</td>\n",
       "      <td>93.994</td>\n",
       "      <td>-36.4</td>\n",
       "      <td>4.857</td>\n",
       "      <td>5191.0</td>\n",
       "      <td>no</td>\n",
       "    </tr>\n",
       "    <tr>\n",
       "      <th>1</th>\n",
       "      <td>57</td>\n",
       "      <td>services</td>\n",
       "      <td>married</td>\n",
       "      <td>high.school</td>\n",
       "      <td>unknown</td>\n",
       "      <td>no</td>\n",
       "      <td>no</td>\n",
       "      <td>telephone</td>\n",
       "      <td>may</td>\n",
       "      <td>mon</td>\n",
       "      <td>...</td>\n",
       "      <td>1</td>\n",
       "      <td>999</td>\n",
       "      <td>0</td>\n",
       "      <td>nonexistent</td>\n",
       "      <td>1.1</td>\n",
       "      <td>93.994</td>\n",
       "      <td>-36.4</td>\n",
       "      <td>4.857</td>\n",
       "      <td>5191.0</td>\n",
       "      <td>no</td>\n",
       "    </tr>\n",
       "    <tr>\n",
       "      <th>2</th>\n",
       "      <td>37</td>\n",
       "      <td>services</td>\n",
       "      <td>married</td>\n",
       "      <td>high.school</td>\n",
       "      <td>no</td>\n",
       "      <td>yes</td>\n",
       "      <td>no</td>\n",
       "      <td>telephone</td>\n",
       "      <td>may</td>\n",
       "      <td>mon</td>\n",
       "      <td>...</td>\n",
       "      <td>1</td>\n",
       "      <td>999</td>\n",
       "      <td>0</td>\n",
       "      <td>nonexistent</td>\n",
       "      <td>1.1</td>\n",
       "      <td>93.994</td>\n",
       "      <td>-36.4</td>\n",
       "      <td>4.857</td>\n",
       "      <td>5191.0</td>\n",
       "      <td>no</td>\n",
       "    </tr>\n",
       "    <tr>\n",
       "      <th>3</th>\n",
       "      <td>40</td>\n",
       "      <td>admin.</td>\n",
       "      <td>married</td>\n",
       "      <td>basic.6y</td>\n",
       "      <td>no</td>\n",
       "      <td>no</td>\n",
       "      <td>no</td>\n",
       "      <td>telephone</td>\n",
       "      <td>may</td>\n",
       "      <td>mon</td>\n",
       "      <td>...</td>\n",
       "      <td>1</td>\n",
       "      <td>999</td>\n",
       "      <td>0</td>\n",
       "      <td>nonexistent</td>\n",
       "      <td>1.1</td>\n",
       "      <td>93.994</td>\n",
       "      <td>-36.4</td>\n",
       "      <td>4.857</td>\n",
       "      <td>5191.0</td>\n",
       "      <td>no</td>\n",
       "    </tr>\n",
       "    <tr>\n",
       "      <th>4</th>\n",
       "      <td>56</td>\n",
       "      <td>services</td>\n",
       "      <td>married</td>\n",
       "      <td>high.school</td>\n",
       "      <td>no</td>\n",
       "      <td>no</td>\n",
       "      <td>yes</td>\n",
       "      <td>telephone</td>\n",
       "      <td>may</td>\n",
       "      <td>mon</td>\n",
       "      <td>...</td>\n",
       "      <td>1</td>\n",
       "      <td>999</td>\n",
       "      <td>0</td>\n",
       "      <td>nonexistent</td>\n",
       "      <td>1.1</td>\n",
       "      <td>93.994</td>\n",
       "      <td>-36.4</td>\n",
       "      <td>4.857</td>\n",
       "      <td>5191.0</td>\n",
       "      <td>no</td>\n",
       "    </tr>\n",
       "  </tbody>\n",
       "</table>\n",
       "<p>5 rows × 21 columns</p>\n",
       "</div>"
      ],
      "text/plain": [
       "   age        job  marital    education  default housing loan    contact  \\\n",
       "0   56  housemaid  married     basic.4y       no      no   no  telephone   \n",
       "1   57   services  married  high.school  unknown      no   no  telephone   \n",
       "2   37   services  married  high.school       no     yes   no  telephone   \n",
       "3   40     admin.  married     basic.6y       no      no   no  telephone   \n",
       "4   56   services  married  high.school       no      no  yes  telephone   \n",
       "\n",
       "  month day_of_week  ...  campaign  pdays  previous     poutcome emp_var_rate  \\\n",
       "0   may         mon  ...         1    999         0  nonexistent          1.1   \n",
       "1   may         mon  ...         1    999         0  nonexistent          1.1   \n",
       "2   may         mon  ...         1    999         0  nonexistent          1.1   \n",
       "3   may         mon  ...         1    999         0  nonexistent          1.1   \n",
       "4   may         mon  ...         1    999         0  nonexistent          1.1   \n",
       "\n",
       "   cons_price_idx  cons_conf_idx  euribor3m  nr_employed   y  \n",
       "0          93.994          -36.4      4.857       5191.0  no  \n",
       "1          93.994          -36.4      4.857       5191.0  no  \n",
       "2          93.994          -36.4      4.857       5191.0  no  \n",
       "3          93.994          -36.4      4.857       5191.0  no  \n",
       "4          93.994          -36.4      4.857       5191.0  no  \n",
       "\n",
       "[5 rows x 21 columns]"
      ]
     },
     "execution_count": 2,
     "metadata": {},
     "output_type": "execute_result"
    }
   ],
   "source": [
    "col_additional =['age','job','marital','education','default','housing','loan','contact','month',\\\n",
    "      'day_of_week','duration','campaign','pdays','previous','poutcome','emp_var_rate',\\\n",
    "      'cons_price_idx','cons_conf_idx','euribor3m','nr_employed','y']\n",
    "df = pd.read_csv(os.getenv('bank_additional_data'), sep=';')\n",
    "df.columns = col_additional\n",
    "df.head()"
   ]
  },
  {
   "cell_type": "code",
   "execution_count": 3,
   "id": "c5972c4d-e8e1-4f4b-a2c8-21c11627bd06",
   "metadata": {},
   "outputs": [
    {
     "data": {
      "text/plain": [
       "(41188, 18)"
      ]
     },
     "execution_count": 3,
     "metadata": {},
     "output_type": "execute_result"
    }
   ],
   "source": [
    "df.drop(['contact', 'pdays', 'poutcome'], axis=1, inplace=True)\n",
    "df.shape"
   ]
  },
  {
   "cell_type": "code",
   "execution_count": 4,
   "id": "b55b13ae-ebd5-4649-a4d9-98b21585cfa2",
   "metadata": {},
   "outputs": [],
   "source": [
    "import math\n",
    "\n",
    "df['dur_bin'] = df.duration.map(lambda x: int(math.floor(x/10)*10))"
   ]
  },
  {
   "cell_type": "code",
   "execution_count": null,
   "id": "3c026bd5-ab99-4064-a51d-1b63ff883b86",
   "metadata": {},
   "outputs": [],
   "source": []
  },
  {
   "cell_type": "markdown",
   "id": "0cf21a5f-3a7d-48a2-bc4a-6bc456cc9557",
   "metadata": {},
   "source": [
    "# Data Preprocessing"
   ]
  },
  {
   "cell_type": "markdown",
   "id": "48155a26-e1dc-4146-a7fd-7cbb1e07154b",
   "metadata": {},
   "source": [
    "The features with unknown values such as job, marital, housing, loan etc where the proportion of unknowns is not very high we shall drop the records "
   ]
  },
  {
   "cell_type": "code",
   "execution_count": 7,
   "id": "0ed620c6-e045-47f5-9f95-98f835b0f051",
   "metadata": {},
   "outputs": [
    {
     "data": {
      "text/plain": [
       "(38245, 19)"
      ]
     },
     "execution_count": 7,
     "metadata": {},
     "output_type": "execute_result"
    }
   ],
   "source": [
    "df.drop(df[(df.job == 'unknown')].index, axis=0, inplace=True)\n",
    "df.drop(df[(df.marital == 'unknown')].index, axis=0, inplace=True)\n",
    "df.drop(df[(df.housing == 'unknown')].index, axis=0, inplace=True)\n",
    "df.drop(df[(df.loan == 'unknown')].index, axis=0, inplace=True)\n",
    "df.drop(df[(df.education == 'unknown')].index, axis=0, inplace=True)\n",
    "df.shape"
   ]
  },
  {
   "cell_type": "code",
   "execution_count": 8,
   "id": "b0a89743-ae21-4377-8b56-25c7c07fb71b",
   "metadata": {},
   "outputs": [
    {
     "name": "stdout",
     "output_type": "stream",
     "text": [
      "_________job___________\n",
      "admin.           9937\n",
      "blue-collar      8560\n",
      "technician       6380\n",
      "services         3716\n",
      "management       2728\n",
      "retired          1577\n",
      "entrepreneur     1360\n",
      "self-employed    1349\n",
      "housemaid         987\n",
      "unemployed        963\n",
      "student           688\n",
      "Name: job, dtype: int64\n",
      "_________marital___________\n",
      "married     23183\n",
      "single      10760\n",
      "divorced     4302\n",
      "Name: marital, dtype: int64\n",
      "_________education___________\n",
      "university.degree      11821\n",
      "high.school             9244\n",
      "basic.9y                5856\n",
      "professional.course     5100\n",
      "basic.4y                4002\n",
      "basic.6y                2204\n",
      "illiterate                18\n",
      "Name: education, dtype: int64\n",
      "_________default___________\n",
      "no         30485\n",
      "unknown     7757\n",
      "yes            3\n",
      "Name: default, dtype: int64\n",
      "_________housing___________\n",
      "yes    20578\n",
      "no     17667\n",
      "Name: housing, dtype: int64\n",
      "_________loan___________\n",
      "no     32286\n",
      "yes     5959\n",
      "Name: loan, dtype: int64\n",
      "_________month___________\n",
      "may    12794\n",
      "jul     6630\n",
      "aug     5822\n",
      "jun     4846\n",
      "nov     3898\n",
      "apr     2436\n",
      "oct      659\n",
      "sep      502\n",
      "mar      497\n",
      "dec      161\n",
      "Name: month, dtype: int64\n",
      "_________day_of_week___________\n",
      "thu    8011\n",
      "mon    7927\n",
      "wed    7602\n",
      "tue    7481\n",
      "fri    7224\n",
      "Name: day_of_week, dtype: int64\n",
      "_________y___________\n",
      "no     33987\n",
      "yes     4258\n",
      "Name: y, dtype: int64\n"
     ]
    }
   ],
   "source": [
    "for i in df:\n",
    "    if df[i].dtype in ['object', 'bool']:\n",
    "        print(f\"_________{i}___________\")\n",
    "        print(df[i].value_counts())"
   ]
  },
  {
   "cell_type": "code",
   "execution_count": 11,
   "id": "3ab051b0-d7d7-4a50-81ed-d860564b1fe3",
   "metadata": {},
   "outputs": [],
   "source": [
    "df = df[df.duration > 5]"
   ]
  },
  {
   "cell_type": "markdown",
   "id": "b594b090-9b5a-448d-be90-e331a83e70e2",
   "metadata": {},
   "source": [
    "### for removal of outliers we need to check if the data is normal and if we can use zscore or percentile and whether outlier removal in necessary at all"
   ]
  },
  {
   "cell_type": "code",
   "execution_count": 13,
   "id": "f891b739-fb3a-421a-a982-878d49a5f4b7",
   "metadata": {},
   "outputs": [],
   "source": [
    "from scipy.stats import skew, kurtosis"
   ]
  },
  {
   "cell_type": "code",
   "execution_count": 15,
   "id": "527cb645-f5da-45dc-ab94-7ca6fedb43b4",
   "metadata": {},
   "outputs": [
    {
     "name": "stdout",
     "output_type": "stream",
     "text": [
      "_____age_____\n",
      "skewness: 0.8042629682113953\n",
      "kurtosis: 0.8211261523469053\n",
      "\n",
      "_____duration_____\n",
      "skewness: 3.2987729048982937\n",
      "kurtosis: 20.798849346943793\n",
      "\n",
      "_____campaign_____\n",
      "skewness: 4.720512066279162\n",
      "kurtosis: 35.31528463847809\n",
      "\n",
      "_____previous_____\n",
      "skewness: 3.8225668150304326\n",
      "kurtosis: 20.129894785154853\n",
      "\n",
      "_____emp_var_rate_____\n",
      "skewness: -0.7207096356217643\n",
      "kurtosis: -1.0655160176134437\n",
      "\n",
      "_____cons_price_idx_____\n",
      "skewness: -0.20758045620224036\n",
      "kurtosis: -0.8382101045140398\n",
      "\n",
      "_____cons_conf_idx_____\n",
      "skewness: 0.3072539701306952\n",
      "kurtosis: -0.3654094680360931\n",
      "\n",
      "_____euribor3m_____\n",
      "skewness: -0.7113480559893431\n",
      "kurtosis: -1.4022759768079995\n",
      "\n",
      "_____nr_employed_____\n",
      "skewness: -1.0450788425695046\n",
      "kurtosis: 0.012392816778068472\n",
      "\n",
      "_____dur_bin_____\n",
      "skewness: 3.2974698587216738\n",
      "kurtosis: 20.77918689412611\n",
      "\n"
     ]
    }
   ],
   "source": [
    "for i in df:\n",
    "    if df[i].dtype in ['int64', 'float64']:\n",
    "        print(f\"_____{i}_____\")\n",
    "        print(f\"skewness: {skew(df[i])}\")\n",
    "        print(f\"kurtosis: {kurtosis(df[i])}\")\n",
    "        print()"
   ]
  },
  {
   "cell_type": "code",
   "execution_count": 18,
   "id": "97d64226-5c0f-43bc-aeb3-65df83db3538",
   "metadata": {},
   "outputs": [
    {
     "name": "stderr",
     "output_type": "stream",
     "text": [
      "C:\\ProgramData\\Anaconda3\\lib\\site-packages\\seaborn\\_decorators.py:36: FutureWarning: Pass the following variable as a keyword arg: x. From version 0.12, the only valid positional argument will be `data`, and passing other arguments without an explicit keyword will result in an error or misinterpretation.\n",
      "  warnings.warn(\n"
     ]
    },
    {
     "data": {
      "image/png": "[encoded data removed]",
      "text/plain": [
       "<Figure size 432x288 with 1 Axes>"
      ]
     },
     "metadata": {
      "needs_background": "light"
     },
     "output_type": "display_data"
    },
    {
     "name": "stderr",
     "output_type": "stream",
     "text": [
      "C:\\ProgramData\\Anaconda3\\lib\\site-packages\\seaborn\\_decorators.py:36: FutureWarning: Pass the following variable as a keyword arg: x. From version 0.12, the only valid positional argument will be `data`, and passing other arguments without an explicit keyword will result in an error or misinterpretation.\n",
      "  warnings.warn(\n"
     ]
    },
    {
     "data": {
      "image/png": "[encoded data removed]",
      "text/plain": [
       "<Figure size 432x288 with 1 Axes>"
      ]
     },
     "metadata": {
      "needs_background": "light"
     },
     "output_type": "display_data"
    },
    {
     "name": "stderr",
     "output_type": "stream",
     "text": [
      "C:\\ProgramData\\Anaconda3\\lib\\site-packages\\seaborn\\_decorators.py:36: FutureWarning: Pass the following variable as a keyword arg: x. From version 0.12, the only valid positional argument will be `data`, and passing other arguments without an explicit keyword will result in an error or misinterpretation.\n",
      "  warnings.warn(\n"
     ]
    },
    {
     "data": {
      "image/png": "[encoded data removed]",
      "text/plain": [
       "<Figure size 432x288 with 1 Axes>"
      ]
     },
     "metadata": {
      "needs_background": "light"
     },
     "output_type": "display_data"
    },
    {
     "name": "stderr",
     "output_type": "stream",
     "text": [
      "C:\\ProgramData\\Anaconda3\\lib\\site-packages\\seaborn\\_decorators.py:36: FutureWarning: Pass the following variable as a keyword arg: x. From version 0.12, the only valid positional argument will be `data`, and passing other arguments without an explicit keyword will result in an error or misinterpretation.\n",
      "  warnings.warn(\n"
     ]
    },
    {
     "data": {
      "image/png": "[encoded data removed]",
      "text/plain": [
       "<Figure size 432x288 with 1 Axes>"
      ]
     },
     "metadata": {
      "needs_background": "light"
     },
     "output_type": "display_data"
    },
    {
     "name": "stderr",
     "output_type": "stream",
     "text": [
      "C:\\ProgramData\\Anaconda3\\lib\\site-packages\\seaborn\\_decorators.py:36: FutureWarning: Pass the following variable as a keyword arg: x. From version 0.12, the only valid positional argument will be `data`, and passing other arguments without an explicit keyword will result in an error or misinterpretation.\n",
      "  warnings.warn(\n"
     ]
    },
    {
     "data": {
      "image/png": "[encoded data removed]",
      "text/plain": [
       "<Figure size 432x288 with 1 Axes>"
      ]
     },
     "metadata": {
      "needs_background": "light"
     },
     "output_type": "display_data"
    },
    {
     "name": "stderr",
     "output_type": "stream",
     "text": [
      "C:\\ProgramData\\Anaconda3\\lib\\site-packages\\seaborn\\_decorators.py:36: FutureWarning: Pass the following variable as a keyword arg: x. From version 0.12, the only valid positional argument will be `data`, and passing other arguments without an explicit keyword will result in an error or misinterpretation.\n",
      "  warnings.warn(\n"
     ]
    },
    {
     "data": {
      "image/png": "[encoded data removed]",
      "text/plain": [
       "<Figure size 432x288 with 1 Axes>"
      ]
     },
     "metadata": {
      "needs_background": "light"
     },
     "output_type": "display_data"
    },
    {
     "name": "stderr",
     "output_type": "stream",
     "text": [
      "C:\\ProgramData\\Anaconda3\\lib\\site-packages\\seaborn\\_decorators.py:36: FutureWarning: Pass the following variable as a keyword arg: x. From version 0.12, the only valid positional argument will be `data`, and passing other arguments without an explicit keyword will result in an error or misinterpretation.\n",
      "  warnings.warn(\n"
     ]
    },
    {
     "data": {
      "image/png": "[encoded data removed]",
      "text/plain": [
       "<Figure size 432x288 with 1 Axes>"
      ]
     },
     "metadata": {
      "needs_background": "light"
     },
     "output_type": "display_data"
    },
    {
     "name": "stderr",
     "output_type": "stream",
     "text": [
      "C:\\ProgramData\\Anaconda3\\lib\\site-packages\\seaborn\\_decorators.py:36: FutureWarning: Pass the following variable as a keyword arg: x. From version 0.12, the only valid positional argument will be `data`, and passing other arguments without an explicit keyword will result in an error or misinterpretation.\n",
      "  warnings.warn(\n"
     ]
    },
    {
     "data": {
      "image/png": "[encoded data removed]",
      "text/plain": [
       "<Figure size 432x288 with 1 Axes>"
      ]
     },
     "metadata": {
      "needs_background": "light"
     },
     "output_type": "display_data"
    },
    {
     "name": "stderr",
     "output_type": "stream",
     "text": [
      "C:\\ProgramData\\Anaconda3\\lib\\site-packages\\seaborn\\_decorators.py:36: FutureWarning: Pass the following variable as a keyword arg: x. From version 0.12, the only valid positional argument will be `data`, and passing other arguments without an explicit keyword will result in an error or misinterpretation.\n",
      "  warnings.warn(\n"
     ]
    },
    {
     "data": {
      "image/png": "[encoded data removed]",
      "text/plain": [
       "<Figure size 432x288 with 1 Axes>"
      ]
     },
     "metadata": {
      "needs_background": "light"
     },
     "output_type": "display_data"
    },
    {
     "name": "stderr",
     "output_type": "stream",
     "text": [
      "C:\\ProgramData\\Anaconda3\\lib\\site-packages\\seaborn\\_decorators.py:36: FutureWarning: Pass the following variable as a keyword arg: x. From version 0.12, the only valid positional argument will be `data`, and passing other arguments without an explicit keyword will result in an error or misinterpretation.\n",
      "  warnings.warn(\n"
     ]
    },
    {
     "data": {
      "image/png": "[encoded data removed]",
      "text/plain": [
       "<Figure size 432x288 with 1 Axes>"
      ]
     },
     "metadata": {
      "needs_background": "light"
     },
     "output_type": "display_data"
    }
   ],
   "source": [
    "for i in df:\n",
    "    if df[i].dtype in ['int64', 'float64']:\n",
    "        sns.boxplot(df[i])\n",
    "        plt.show()"
   ]
  },
  {
   "cell_type": "code",
   "execution_count": 32,
   "id": "a839d429-d3e5-47ba-a793-869796cf3954",
   "metadata": {},
   "outputs": [],
   "source": [
    "df1 = df[df.campaign <= df.campaign.quantile(0.90)]"
   ]
  },
  {
   "cell_type": "code",
   "execution_count": 37,
   "id": "dc995549-f6cc-4f90-b6b3-e1da6fcad2f7",
   "metadata": {},
   "outputs": [
    {
     "data": {
      "text/plain": [
       "no     30742\n",
       "yes     4257\n",
       "Name: y, dtype: int64"
      ]
     },
     "execution_count": 37,
     "metadata": {},
     "output_type": "execute_result"
    }
   ],
   "source": [
    "df[df.duration >= df.age.quantile(0.90)].y.value_counts()"
   ]
  },
  {
   "cell_type": "markdown",
   "id": "31f5037a-135c-4cc5-aeb3-4f4d4767e501",
   "metadata": {},
   "source": [
    "#### other outlier removal will result in considerable data loss so we shall move ahead with label encoding"
   ]
  },
  {
   "cell_type": "markdown",
   "id": "ecc52245-5286-4166-a46f-c6488ca0310a",
   "metadata": {},
   "source": [
    "# Label Encoding"
   ]
  },
  {
   "cell_type": "code",
   "execution_count": 38,
   "id": "da5157bd-c77b-435d-bfd7-eaba419af250",
   "metadata": {},
   "outputs": [
    {
     "name": "stderr",
     "output_type": "stream",
     "text": [
      "<ipython-input-38-1480f604bf72>:7: SettingWithCopyWarning: \n",
      "A value is trying to be set on a copy of a slice from a DataFrame.\n",
      "Try using .loc[row_indexer,col_indexer] = value instead\n",
      "\n",
      "See the caveats in the documentation: https://pandas.pydata.org/pandas-docs/stable/user_guide/indexing.html#returning-a-view-versus-a-copy\n",
      "  df[i] = le.fit_transform(df[i])\n"
     ]
    },
    {
     "data": {
      "text/plain": [
       "{'job': array(['admin.', 'blue-collar', 'entrepreneur', 'housemaid', 'management',\n",
       "        'retired', 'self-employed', 'services', 'student', 'technician',\n",
       "        'unemployed'], dtype=object),\n",
       " 'marital': array(['divorced', 'married', 'single'], dtype=object),\n",
       " 'education': array(['basic.4y', 'basic.6y', 'basic.9y', 'high.school', 'illiterate',\n",
       "        'professional.course', 'university.degree'], dtype=object),\n",
       " 'default': array(['no', 'unknown', 'yes'], dtype=object),\n",
       " 'housing': array(['no', 'yes'], dtype=object),\n",
       " 'loan': array(['no', 'yes'], dtype=object),\n",
       " 'month': array(['apr', 'aug', 'dec', 'jul', 'jun', 'mar', 'may', 'nov', 'oct',\n",
       "        'sep'], dtype=object),\n",
       " 'day_of_week': array(['fri', 'mon', 'thu', 'tue', 'wed'], dtype=object),\n",
       " 'y': array(['no', 'yes'], dtype=object)}"
      ]
     },
     "execution_count": 38,
     "metadata": {},
     "output_type": "execute_result"
    }
   ],
   "source": [
    "le = LabelEncoder()\n",
    "\n",
    "def label_encode(df):\n",
    "    classes = {}\n",
    "    for i in df:\n",
    "        if df[i].dtype in ['object', 'bool']:\n",
    "            df[i] = le.fit_transform(df[i])\n",
    "            classes.update(**{i: le.classes_})\n",
    "            \n",
    "    return classes\n",
    "\n",
    "classes = label_encode(df1)\n",
    "classes"
   ]
  },
  {
   "cell_type": "code",
   "execution_count": 39,
   "id": "ac6b6a96-7b8a-487e-ad90-c44d01891091",
   "metadata": {},
   "outputs": [
    {
     "data": {
      "text/html": [
       "<div>\n",
       "<style scoped>\n",
       "    .dataframe tbody tr th:only-of-type {\n",
       "        vertical-align: middle;\n",
       "    }\n",
       "\n",
       "    .dataframe tbody tr th {\n",
       "        vertical-align: top;\n",
       "    }\n",
       "\n",
       "    .dataframe thead th {\n",
       "        text-align: right;\n",
       "    }\n",
       "</style>\n",
       "<table border=\"1\" class=\"dataframe\">\n",
       "  <thead>\n",
       "    <tr style=\"text-align: right;\">\n",
       "      <th></th>\n",
       "      <th>age</th>\n",
       "      <th>job</th>\n",
       "      <th>marital</th>\n",
       "      <th>education</th>\n",
       "      <th>default</th>\n",
       "      <th>housing</th>\n",
       "      <th>loan</th>\n",
       "      <th>month</th>\n",
       "      <th>day_of_week</th>\n",
       "      <th>duration</th>\n",
       "      <th>campaign</th>\n",
       "      <th>previous</th>\n",
       "      <th>emp_var_rate</th>\n",
       "      <th>cons_price_idx</th>\n",
       "      <th>cons_conf_idx</th>\n",
       "      <th>euribor3m</th>\n",
       "      <th>nr_employed</th>\n",
       "      <th>y</th>\n",
       "      <th>dur_bin</th>\n",
       "    </tr>\n",
       "  </thead>\n",
       "  <tbody>\n",
       "    <tr>\n",
       "      <th>0</th>\n",
       "      <td>56</td>\n",
       "      <td>3</td>\n",
       "      <td>1</td>\n",
       "      <td>0</td>\n",
       "      <td>0</td>\n",
       "      <td>0</td>\n",
       "      <td>0</td>\n",
       "      <td>6</td>\n",
       "      <td>1</td>\n",
       "      <td>261</td>\n",
       "      <td>1</td>\n",
       "      <td>0</td>\n",
       "      <td>1.1</td>\n",
       "      <td>93.994</td>\n",
       "      <td>-36.4</td>\n",
       "      <td>4.857</td>\n",
       "      <td>5191.0</td>\n",
       "      <td>0</td>\n",
       "      <td>260</td>\n",
       "    </tr>\n",
       "    <tr>\n",
       "      <th>1</th>\n",
       "      <td>57</td>\n",
       "      <td>7</td>\n",
       "      <td>1</td>\n",
       "      <td>3</td>\n",
       "      <td>1</td>\n",
       "      <td>0</td>\n",
       "      <td>0</td>\n",
       "      <td>6</td>\n",
       "      <td>1</td>\n",
       "      <td>149</td>\n",
       "      <td>1</td>\n",
       "      <td>0</td>\n",
       "      <td>1.1</td>\n",
       "      <td>93.994</td>\n",
       "      <td>-36.4</td>\n",
       "      <td>4.857</td>\n",
       "      <td>5191.0</td>\n",
       "      <td>0</td>\n",
       "      <td>140</td>\n",
       "    </tr>\n",
       "    <tr>\n",
       "      <th>2</th>\n",
       "      <td>37</td>\n",
       "      <td>7</td>\n",
       "      <td>1</td>\n",
       "      <td>3</td>\n",
       "      <td>0</td>\n",
       "      <td>1</td>\n",
       "      <td>0</td>\n",
       "      <td>6</td>\n",
       "      <td>1</td>\n",
       "      <td>226</td>\n",
       "      <td>1</td>\n",
       "      <td>0</td>\n",
       "      <td>1.1</td>\n",
       "      <td>93.994</td>\n",
       "      <td>-36.4</td>\n",
       "      <td>4.857</td>\n",
       "      <td>5191.0</td>\n",
       "      <td>0</td>\n",
       "      <td>220</td>\n",
       "    </tr>\n",
       "    <tr>\n",
       "      <th>3</th>\n",
       "      <td>40</td>\n",
       "      <td>0</td>\n",
       "      <td>1</td>\n",
       "      <td>1</td>\n",
       "      <td>0</td>\n",
       "      <td>0</td>\n",
       "      <td>0</td>\n",
       "      <td>6</td>\n",
       "      <td>1</td>\n",
       "      <td>151</td>\n",
       "      <td>1</td>\n",
       "      <td>0</td>\n",
       "      <td>1.1</td>\n",
       "      <td>93.994</td>\n",
       "      <td>-36.4</td>\n",
       "      <td>4.857</td>\n",
       "      <td>5191.0</td>\n",
       "      <td>0</td>\n",
       "      <td>150</td>\n",
       "    </tr>\n",
       "    <tr>\n",
       "      <th>4</th>\n",
       "      <td>56</td>\n",
       "      <td>7</td>\n",
       "      <td>1</td>\n",
       "      <td>3</td>\n",
       "      <td>0</td>\n",
       "      <td>0</td>\n",
       "      <td>1</td>\n",
       "      <td>6</td>\n",
       "      <td>1</td>\n",
       "      <td>307</td>\n",
       "      <td>1</td>\n",
       "      <td>0</td>\n",
       "      <td>1.1</td>\n",
       "      <td>93.994</td>\n",
       "      <td>-36.4</td>\n",
       "      <td>4.857</td>\n",
       "      <td>5191.0</td>\n",
       "      <td>0</td>\n",
       "      <td>300</td>\n",
       "    </tr>\n",
       "  </tbody>\n",
       "</table>\n",
       "</div>"
      ],
      "text/plain": [
       "   age  job  marital  education  default  housing  loan  month  day_of_week  \\\n",
       "0   56    3        1          0        0        0     0      6            1   \n",
       "1   57    7        1          3        1        0     0      6            1   \n",
       "2   37    7        1          3        0        1     0      6            1   \n",
       "3   40    0        1          1        0        0     0      6            1   \n",
       "4   56    7        1          3        0        0     1      6            1   \n",
       "\n",
       "   duration  campaign  previous  emp_var_rate  cons_price_idx  cons_conf_idx  \\\n",
       "0       261         1         0           1.1          93.994          -36.4   \n",
       "1       149         1         0           1.1          93.994          -36.4   \n",
       "2       226         1         0           1.1          93.994          -36.4   \n",
       "3       151         1         0           1.1          93.994          -36.4   \n",
       "4       307         1         0           1.1          93.994          -36.4   \n",
       "\n",
       "   euribor3m  nr_employed  y  dur_bin  \n",
       "0      4.857       5191.0  0      260  \n",
       "1      4.857       5191.0  0      140  \n",
       "2      4.857       5191.0  0      220  \n",
       "3      4.857       5191.0  0      150  \n",
       "4      4.857       5191.0  0      300  "
      ]
     },
     "execution_count": 39,
     "metadata": {},
     "output_type": "execute_result"
    }
   ],
   "source": [
    "df1.head()"
   ]
  },
  {
   "cell_type": "markdown",
   "id": "d7f2e53a-da9c-4c02-ade1-f7956ff57a5b",
   "metadata": {},
   "source": [
    "## values of duration cons_price_idx and nr_employed needs to be scaled down also we need to have a column for no of loans that adds up housing and other loans"
   ]
  },
  {
   "cell_type": "code",
   "execution_count": 40,
   "id": "1b428fc3-6038-47ec-921c-efb1048932fe",
   "metadata": {},
   "outputs": [
    {
     "name": "stderr",
     "output_type": "stream",
     "text": [
      "<ipython-input-40-ac2bbe82a7fa>:1: SettingWithCopyWarning: \n",
      "A value is trying to be set on a copy of a slice from a DataFrame.\n",
      "Try using .loc[row_indexer,col_indexer] = value instead\n",
      "\n",
      "See the caveats in the documentation: https://pandas.pydata.org/pandas-docs/stable/user_guide/indexing.html#returning-a-view-versus-a-copy\n",
      "  df1['no_of_loans'] = df1.housing + df1.loan\n"
     ]
    }
   ],
   "source": [
    "df1['no_of_loans'] = df1.housing + df1.loan\n",
    "\n",
    "from sklearn.preprocessing import scale"
   ]
  },
  {
   "cell_type": "code",
   "execution_count": 42,
   "id": "5ff51922-4925-4a64-bce5-9ab30be0a650",
   "metadata": {},
   "outputs": [
    {
     "name": "stderr",
     "output_type": "stream",
     "text": [
      "<ipython-input-42-5a1af752afc1>:2: SettingWithCopyWarning: \n",
      "A value is trying to be set on a copy of a slice from a DataFrame.\n",
      "Try using .loc[row_indexer,col_indexer] = value instead\n",
      "\n",
      "See the caveats in the documentation: https://pandas.pydata.org/pandas-docs/stable/user_guide/indexing.html#returning-a-view-versus-a-copy\n",
      "  df1['duration'] = df1.duration/60\n"
     ]
    }
   ],
   "source": [
    "# converting duration to minutes which scales down the values so no need to scale the conversation\n",
    "df1['duration'] = df1.duration/60"
   ]
  },
  {
   "cell_type": "code",
   "execution_count": 44,
   "id": "d3b8ecf6-4638-47ad-b8fb-72f0d75a2ff4",
   "metadata": {},
   "outputs": [
    {
     "data": {
      "text/html": [
       "<div>\n",
       "<style scoped>\n",
       "    .dataframe tbody tr th:only-of-type {\n",
       "        vertical-align: middle;\n",
       "    }\n",
       "\n",
       "    .dataframe tbody tr th {\n",
       "        vertical-align: top;\n",
       "    }\n",
       "\n",
       "    .dataframe thead th {\n",
       "        text-align: right;\n",
       "    }\n",
       "</style>\n",
       "<table border=\"1\" class=\"dataframe\">\n",
       "  <thead>\n",
       "    <tr style=\"text-align: right;\">\n",
       "      <th></th>\n",
       "      <th>age</th>\n",
       "      <th>job</th>\n",
       "      <th>marital</th>\n",
       "      <th>education</th>\n",
       "      <th>default</th>\n",
       "      <th>housing</th>\n",
       "      <th>loan</th>\n",
       "      <th>month</th>\n",
       "      <th>day_of_week</th>\n",
       "      <th>duration</th>\n",
       "      <th>campaign</th>\n",
       "      <th>previous</th>\n",
       "      <th>emp_var_rate</th>\n",
       "      <th>cons_price_idx</th>\n",
       "      <th>cons_conf_idx</th>\n",
       "      <th>euribor3m</th>\n",
       "      <th>nr_employed</th>\n",
       "      <th>y</th>\n",
       "      <th>dur_bin</th>\n",
       "      <th>no_of_loans</th>\n",
       "    </tr>\n",
       "  </thead>\n",
       "  <tbody>\n",
       "    <tr>\n",
       "      <th>0</th>\n",
       "      <td>56</td>\n",
       "      <td>3</td>\n",
       "      <td>1</td>\n",
       "      <td>0</td>\n",
       "      <td>0</td>\n",
       "      <td>0</td>\n",
       "      <td>0</td>\n",
       "      <td>6</td>\n",
       "      <td>1</td>\n",
       "      <td>4.350000</td>\n",
       "      <td>1</td>\n",
       "      <td>0</td>\n",
       "      <td>1.1</td>\n",
       "      <td>93.994</td>\n",
       "      <td>-36.4</td>\n",
       "      <td>4.857</td>\n",
       "      <td>5191.0</td>\n",
       "      <td>0</td>\n",
       "      <td>260</td>\n",
       "      <td>0</td>\n",
       "    </tr>\n",
       "    <tr>\n",
       "      <th>1</th>\n",
       "      <td>57</td>\n",
       "      <td>7</td>\n",
       "      <td>1</td>\n",
       "      <td>3</td>\n",
       "      <td>1</td>\n",
       "      <td>0</td>\n",
       "      <td>0</td>\n",
       "      <td>6</td>\n",
       "      <td>1</td>\n",
       "      <td>2.483333</td>\n",
       "      <td>1</td>\n",
       "      <td>0</td>\n",
       "      <td>1.1</td>\n",
       "      <td>93.994</td>\n",
       "      <td>-36.4</td>\n",
       "      <td>4.857</td>\n",
       "      <td>5191.0</td>\n",
       "      <td>0</td>\n",
       "      <td>140</td>\n",
       "      <td>0</td>\n",
       "    </tr>\n",
       "    <tr>\n",
       "      <th>2</th>\n",
       "      <td>37</td>\n",
       "      <td>7</td>\n",
       "      <td>1</td>\n",
       "      <td>3</td>\n",
       "      <td>0</td>\n",
       "      <td>1</td>\n",
       "      <td>0</td>\n",
       "      <td>6</td>\n",
       "      <td>1</td>\n",
       "      <td>3.766667</td>\n",
       "      <td>1</td>\n",
       "      <td>0</td>\n",
       "      <td>1.1</td>\n",
       "      <td>93.994</td>\n",
       "      <td>-36.4</td>\n",
       "      <td>4.857</td>\n",
       "      <td>5191.0</td>\n",
       "      <td>0</td>\n",
       "      <td>220</td>\n",
       "      <td>1</td>\n",
       "    </tr>\n",
       "    <tr>\n",
       "      <th>3</th>\n",
       "      <td>40</td>\n",
       "      <td>0</td>\n",
       "      <td>1</td>\n",
       "      <td>1</td>\n",
       "      <td>0</td>\n",
       "      <td>0</td>\n",
       "      <td>0</td>\n",
       "      <td>6</td>\n",
       "      <td>1</td>\n",
       "      <td>2.516667</td>\n",
       "      <td>1</td>\n",
       "      <td>0</td>\n",
       "      <td>1.1</td>\n",
       "      <td>93.994</td>\n",
       "      <td>-36.4</td>\n",
       "      <td>4.857</td>\n",
       "      <td>5191.0</td>\n",
       "      <td>0</td>\n",
       "      <td>150</td>\n",
       "      <td>0</td>\n",
       "    </tr>\n",
       "    <tr>\n",
       "      <th>4</th>\n",
       "      <td>56</td>\n",
       "      <td>7</td>\n",
       "      <td>1</td>\n",
       "      <td>3</td>\n",
       "      <td>0</td>\n",
       "      <td>0</td>\n",
       "      <td>1</td>\n",
       "      <td>6</td>\n",
       "      <td>1</td>\n",
       "      <td>5.116667</td>\n",
       "      <td>1</td>\n",
       "      <td>0</td>\n",
       "      <td>1.1</td>\n",
       "      <td>93.994</td>\n",
       "      <td>-36.4</td>\n",
       "      <td>4.857</td>\n",
       "      <td>5191.0</td>\n",
       "      <td>0</td>\n",
       "      <td>300</td>\n",
       "      <td>1</td>\n",
       "    </tr>\n",
       "  </tbody>\n",
       "</table>\n",
       "</div>"
      ],
      "text/plain": [
       "   age  job  marital  education  default  housing  loan  month  day_of_week  \\\n",
       "0   56    3        1          0        0        0     0      6            1   \n",
       "1   57    7        1          3        1        0     0      6            1   \n",
       "2   37    7        1          3        0        1     0      6            1   \n",
       "3   40    0        1          1        0        0     0      6            1   \n",
       "4   56    7        1          3        0        0     1      6            1   \n",
       "\n",
       "   duration  campaign  previous  emp_var_rate  cons_price_idx  cons_conf_idx  \\\n",
       "0  4.350000         1         0           1.1          93.994          -36.4   \n",
       "1  2.483333         1         0           1.1          93.994          -36.4   \n",
       "2  3.766667         1         0           1.1          93.994          -36.4   \n",
       "3  2.516667         1         0           1.1          93.994          -36.4   \n",
       "4  5.116667         1         0           1.1          93.994          -36.4   \n",
       "\n",
       "   euribor3m  nr_employed  y  dur_bin  no_of_loans  \n",
       "0      4.857       5191.0  0      260            0  \n",
       "1      4.857       5191.0  0      140            0  \n",
       "2      4.857       5191.0  0      220            1  \n",
       "3      4.857       5191.0  0      150            0  \n",
       "4      4.857       5191.0  0      300            1  "
      ]
     },
     "execution_count": 44,
     "metadata": {},
     "output_type": "execute_result"
    }
   ],
   "source": [
    "df1.head()"
   ]
  },
  {
   "cell_type": "code",
   "execution_count": 46,
   "id": "25c48e01-e23e-419c-ad2d-c123c2b0a3bd",
   "metadata": {},
   "outputs": [
    {
     "name": "stderr",
     "output_type": "stream",
     "text": [
      "C:\\ProgramData\\Anaconda3\\lib\\site-packages\\pandas\\core\\generic.py:5494: SettingWithCopyWarning: \n",
      "A value is trying to be set on a copy of a slice from a DataFrame.\n",
      "Try using .loc[row_indexer,col_indexer] = value instead\n",
      "\n",
      "See the caveats in the documentation: https://pandas.pydata.org/pandas-docs/stable/user_guide/indexing.html#returning-a-view-versus-a-copy\n",
      "  self[name] = value\n",
      "C:\\ProgramData\\Anaconda3\\lib\\site-packages\\pandas\\core\\generic.py:5494: SettingWithCopyWarning: \n",
      "A value is trying to be set on a copy of a slice from a DataFrame.\n",
      "Try using .loc[row_indexer,col_indexer] = value instead\n",
      "\n",
      "See the caveats in the documentation: https://pandas.pydata.org/pandas-docs/stable/user_guide/indexing.html#returning-a-view-versus-a-copy\n",
      "  self[name] = value\n"
     ]
    }
   ],
   "source": [
    "df1.cons_price_idx = scale(df1.cons_price_idx)\n",
    "df1.nr_employed = scale(df1.nr_employed)"
   ]
  },
  {
   "cell_type": "markdown",
   "id": "f4de590b-4024-44cf-b27f-db818b659f66",
   "metadata": {},
   "source": [
    "# Now lets move forward towards feature selection"
   ]
  },
  {
   "cell_type": "code",
   "execution_count": 50,
   "id": "5787250a-5f07-4bf1-8a24-6cea7bd147af",
   "metadata": {},
   "outputs": [],
   "source": [
    "X = pd.concat([df1.iloc[:,:-3], df1.iloc[:, -2:]], axis=1)\n",
    "y = df1.y"
   ]
  },
  {
   "cell_type": "code",
   "execution_count": 51,
   "id": "ea37ea90-4ccc-466a-87fd-1de876f42f51",
   "metadata": {},
   "outputs": [
    {
     "data": {
      "text/plain": [
       "RandomForestClassifier(random_state=20)"
      ]
     },
     "execution_count": 51,
     "metadata": {},
     "output_type": "execute_result"
    }
   ],
   "source": [
    "from sklearn.ensemble import RandomForestClassifier\n",
    "\n",
    "model = RandomForestClassifier(random_state=20)\n",
    "\n",
    "model.fit(X, y)"
   ]
  },
  {
   "cell_type": "code",
   "execution_count": 54,
   "id": "61891410-fda4-4489-9325-faf8e05e93c6",
   "metadata": {},
   "outputs": [],
   "source": [
    "feature_imp = pd.DataFrame(model.feature_importances_, index=X.columns).sort_values(0, ascending=False)"
   ]
  },
  {
   "cell_type": "code",
   "execution_count": 59,
   "id": "20f256b5-978c-46ee-9397-64250d61f5bf",
   "metadata": {},
   "outputs": [],
   "source": [
    "X = df1[list(feature_imp.iloc[:15,:].index)]"
   ]
  },
  {
   "cell_type": "markdown",
   "id": "2e1c3bfd-07a7-43fe-a553-ee5dc7f56c77",
   "metadata": {},
   "source": [
    "# Model Selection"
   ]
  },
  {
   "cell_type": "markdown",
   "id": "1d342871-1566-493e-813e-d5316cd2b5ce",
   "metadata": {},
   "source": [
    "Here we shall use the KFold Cross validation to distribute the validation data and test data accordingly and then we shall use the cross_validation_score to check how each model performs along with validations so lets start with the usual train test split"
   ]
  },
  {
   "cell_type": "code",
   "execution_count": 60,
   "id": "fd3fdd5b-958e-43b5-b76d-ff2cff4862c0",
   "metadata": {},
   "outputs": [],
   "source": [
    "test_size = 0.25\n",
    "random_seed = 19\n",
    "\n",
    "X_train, X_test, y_train, y_test = train_test_split(X, y, test_size=test_size, random_state=random_seed)"
   ]
  },
  {
   "cell_type": "code",
   "execution_count": 67,
   "id": "34a452e4-ea74-48b0-bf78-a0354e1a919e",
   "metadata": {},
   "outputs": [],
   "source": [
    "from sklearn.linear_model import LogisticRegression\n",
    "from sklearn.cluster import KMeans\n",
    "from sklearn.neighbors import KNeighborsClassifier\n",
    "from sklearn.neural_network import MLPClassifier\n",
    "from sklearn.naive_bayes import GaussianNB"
   ]
  },
  {
   "cell_type": "markdown",
   "id": "a0423f13-8070-4c06-92be-7f75158812b0",
   "metadata": {},
   "source": [
    "Here we shall test on SVM and XGBoost later on as these require some heavy compute"
   ]
  },
  {
   "cell_type": "code",
   "execution_count": 68,
   "id": "f9037b28-a2ea-465d-8e63-6ede4a5a13ac",
   "metadata": {},
   "outputs": [],
   "source": [
    "models = {\n",
    "    'logr': LogisticRegression(),\n",
    "    'knn': KNeighborsClassifier(),\n",
    "    'Kmeans': KMeans(),\n",
    "    'naive_bayes': GaussianNB(),\n",
    "    'MLP': MLPClassifier()\n",
    "}"
   ]
  },
  {
   "cell_type": "code",
   "execution_count": 69,
   "id": "0fa2603e-4eaf-4482-90da-ec4f735f8082",
   "metadata": {},
   "outputs": [],
   "source": [
    "from sklearn.model_selection import KFold, cross_val_score"
   ]
  },
  {
   "cell_type": "code",
   "execution_count": 72,
   "id": "f1320f23-7908-4cc6-8bdc-476fa68bc5f1",
   "metadata": {},
   "outputs": [
    {
     "name": "stderr",
     "output_type": "stream",
     "text": [
      "C:\\ProgramData\\Anaconda3\\lib\\site-packages\\sklearn\\linear_model\\_logistic.py:763: ConvergenceWarning: lbfgs failed to converge (status=1):\n",
      "STOP: TOTAL NO. of ITERATIONS REACHED LIMIT.\n",
      "\n",
      "Increase the number of iterations (max_iter) or scale the data as shown in:\n",
      "    https://scikit-learn.org/stable/modules/preprocessing.html\n",
      "Please also refer to the documentation for alternative solver options:\n",
      "    https://scikit-learn.org/stable/modules/linear_model.html#logistic-regression\n",
      "  n_iter_i = _check_optimize_result(\n",
      "C:\\ProgramData\\Anaconda3\\lib\\site-packages\\sklearn\\linear_model\\_logistic.py:763: ConvergenceWarning: lbfgs failed to converge (status=1):\n",
      "STOP: TOTAL NO. of ITERATIONS REACHED LIMIT.\n",
      "\n",
      "Increase the number of iterations (max_iter) or scale the data as shown in:\n",
      "    https://scikit-learn.org/stable/modules/preprocessing.html\n",
      "Please also refer to the documentation for alternative solver options:\n",
      "    https://scikit-learn.org/stable/modules/linear_model.html#logistic-regression\n",
      "  n_iter_i = _check_optimize_result(\n",
      "C:\\ProgramData\\Anaconda3\\lib\\site-packages\\sklearn\\linear_model\\_logistic.py:763: ConvergenceWarning: lbfgs failed to converge (status=1):\n",
      "STOP: TOTAL NO. of ITERATIONS REACHED LIMIT.\n",
      "\n",
      "Increase the number of iterations (max_iter) or scale the data as shown in:\n",
      "    https://scikit-learn.org/stable/modules/preprocessing.html\n",
      "Please also refer to the documentation for alternative solver options:\n",
      "    https://scikit-learn.org/stable/modules/linear_model.html#logistic-regression\n",
      "  n_iter_i = _check_optimize_result(\n",
      "C:\\ProgramData\\Anaconda3\\lib\\site-packages\\sklearn\\linear_model\\_logistic.py:763: ConvergenceWarning: lbfgs failed to converge (status=1):\n",
      "STOP: TOTAL NO. of ITERATIONS REACHED LIMIT.\n",
      "\n",
      "Increase the number of iterations (max_iter) or scale the data as shown in:\n",
      "    https://scikit-learn.org/stable/modules/preprocessing.html\n",
      "Please also refer to the documentation for alternative solver options:\n",
      "    https://scikit-learn.org/stable/modules/linear_model.html#logistic-regression\n",
      "  n_iter_i = _check_optimize_result(\n",
      "C:\\ProgramData\\Anaconda3\\lib\\site-packages\\sklearn\\linear_model\\_logistic.py:763: ConvergenceWarning: lbfgs failed to converge (status=1):\n",
      "STOP: TOTAL NO. of ITERATIONS REACHED LIMIT.\n",
      "\n",
      "Increase the number of iterations (max_iter) or scale the data as shown in:\n",
      "    https://scikit-learn.org/stable/modules/preprocessing.html\n",
      "Please also refer to the documentation for alternative solver options:\n",
      "    https://scikit-learn.org/stable/modules/linear_model.html#logistic-regression\n",
      "  n_iter_i = _check_optimize_result(\n",
      "C:\\ProgramData\\Anaconda3\\lib\\site-packages\\sklearn\\linear_model\\_logistic.py:763: ConvergenceWarning: lbfgs failed to converge (status=1):\n",
      "STOP: TOTAL NO. of ITERATIONS REACHED LIMIT.\n",
      "\n",
      "Increase the number of iterations (max_iter) or scale the data as shown in:\n",
      "    https://scikit-learn.org/stable/modules/preprocessing.html\n",
      "Please also refer to the documentation for alternative solver options:\n",
      "    https://scikit-learn.org/stable/modules/linear_model.html#logistic-regression\n",
      "  n_iter_i = _check_optimize_result(\n",
      "C:\\ProgramData\\Anaconda3\\lib\\site-packages\\sklearn\\linear_model\\_logistic.py:763: ConvergenceWarning: lbfgs failed to converge (status=1):\n",
      "STOP: TOTAL NO. of ITERATIONS REACHED LIMIT.\n",
      "\n",
      "Increase the number of iterations (max_iter) or scale the data as shown in:\n",
      "    https://scikit-learn.org/stable/modules/preprocessing.html\n",
      "Please also refer to the documentation for alternative solver options:\n",
      "    https://scikit-learn.org/stable/modules/linear_model.html#logistic-regression\n",
      "  n_iter_i = _check_optimize_result(\n",
      "C:\\ProgramData\\Anaconda3\\lib\\site-packages\\sklearn\\linear_model\\_logistic.py:763: ConvergenceWarning: lbfgs failed to converge (status=1):\n",
      "STOP: TOTAL NO. of ITERATIONS REACHED LIMIT.\n",
      "\n",
      "Increase the number of iterations (max_iter) or scale the data as shown in:\n",
      "    https://scikit-learn.org/stable/modules/preprocessing.html\n",
      "Please also refer to the documentation for alternative solver options:\n",
      "    https://scikit-learn.org/stable/modules/linear_model.html#logistic-regression\n",
      "  n_iter_i = _check_optimize_result(\n",
      "C:\\ProgramData\\Anaconda3\\lib\\site-packages\\sklearn\\linear_model\\_logistic.py:763: ConvergenceWarning: lbfgs failed to converge (status=1):\n",
      "STOP: TOTAL NO. of ITERATIONS REACHED LIMIT.\n",
      "\n",
      "Increase the number of iterations (max_iter) or scale the data as shown in:\n",
      "    https://scikit-learn.org/stable/modules/preprocessing.html\n",
      "Please also refer to the documentation for alternative solver options:\n",
      "    https://scikit-learn.org/stable/modules/linear_model.html#logistic-regression\n",
      "  n_iter_i = _check_optimize_result(\n",
      "C:\\ProgramData\\Anaconda3\\lib\\site-packages\\sklearn\\linear_model\\_logistic.py:763: ConvergenceWarning: lbfgs failed to converge (status=1):\n",
      "STOP: TOTAL NO. of ITERATIONS REACHED LIMIT.\n",
      "\n",
      "Increase the number of iterations (max_iter) or scale the data as shown in:\n",
      "    https://scikit-learn.org/stable/modules/preprocessing.html\n",
      "Please also refer to the documentation for alternative solver options:\n",
      "    https://scikit-learn.org/stable/modules/linear_model.html#logistic-regression\n",
      "  n_iter_i = _check_optimize_result(\n"
     ]
    },
    {
     "data": {
      "text/plain": [
       "{'logr': (array([0.90048474, 0.90647277, 0.89421158, 0.90419162, 0.89221557,\n",
       "         0.90846878, 0.90846878, 0.89104392, 0.90958357, 0.89845978]),\n",
       "  0.901360110843426,\n",
       "  0.006731822221752647),\n",
       " 'knn': (array([0.87738808, 0.89449672, 0.88964927, 0.88964927, 0.88252067,\n",
       "         0.89592244, 0.89250071, 0.88419852, 0.89446663, 0.88904735]),\n",
       "  0.888983966709235,\n",
       "  0.005665584798319078),\n",
       " 'Kmeans': (array([0.37553464, 0.09039065, 0.05531794, 0.36954662, 0.37125749,\n",
       "         0.37268321, 0.03393214, 0.15830006, 0.38904735, 0.08300057]),\n",
       "  0.229901064955087,\n",
       "  0.14881486611163985),\n",
       " 'naive_bayes': (array([0.86683775, 0.85799829, 0.87225549, 0.86683775, 0.87197035,\n",
       "         0.87339607, 0.87510693, 0.87621221, 0.867085  , 0.86737022]),\n",
       "  0.8695070050592321,\n",
       "  0.005120529286931819),\n",
       " 'MLP': (array([0.89449672, 0.9047619 , 0.88993442, 0.90504705, 0.89421158,\n",
       "         0.8905047 , 0.89734816, 0.89589276, 0.90387906, 0.89703366]),\n",
       "  0.8973110010115862,\n",
       "  0.0052806992361068535)}"
      ]
     },
     "execution_count": 72,
     "metadata": {},
     "output_type": "execute_result"
    }
   ],
   "source": [
    "model_report = {}\n",
    "for key, value in models.items():\n",
    "    \n",
    "    # lets first create k folds of our dataset\n",
    "    kfold = KFold(n_splits=10, random_state=15, shuffle=True)\n",
    "    \n",
    "    # now lets train and varify each model's cross validations score\n",
    "    cv_report = cross_val_score(value, X, y=y, cv=kfold, scoring='accuracy')\n",
    "    model_report.update(**{\n",
    "        key: (cv_report, cv_report.mean(), cv_report.std())\n",
    "    })\n",
    "\n",
    "model_report"
   ]
  },
  {
   "cell_type": "code",
   "execution_count": 73,
   "id": "a6819c51-5258-45d8-9020-01fda4d65744",
   "metadata": {},
   "outputs": [],
   "source": [
    "# clearly logistic regression is the way to go"
   ]
  },
  {
   "cell_type": "code",
   "execution_count": null,
   "id": "14b61aac-4e8e-41e6-a97a-f481b57e7399",
   "metadata": {},
   "outputs": [],
   "source": []
  }
 ],
 "metadata": {
  "kernelspec": {
   "display_name": "Python 3",
   "language": "python",
   "name": "python3"
  },
  "language_info": {
   "codemirror_mode": {
    "name": "ipython",
    "version": 3
   },
   "file_extension": ".py",
   "mimetype": "text/x-python",
   "name": "python",
   "nbconvert_exporter": "python",
   "pygments_lexer": "ipython3",
   "version": "3.8.8"
  }
 },
 "nbformat": 4,
 "nbformat_minor": 5
}
