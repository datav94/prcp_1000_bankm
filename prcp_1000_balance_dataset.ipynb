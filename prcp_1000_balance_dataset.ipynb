{
 "cells": [
  {
   "cell_type": "markdown",
   "id": "f948a832-cfdb-4213-ba5d-f47c7456e0ba",
   "metadata": {},
   "source": [
    "# Feature selection"
   ]
  },
  {
   "cell_type": "code",
   "execution_count": 1,
   "id": "4f587201-ae89-40b4-86bd-a1556db66c48",
   "metadata": {},
   "outputs": [],
   "source": [
    "# loading data using .env file\n",
    "import os\n",
    "import pandas as pd\n",
    "import numpy as np\n",
    "import matplotlib.pyplot as plt\n",
    "import tensorflow as tf\n",
    "import seaborn as sns\n",
    "from sklearn.preprocessing import LabelEncoder, MultiLabelBinarizer, OneHotEncoder\n",
    "from sklearn.model_selection import train_test_split\n",
    "from scipy import stats\n",
    "from dotenv import load_dotenv\n",
    "\n",
    "dotenv_path = os.getcwd()+'\\\\local.env'\n",
    "load_dotenv(dotenv_path=dotenv_path)\n",
    "\n",
    "%matplotlib inline"
   ]
  },
  {
   "cell_type": "code",
   "execution_count": 2,
   "id": "ff38b4e6-2b46-418e-b7b5-bc205fe57db7",
   "metadata": {},
   "outputs": [
    {
     "data": {
      "text/html": [
       "<div>\n",
       "<style scoped>\n",
       "    .dataframe tbody tr th:only-of-type {\n",
       "        vertical-align: middle;\n",
       "    }\n",
       "\n",
       "    .dataframe tbody tr th {\n",
       "        vertical-align: top;\n",
       "    }\n",
       "\n",
       "    .dataframe thead th {\n",
       "        text-align: right;\n",
       "    }\n",
       "</style>\n",
       "<table border=\"1\" class=\"dataframe\">\n",
       "  <thead>\n",
       "    <tr style=\"text-align: right;\">\n",
       "      <th></th>\n",
       "      <th>age</th>\n",
       "      <th>job</th>\n",
       "      <th>marital</th>\n",
       "      <th>education</th>\n",
       "      <th>default</th>\n",
       "      <th>housing</th>\n",
       "      <th>loan</th>\n",
       "      <th>contact</th>\n",
       "      <th>month</th>\n",
       "      <th>day_of_week</th>\n",
       "      <th>...</th>\n",
       "      <th>campaign</th>\n",
       "      <th>pdays</th>\n",
       "      <th>previous</th>\n",
       "      <th>poutcome</th>\n",
       "      <th>emp_var_rate</th>\n",
       "      <th>cons_price_idx</th>\n",
       "      <th>cons_conf_idx</th>\n",
       "      <th>euribor3m</th>\n",
       "      <th>nr_employed</th>\n",
       "      <th>y</th>\n",
       "    </tr>\n",
       "  </thead>\n",
       "  <tbody>\n",
       "    <tr>\n",
       "      <th>0</th>\n",
       "      <td>56</td>\n",
       "      <td>housemaid</td>\n",
       "      <td>married</td>\n",
       "      <td>basic.4y</td>\n",
       "      <td>no</td>\n",
       "      <td>no</td>\n",
       "      <td>no</td>\n",
       "      <td>telephone</td>\n",
       "      <td>may</td>\n",
       "      <td>mon</td>\n",
       "      <td>...</td>\n",
       "      <td>1</td>\n",
       "      <td>999</td>\n",
       "      <td>0</td>\n",
       "      <td>nonexistent</td>\n",
       "      <td>1.1</td>\n",
       "      <td>93.994</td>\n",
       "      <td>-36.4</td>\n",
       "      <td>4.857</td>\n",
       "      <td>5191.0</td>\n",
       "      <td>no</td>\n",
       "    </tr>\n",
       "    <tr>\n",
       "      <th>1</th>\n",
       "      <td>57</td>\n",
       "      <td>services</td>\n",
       "      <td>married</td>\n",
       "      <td>high.school</td>\n",
       "      <td>unknown</td>\n",
       "      <td>no</td>\n",
       "      <td>no</td>\n",
       "      <td>telephone</td>\n",
       "      <td>may</td>\n",
       "      <td>mon</td>\n",
       "      <td>...</td>\n",
       "      <td>1</td>\n",
       "      <td>999</td>\n",
       "      <td>0</td>\n",
       "      <td>nonexistent</td>\n",
       "      <td>1.1</td>\n",
       "      <td>93.994</td>\n",
       "      <td>-36.4</td>\n",
       "      <td>4.857</td>\n",
       "      <td>5191.0</td>\n",
       "      <td>no</td>\n",
       "    </tr>\n",
       "    <tr>\n",
       "      <th>2</th>\n",
       "      <td>37</td>\n",
       "      <td>services</td>\n",
       "      <td>married</td>\n",
       "      <td>high.school</td>\n",
       "      <td>no</td>\n",
       "      <td>yes</td>\n",
       "      <td>no</td>\n",
       "      <td>telephone</td>\n",
       "      <td>may</td>\n",
       "      <td>mon</td>\n",
       "      <td>...</td>\n",
       "      <td>1</td>\n",
       "      <td>999</td>\n",
       "      <td>0</td>\n",
       "      <td>nonexistent</td>\n",
       "      <td>1.1</td>\n",
       "      <td>93.994</td>\n",
       "      <td>-36.4</td>\n",
       "      <td>4.857</td>\n",
       "      <td>5191.0</td>\n",
       "      <td>no</td>\n",
       "    </tr>\n",
       "    <tr>\n",
       "      <th>3</th>\n",
       "      <td>40</td>\n",
       "      <td>admin.</td>\n",
       "      <td>married</td>\n",
       "      <td>basic.6y</td>\n",
       "      <td>no</td>\n",
       "      <td>no</td>\n",
       "      <td>no</td>\n",
       "      <td>telephone</td>\n",
       "      <td>may</td>\n",
       "      <td>mon</td>\n",
       "      <td>...</td>\n",
       "      <td>1</td>\n",
       "      <td>999</td>\n",
       "      <td>0</td>\n",
       "      <td>nonexistent</td>\n",
       "      <td>1.1</td>\n",
       "      <td>93.994</td>\n",
       "      <td>-36.4</td>\n",
       "      <td>4.857</td>\n",
       "      <td>5191.0</td>\n",
       "      <td>no</td>\n",
       "    </tr>\n",
       "    <tr>\n",
       "      <th>4</th>\n",
       "      <td>56</td>\n",
       "      <td>services</td>\n",
       "      <td>married</td>\n",
       "      <td>high.school</td>\n",
       "      <td>no</td>\n",
       "      <td>no</td>\n",
       "      <td>yes</td>\n",
       "      <td>telephone</td>\n",
       "      <td>may</td>\n",
       "      <td>mon</td>\n",
       "      <td>...</td>\n",
       "      <td>1</td>\n",
       "      <td>999</td>\n",
       "      <td>0</td>\n",
       "      <td>nonexistent</td>\n",
       "      <td>1.1</td>\n",
       "      <td>93.994</td>\n",
       "      <td>-36.4</td>\n",
       "      <td>4.857</td>\n",
       "      <td>5191.0</td>\n",
       "      <td>no</td>\n",
       "    </tr>\n",
       "  </tbody>\n",
       "</table>\n",
       "<p>5 rows × 21 columns</p>\n",
       "</div>"
      ],
      "text/plain": [
       "   age        job  marital    education  default housing loan    contact  \\\n",
       "0   56  housemaid  married     basic.4y       no      no   no  telephone   \n",
       "1   57   services  married  high.school  unknown      no   no  telephone   \n",
       "2   37   services  married  high.school       no     yes   no  telephone   \n",
       "3   40     admin.  married     basic.6y       no      no   no  telephone   \n",
       "4   56   services  married  high.school       no      no  yes  telephone   \n",
       "\n",
       "  month day_of_week  ...  campaign  pdays  previous     poutcome emp_var_rate  \\\n",
       "0   may         mon  ...         1    999         0  nonexistent          1.1   \n",
       "1   may         mon  ...         1    999         0  nonexistent          1.1   \n",
       "2   may         mon  ...         1    999         0  nonexistent          1.1   \n",
       "3   may         mon  ...         1    999         0  nonexistent          1.1   \n",
       "4   may         mon  ...         1    999         0  nonexistent          1.1   \n",
       "\n",
       "   cons_price_idx  cons_conf_idx  euribor3m  nr_employed   y  \n",
       "0          93.994          -36.4      4.857       5191.0  no  \n",
       "1          93.994          -36.4      4.857       5191.0  no  \n",
       "2          93.994          -36.4      4.857       5191.0  no  \n",
       "3          93.994          -36.4      4.857       5191.0  no  \n",
       "4          93.994          -36.4      4.857       5191.0  no  \n",
       "\n",
       "[5 rows x 21 columns]"
      ]
     },
     "execution_count": 2,
     "metadata": {},
     "output_type": "execute_result"
    }
   ],
   "source": [
    "col_additional =['age','job','marital','education','default','housing','loan','contact','month',\\\n",
    "      'day_of_week','duration','campaign','pdays','previous','poutcome','emp_var_rate',\\\n",
    "      'cons_price_idx','cons_conf_idx','euribor3m','nr_employed','y']\n",
    "df = pd.read_csv(os.getenv('bank_additional_data'), sep=';')\n",
    "df.columns = col_additional\n",
    "df.head()"
   ]
  },
  {
   "cell_type": "code",
   "execution_count": 3,
   "id": "c5972c4d-e8e1-4f4b-a2c8-21c11627bd06",
   "metadata": {},
   "outputs": [
    {
     "data": {
      "text/plain": [
       "(41188, 18)"
      ]
     },
     "execution_count": 3,
     "metadata": {},
     "output_type": "execute_result"
    }
   ],
   "source": [
    "df.drop(['contact', 'pdays', 'poutcome'], axis=1, inplace=True)\n",
    "df.shape"
   ]
  },
  {
   "cell_type": "code",
   "execution_count": 4,
   "id": "b55b13ae-ebd5-4649-a4d9-98b21585cfa2",
   "metadata": {},
   "outputs": [],
   "source": [
    "import math\n",
    "\n",
    "df['dur_bin'] = df.duration.map(lambda x: int(math.floor(x/600)*10))"
   ]
  },
  {
   "cell_type": "code",
   "execution_count": 5,
   "id": "3c026bd5-ab99-4064-a51d-1b63ff883b86",
   "metadata": {},
   "outputs": [
    {
     "data": {
      "text/plain": [
       "0    0\n",
       "1    0\n",
       "2    1\n",
       "3    0\n",
       "4    1\n",
       "5    0\n",
       "6    0\n",
       "7    0\n",
       "8    1\n",
       "9    1\n",
       "Name: no_of_loans, dtype: int64"
      ]
     },
     "execution_count": 5,
     "metadata": {},
     "output_type": "execute_result"
    }
   ],
   "source": [
    "df.drop(df[(df.loan == 'unknown') & (df.housing == 'unknown')].index, axis=0, inplace=True)\n",
    "x = {'yes': 1, 'no': 0}\n",
    "df['no_of_loans'] = df['loan'].map(x) + df['housing'].map(x)\n",
    "df['no_of_loans'].head(10)"
   ]
  },
  {
   "cell_type": "markdown",
   "id": "0cf21a5f-3a7d-48a2-bc4a-6bc456cc9557",
   "metadata": {},
   "source": [
    "# Data Preprocessing"
   ]
  },
  {
   "cell_type": "markdown",
   "id": "48155a26-e1dc-4146-a7fd-7cbb1e07154b",
   "metadata": {},
   "source": [
    "The features with unknown values such as job, marital, housing, loan etc where the proportion of unknowns is not very high we shall drop the records "
   ]
  },
  {
   "cell_type": "code",
   "execution_count": 6,
   "id": "0ed620c6-e045-47f5-9f95-98f835b0f051",
   "metadata": {},
   "outputs": [
    {
     "data": {
      "text/plain": [
       "(40198, 20)"
      ]
     },
     "execution_count": 6,
     "metadata": {},
     "output_type": "execute_result"
    }
   ],
   "source": [
    "df.shape"
   ]
  },
  {
   "cell_type": "code",
   "execution_count": 7,
   "id": "b0a89743-ae21-4377-8b56-25c7c07fb71b",
   "metadata": {},
   "outputs": [
    {
     "name": "stdout",
     "output_type": "stream",
     "text": [
      "_________job___________\n",
      "admin.           10195\n",
      "blue-collar       9014\n",
      "technician        6596\n",
      "services          3868\n",
      "management        2853\n",
      "retired           1676\n",
      "entrepreneur      1420\n",
      "self-employed     1381\n",
      "housemaid         1031\n",
      "unemployed         987\n",
      "student            852\n",
      "unknown            325\n",
      "Name: job, dtype: int64\n",
      "_________marital___________\n",
      "married     24340\n",
      "single      11288\n",
      "divorced     4491\n",
      "unknown        79\n",
      "Name: marital, dtype: int64\n",
      "_________education___________\n",
      "university.degree      11891\n",
      "high.school             9295\n",
      "basic.9y                5894\n",
      "professional.course     5118\n",
      "basic.4y                4059\n",
      "basic.6y                2232\n",
      "unknown                 1691\n",
      "illiterate                18\n",
      "Name: education, dtype: int64\n",
      "_________default___________\n",
      "no         31825\n",
      "unknown     8370\n",
      "yes            3\n",
      "Name: default, dtype: int64\n",
      "_________housing___________\n",
      "yes    21576\n",
      "no     18622\n",
      "Name: housing, dtype: int64\n",
      "_________loan___________\n",
      "no     33950\n",
      "yes     6248\n",
      "Name: loan, dtype: int64\n",
      "_________month___________\n",
      "may    13419\n",
      "jul     7027\n",
      "aug     6048\n",
      "jun     5143\n",
      "nov     4025\n",
      "apr     2574\n",
      "oct      698\n",
      "sep      554\n",
      "mar      534\n",
      "dec      176\n",
      "Name: month, dtype: int64\n",
      "_________day_of_week___________\n",
      "thu    8434\n",
      "mon    8323\n",
      "wed    7937\n",
      "tue    7880\n",
      "fri    7624\n",
      "Name: day_of_week, dtype: int64\n",
      "_________y___________\n",
      "no     35665\n",
      "yes     4533\n",
      "Name: y, dtype: int64\n"
     ]
    }
   ],
   "source": [
    "for i in df:\n",
    "    if df[i].dtype in ['object', 'bool']:\n",
    "        print(f\"_________{i}___________\")\n",
    "        print(df[i].value_counts())"
   ]
  },
  {
   "cell_type": "code",
   "execution_count": 8,
   "id": "3ab051b0-d7d7-4a50-81ed-d860564b1fe3",
   "metadata": {},
   "outputs": [],
   "source": [
    "df = df[df.duration > 5]"
   ]
  },
  {
   "cell_type": "markdown",
   "id": "b594b090-9b5a-448d-be90-e331a83e70e2",
   "metadata": {},
   "source": [
    "### for removal of outliers we need to check if the data is normal and if we can use zscore or percentile and whether outlier removal in necessary at all"
   ]
  },
  {
   "cell_type": "code",
   "execution_count": 9,
   "id": "f891b739-fb3a-421a-a982-878d49a5f4b7",
   "metadata": {},
   "outputs": [],
   "source": [
    "from scipy.stats import skew, kurtosis"
   ]
  },
  {
   "cell_type": "code",
   "execution_count": 10,
   "id": "527cb645-f5da-45dc-ab94-7ca6fedb43b4",
   "metadata": {},
   "outputs": [
    {
     "name": "stdout",
     "output_type": "stream",
     "text": [
      "_____age_____\n",
      "skewness: 0.7880659038132295\n",
      "kurtosis: 0.8025115281430995\n",
      "\n",
      "_____duration_____\n",
      "skewness: 3.26499784561028\n",
      "kurtosis: 20.30981030376417\n",
      "\n",
      "_____campaign_____\n",
      "skewness: 4.674061272546491\n",
      "kurtosis: 34.59006026467718\n",
      "\n",
      "_____previous_____\n",
      "skewness: 3.8323859665440962\n",
      "kurtosis: 20.1839956783494\n",
      "\n",
      "_____emp_var_rate_____\n",
      "skewness: -0.7234954691102774\n",
      "kurtosis: -1.0631213373503359\n",
      "\n",
      "_____cons_price_idx_____\n",
      "skewness: -0.22722251034400515\n",
      "kurtosis: -0.8282702007659131\n",
      "\n",
      "_____cons_conf_idx_____\n",
      "skewness: 0.30526787895115576\n",
      "kurtosis: -0.3604423477620671\n",
      "\n",
      "_____euribor3m_____\n",
      "skewness: -0.7095762265454162\n",
      "kurtosis: -1.4057352229354376\n",
      "\n",
      "_____nr_employed_____\n",
      "skewness: -1.0428721731690997\n",
      "kurtosis: -0.007023922958919737\n",
      "\n",
      "_____dur_bin_____\n",
      "skewness: 4.972158937511447\n",
      "kurtosis: 38.063541272703105\n",
      "\n",
      "_____no_of_loans_____\n",
      "skewness: 0.35128158598861514\n",
      "kurtosis: -0.6814400345126561\n",
      "\n"
     ]
    }
   ],
   "source": [
    "for i in df:\n",
    "    if df[i].dtype in ['int64', 'float64']:\n",
    "        print(f\"_____{i}_____\")\n",
    "        print(f\"skewness: {skew(df[i])}\")\n",
    "        print(f\"kurtosis: {kurtosis(df[i])}\")\n",
    "        print()"
   ]
  },
  {
   "cell_type": "code",
   "execution_count": 11,
   "id": "97d64226-5c0f-43bc-aeb3-65df83db3538",
   "metadata": {},
   "outputs": [
    {
     "name": "stderr",
     "output_type": "stream",
     "text": [
      "C:\\ProgramData\\Anaconda3\\lib\\site-packages\\seaborn\\_decorators.py:36: FutureWarning: Pass the following variable as a keyword arg: x. From version 0.12, the only valid positional argument will be `data`, and passing other arguments without an explicit keyword will result in an error or misinterpretation.\n",
      "  warnings.warn(\n"
     ]
    },
    {
     "data": {
      "image/png": "[encoded data removed]",
      "text/plain": [
       "<Figure size 432x288 with 1 Axes>"
      ]
     },
     "metadata": {
      "needs_background": "light"
     },
     "output_type": "display_data"
    },
    {
     "name": "stderr",
     "output_type": "stream",
     "text": [
      "C:\\ProgramData\\Anaconda3\\lib\\site-packages\\seaborn\\_decorators.py:36: FutureWarning: Pass the following variable as a keyword arg: x. From version 0.12, the only valid positional argument will be `data`, and passing other arguments without an explicit keyword will result in an error or misinterpretation.\n",
      "  warnings.warn(\n"
     ]
    },
    {
     "data": {
      "image/png": "[encoded data removed]",
      "text/plain": [
       "<Figure size 432x288 with 1 Axes>"
      ]
     },
     "metadata": {
      "needs_background": "light"
     },
     "output_type": "display_data"
    },
    {
     "name": "stderr",
     "output_type": "stream",
     "text": [
      "C:\\ProgramData\\Anaconda3\\lib\\site-packages\\seaborn\\_decorators.py:36: FutureWarning: Pass the following variable as a keyword arg: x. From version 0.12, the only valid positional argument will be `data`, and passing other arguments without an explicit keyword will result in an error or misinterpretation.\n",
      "  warnings.warn(\n"
     ]
    },
    {
     "data": {
      "image/png": "[encoded data removed]",
      "text/plain": [
       "<Figure size 432x288 with 1 Axes>"
      ]
     },
     "metadata": {
      "needs_background": "light"
     },
     "output_type": "display_data"
    },
    {
     "name": "stderr",
     "output_type": "stream",
     "text": [
      "C:\\ProgramData\\Anaconda3\\lib\\site-packages\\seaborn\\_decorators.py:36: FutureWarning: Pass the following variable as a keyword arg: x. From version 0.12, the only valid positional argument will be `data`, and passing other arguments without an explicit keyword will result in an error or misinterpretation.\n",
      "  warnings.warn(\n"
     ]
    },
    {
     "data": {
      "image/png": "[encoded data removed]",
      "text/plain": [
       "<Figure size 432x288 with 1 Axes>"
      ]
     },
     "metadata": {
      "needs_background": "light"
     },
     "output_type": "display_data"
    },
    {
     "name": "stderr",
     "output_type": "stream",
     "text": [
      "C:\\ProgramData\\Anaconda3\\lib\\site-packages\\seaborn\\_decorators.py:36: FutureWarning: Pass the following variable as a keyword arg: x. From version 0.12, the only valid positional argument will be `data`, and passing other arguments without an explicit keyword will result in an error or misinterpretation.\n",
      "  warnings.warn(\n"
     ]
    },
    {
     "data": {
      "image/png": "[encoded data removed]",
      "text/plain": [
       "<Figure size 432x288 with 1 Axes>"
      ]
     },
     "metadata": {
      "needs_background": "light"
     },
     "output_type": "display_data"
    },
    {
     "name": "stderr",
     "output_type": "stream",
     "text": [
      "C:\\ProgramData\\Anaconda3\\lib\\site-packages\\seaborn\\_decorators.py:36: FutureWarning: Pass the following variable as a keyword arg: x. From version 0.12, the only valid positional argument will be `data`, and passing other arguments without an explicit keyword will result in an error or misinterpretation.\n",
      "  warnings.warn(\n"
     ]
    },
    {
     "data": {
      "image/png": "[encoded data removed]",
      "text/plain": [
       "<Figure size 432x288 with 1 Axes>"
      ]
     },
     "metadata": {
      "needs_background": "light"
     },
     "output_type": "display_data"
    },
    {
     "name": "stderr",
     "output_type": "stream",
     "text": [
      "C:\\ProgramData\\Anaconda3\\lib\\site-packages\\seaborn\\_decorators.py:36: FutureWarning: Pass the following variable as a keyword arg: x. From version 0.12, the only valid positional argument will be `data`, and passing other arguments without an explicit keyword will result in an error or misinterpretation.\n",
      "  warnings.warn(\n"
     ]
    },
    {
     "data": {
      "image/png": "[encoded data removed]",
      "text/plain": [
       "<Figure size 432x288 with 1 Axes>"
      ]
     },
     "metadata": {
      "needs_background": "light"
     },
     "output_type": "display_data"
    },
    {
     "name": "stderr",
     "output_type": "stream",
     "text": [
      "C:\\ProgramData\\Anaconda3\\lib\\site-packages\\seaborn\\_decorators.py:36: FutureWarning: Pass the following variable as a keyword arg: x. From version 0.12, the only valid positional argument will be `data`, and passing other arguments without an explicit keyword will result in an error or misinterpretation.\n",
      "  warnings.warn(\n"
     ]
    },
    {
     "data": {
      "image/png": "[encoded data removed]",
      "text/plain": [
       "<Figure size 432x288 with 1 Axes>"
      ]
     },
     "metadata": {
      "needs_background": "light"
     },
     "output_type": "display_data"
    },
    {
     "name": "stderr",
     "output_type": "stream",
     "text": [
      "C:\\ProgramData\\Anaconda3\\lib\\site-packages\\seaborn\\_decorators.py:36: FutureWarning: Pass the following variable as a keyword arg: x. From version 0.12, the only valid positional argument will be `data`, and passing other arguments without an explicit keyword will result in an error or misinterpretation.\n",
      "  warnings.warn(\n"
     ]
    },
    {
     "data": {
      "image/png": "[encoded data removed]",
      "text/plain": [
       "<Figure size 432x288 with 1 Axes>"
      ]
     },
     "metadata": {
      "needs_background": "light"
     },
     "output_type": "display_data"
    },
    {
     "name": "stderr",
     "output_type": "stream",
     "text": [
      "C:\\ProgramData\\Anaconda3\\lib\\site-packages\\seaborn\\_decorators.py:36: FutureWarning: Pass the following variable as a keyword arg: x. From version 0.12, the only valid positional argument will be `data`, and passing other arguments without an explicit keyword will result in an error or misinterpretation.\n",
      "  warnings.warn(\n"
     ]
    },
    {
     "data": {
      "image/png": "[encoded data removed]",
      "text/plain": [
       "<Figure size 432x288 with 1 Axes>"
      ]
     },
     "metadata": {
      "needs_background": "light"
     },
     "output_type": "display_data"
    },
    {
     "name": "stderr",
     "output_type": "stream",
     "text": [
      "C:\\ProgramData\\Anaconda3\\lib\\site-packages\\seaborn\\_decorators.py:36: FutureWarning: Pass the following variable as a keyword arg: x. From version 0.12, the only valid positional argument will be `data`, and passing other arguments without an explicit keyword will result in an error or misinterpretation.\n",
      "  warnings.warn(\n"
     ]
    },
    {
     "data": {
      "image/png": "[encoded data removed]",
      "text/plain": [
       "<Figure size 432x288 with 1 Axes>"
      ]
     },
     "metadata": {
      "needs_background": "light"
     },
     "output_type": "display_data"
    }
   ],
   "source": [
    "for i in df:\n",
    "    if df[i].dtype in ['int64', 'float64']:\n",
    "        sns.boxplot(df[i])\n",
    "        plt.show()"
   ]
  },
  {
   "cell_type": "code",
   "execution_count": 12,
   "id": "dc995549-f6cc-4f90-b6b3-e1da6fcad2f7",
   "metadata": {},
   "outputs": [
    {
     "data": {
      "text/plain": [
       "no     32152\n",
       "yes     4532\n",
       "Name: y, dtype: int64"
      ]
     },
     "execution_count": 12,
     "metadata": {},
     "output_type": "execute_result"
    }
   ],
   "source": [
    "df[df.duration >= df.age.quantile(0.90)].y.value_counts()"
   ]
  },
  {
   "cell_type": "markdown",
   "id": "31f5037a-135c-4cc5-aeb3-4f4d4767e501",
   "metadata": {},
   "source": [
    "#### other outlier removal will result in considerable data loss so we shall move ahead with label encoding"
   ]
  },
  {
   "cell_type": "code",
   "execution_count": 13,
   "id": "9de6bde6-11e4-4118-b21b-83cad363be42",
   "metadata": {},
   "outputs": [],
   "source": [
    "for i in df:\n",
    "    if df[i].dtype in ['object', 'bool']:\n",
    "        if i != 'default':\n",
    "            df.drop(df[(df[i] == 'unknown')].index, axis=0, inplace=True)"
   ]
  },
  {
   "cell_type": "code",
   "execution_count": 14,
   "id": "3c7da0e0-bf72-42ca-8337-52c87fea1b7b",
   "metadata": {},
   "outputs": [
    {
     "data": {
      "text/html": [
       "<div>\n",
       "<style scoped>\n",
       "    .dataframe tbody tr th:only-of-type {\n",
       "        vertical-align: middle;\n",
       "    }\n",
       "\n",
       "    .dataframe tbody tr th {\n",
       "        vertical-align: top;\n",
       "    }\n",
       "\n",
       "    .dataframe thead th {\n",
       "        text-align: right;\n",
       "    }\n",
       "</style>\n",
       "<table border=\"1\" class=\"dataframe\">\n",
       "  <thead>\n",
       "    <tr style=\"text-align: right;\">\n",
       "      <th></th>\n",
       "      <th>age</th>\n",
       "      <th>duration</th>\n",
       "      <th>campaign</th>\n",
       "      <th>previous</th>\n",
       "      <th>emp_var_rate</th>\n",
       "      <th>cons_price_idx</th>\n",
       "      <th>cons_conf_idx</th>\n",
       "      <th>euribor3m</th>\n",
       "      <th>nr_employed</th>\n",
       "      <th>dur_bin</th>\n",
       "      <th>no_of_loans</th>\n",
       "    </tr>\n",
       "  </thead>\n",
       "  <tbody>\n",
       "    <tr>\n",
       "      <th>count</th>\n",
       "      <td>38193.000000</td>\n",
       "      <td>38193.000000</td>\n",
       "      <td>38193.000000</td>\n",
       "      <td>38193.000000</td>\n",
       "      <td>38193.000000</td>\n",
       "      <td>38193.000000</td>\n",
       "      <td>38193.000000</td>\n",
       "      <td>38193.000000</td>\n",
       "      <td>38193.000000</td>\n",
       "      <td>38193.000000</td>\n",
       "      <td>38193.000000</td>\n",
       "    </tr>\n",
       "    <tr>\n",
       "      <th>mean</th>\n",
       "      <td>39.863169</td>\n",
       "      <td>258.553714</td>\n",
       "      <td>2.566465</td>\n",
       "      <td>0.169874</td>\n",
       "      <td>0.083555</td>\n",
       "      <td>93.569851</td>\n",
       "      <td>-40.540507</td>\n",
       "      <td>3.624574</td>\n",
       "      <td>5167.535268</td>\n",
       "      <td>1.006729</td>\n",
       "      <td>0.693844</td>\n",
       "    </tr>\n",
       "    <tr>\n",
       "      <th>std</th>\n",
       "      <td>10.288393</td>\n",
       "      <td>259.799898</td>\n",
       "      <td>2.765090</td>\n",
       "      <td>0.486728</td>\n",
       "      <td>1.566205</td>\n",
       "      <td>0.576365</td>\n",
       "      <td>4.623716</td>\n",
       "      <td>1.729618</td>\n",
       "      <td>71.643738</td>\n",
       "      <td>3.678505</td>\n",
       "      <td>0.629682</td>\n",
       "    </tr>\n",
       "    <tr>\n",
       "      <th>min</th>\n",
       "      <td>17.000000</td>\n",
       "      <td>6.000000</td>\n",
       "      <td>1.000000</td>\n",
       "      <td>0.000000</td>\n",
       "      <td>-3.400000</td>\n",
       "      <td>92.201000</td>\n",
       "      <td>-50.800000</td>\n",
       "      <td>0.634000</td>\n",
       "      <td>4963.600000</td>\n",
       "      <td>0.000000</td>\n",
       "      <td>0.000000</td>\n",
       "    </tr>\n",
       "    <tr>\n",
       "      <th>25%</th>\n",
       "      <td>32.000000</td>\n",
       "      <td>103.000000</td>\n",
       "      <td>1.000000</td>\n",
       "      <td>0.000000</td>\n",
       "      <td>-1.800000</td>\n",
       "      <td>93.075000</td>\n",
       "      <td>-42.700000</td>\n",
       "      <td>1.344000</td>\n",
       "      <td>5099.100000</td>\n",
       "      <td>0.000000</td>\n",
       "      <td>0.000000</td>\n",
       "    </tr>\n",
       "    <tr>\n",
       "      <th>50%</th>\n",
       "      <td>38.000000</td>\n",
       "      <td>180.000000</td>\n",
       "      <td>2.000000</td>\n",
       "      <td>0.000000</td>\n",
       "      <td>1.100000</td>\n",
       "      <td>93.444000</td>\n",
       "      <td>-41.800000</td>\n",
       "      <td>4.857000</td>\n",
       "      <td>5191.000000</td>\n",
       "      <td>0.000000</td>\n",
       "      <td>1.000000</td>\n",
       "    </tr>\n",
       "    <tr>\n",
       "      <th>75%</th>\n",
       "      <td>47.000000</td>\n",
       "      <td>320.000000</td>\n",
       "      <td>3.000000</td>\n",
       "      <td>0.000000</td>\n",
       "      <td>1.400000</td>\n",
       "      <td>93.994000</td>\n",
       "      <td>-36.400000</td>\n",
       "      <td>4.961000</td>\n",
       "      <td>5228.100000</td>\n",
       "      <td>0.000000</td>\n",
       "      <td>1.000000</td>\n",
       "    </tr>\n",
       "    <tr>\n",
       "      <th>max</th>\n",
       "      <td>98.000000</td>\n",
       "      <td>4918.000000</td>\n",
       "      <td>43.000000</td>\n",
       "      <td>7.000000</td>\n",
       "      <td>1.400000</td>\n",
       "      <td>94.767000</td>\n",
       "      <td>-26.900000</td>\n",
       "      <td>5.045000</td>\n",
       "      <td>5228.100000</td>\n",
       "      <td>80.000000</td>\n",
       "      <td>2.000000</td>\n",
       "    </tr>\n",
       "  </tbody>\n",
       "</table>\n",
       "</div>"
      ],
      "text/plain": [
       "                age      duration      campaign      previous  emp_var_rate  \\\n",
       "count  38193.000000  38193.000000  38193.000000  38193.000000  38193.000000   \n",
       "mean      39.863169    258.553714      2.566465      0.169874      0.083555   \n",
       "std       10.288393    259.799898      2.765090      0.486728      1.566205   \n",
       "min       17.000000      6.000000      1.000000      0.000000     -3.400000   \n",
       "25%       32.000000    103.000000      1.000000      0.000000     -1.800000   \n",
       "50%       38.000000    180.000000      2.000000      0.000000      1.100000   \n",
       "75%       47.000000    320.000000      3.000000      0.000000      1.400000   \n",
       "max       98.000000   4918.000000     43.000000      7.000000      1.400000   \n",
       "\n",
       "       cons_price_idx  cons_conf_idx     euribor3m   nr_employed  \\\n",
       "count    38193.000000   38193.000000  38193.000000  38193.000000   \n",
       "mean        93.569851     -40.540507      3.624574   5167.535268   \n",
       "std          0.576365       4.623716      1.729618     71.643738   \n",
       "min         92.201000     -50.800000      0.634000   4963.600000   \n",
       "25%         93.075000     -42.700000      1.344000   5099.100000   \n",
       "50%         93.444000     -41.800000      4.857000   5191.000000   \n",
       "75%         93.994000     -36.400000      4.961000   5228.100000   \n",
       "max         94.767000     -26.900000      5.045000   5228.100000   \n",
       "\n",
       "            dur_bin   no_of_loans  \n",
       "count  38193.000000  38193.000000  \n",
       "mean       1.006729      0.693844  \n",
       "std        3.678505      0.629682  \n",
       "min        0.000000      0.000000  \n",
       "25%        0.000000      0.000000  \n",
       "50%        0.000000      1.000000  \n",
       "75%        0.000000      1.000000  \n",
       "max       80.000000      2.000000  "
      ]
     },
     "execution_count": 14,
     "metadata": {},
     "output_type": "execute_result"
    }
   ],
   "source": [
    "df1 = df\n",
    "df1.describe()"
   ]
  },
  {
   "cell_type": "code",
   "execution_count": 15,
   "id": "7c487b7e-bffb-487c-8d67-e90d66cc61e4",
   "metadata": {},
   "outputs": [
    {
     "data": {
      "text/plain": [
       "no     2058\n",
       "yes    1752\n",
       "Name: y, dtype: int64"
      ]
     },
     "execution_count": 15,
     "metadata": {},
     "output_type": "execute_result"
    }
   ],
   "source": [
    "df1[(df1.duration > df1.duration.quantile(0.90))].y.value_counts()"
   ]
  },
  {
   "cell_type": "code",
   "execution_count": 16,
   "id": "75bb60e7-c6a1-4520-b7ae-c0028928bc9d",
   "metadata": {},
   "outputs": [
    {
     "data": {
      "text/html": [
       "<div>\n",
       "<style scoped>\n",
       "    .dataframe tbody tr th:only-of-type {\n",
       "        vertical-align: middle;\n",
       "    }\n",
       "\n",
       "    .dataframe tbody tr th {\n",
       "        vertical-align: top;\n",
       "    }\n",
       "\n",
       "    .dataframe thead th {\n",
       "        text-align: right;\n",
       "    }\n",
       "</style>\n",
       "<table border=\"1\" class=\"dataframe\">\n",
       "  <thead>\n",
       "    <tr style=\"text-align: right;\">\n",
       "      <th></th>\n",
       "      <th>age</th>\n",
       "      <th>job</th>\n",
       "      <th>marital</th>\n",
       "      <th>education</th>\n",
       "      <th>default</th>\n",
       "      <th>housing</th>\n",
       "      <th>loan</th>\n",
       "      <th>month</th>\n",
       "      <th>day_of_week</th>\n",
       "      <th>duration</th>\n",
       "      <th>campaign</th>\n",
       "      <th>previous</th>\n",
       "      <th>emp_var_rate</th>\n",
       "      <th>cons_price_idx</th>\n",
       "      <th>cons_conf_idx</th>\n",
       "      <th>euribor3m</th>\n",
       "      <th>nr_employed</th>\n",
       "      <th>y</th>\n",
       "      <th>dur_bin</th>\n",
       "      <th>no_of_loans</th>\n",
       "    </tr>\n",
       "  </thead>\n",
       "  <tbody>\n",
       "    <tr>\n",
       "      <th>0</th>\n",
       "      <td>56</td>\n",
       "      <td>housemaid</td>\n",
       "      <td>married</td>\n",
       "      <td>basic.4y</td>\n",
       "      <td>no</td>\n",
       "      <td>no</td>\n",
       "      <td>no</td>\n",
       "      <td>may</td>\n",
       "      <td>mon</td>\n",
       "      <td>261</td>\n",
       "      <td>1</td>\n",
       "      <td>0</td>\n",
       "      <td>1.1</td>\n",
       "      <td>93.994</td>\n",
       "      <td>-36.4</td>\n",
       "      <td>4.857</td>\n",
       "      <td>5191.0</td>\n",
       "      <td>no</td>\n",
       "      <td>0</td>\n",
       "      <td>0</td>\n",
       "    </tr>\n",
       "    <tr>\n",
       "      <th>1</th>\n",
       "      <td>57</td>\n",
       "      <td>services</td>\n",
       "      <td>married</td>\n",
       "      <td>high.school</td>\n",
       "      <td>unknown</td>\n",
       "      <td>no</td>\n",
       "      <td>no</td>\n",
       "      <td>may</td>\n",
       "      <td>mon</td>\n",
       "      <td>149</td>\n",
       "      <td>1</td>\n",
       "      <td>0</td>\n",
       "      <td>1.1</td>\n",
       "      <td>93.994</td>\n",
       "      <td>-36.4</td>\n",
       "      <td>4.857</td>\n",
       "      <td>5191.0</td>\n",
       "      <td>no</td>\n",
       "      <td>0</td>\n",
       "      <td>0</td>\n",
       "    </tr>\n",
       "    <tr>\n",
       "      <th>2</th>\n",
       "      <td>37</td>\n",
       "      <td>services</td>\n",
       "      <td>married</td>\n",
       "      <td>high.school</td>\n",
       "      <td>no</td>\n",
       "      <td>yes</td>\n",
       "      <td>no</td>\n",
       "      <td>may</td>\n",
       "      <td>mon</td>\n",
       "      <td>226</td>\n",
       "      <td>1</td>\n",
       "      <td>0</td>\n",
       "      <td>1.1</td>\n",
       "      <td>93.994</td>\n",
       "      <td>-36.4</td>\n",
       "      <td>4.857</td>\n",
       "      <td>5191.0</td>\n",
       "      <td>no</td>\n",
       "      <td>0</td>\n",
       "      <td>1</td>\n",
       "    </tr>\n",
       "    <tr>\n",
       "      <th>3</th>\n",
       "      <td>40</td>\n",
       "      <td>admin.</td>\n",
       "      <td>married</td>\n",
       "      <td>basic.6y</td>\n",
       "      <td>no</td>\n",
       "      <td>no</td>\n",
       "      <td>no</td>\n",
       "      <td>may</td>\n",
       "      <td>mon</td>\n",
       "      <td>151</td>\n",
       "      <td>1</td>\n",
       "      <td>0</td>\n",
       "      <td>1.1</td>\n",
       "      <td>93.994</td>\n",
       "      <td>-36.4</td>\n",
       "      <td>4.857</td>\n",
       "      <td>5191.0</td>\n",
       "      <td>no</td>\n",
       "      <td>0</td>\n",
       "      <td>0</td>\n",
       "    </tr>\n",
       "    <tr>\n",
       "      <th>4</th>\n",
       "      <td>56</td>\n",
       "      <td>services</td>\n",
       "      <td>married</td>\n",
       "      <td>high.school</td>\n",
       "      <td>no</td>\n",
       "      <td>no</td>\n",
       "      <td>yes</td>\n",
       "      <td>may</td>\n",
       "      <td>mon</td>\n",
       "      <td>307</td>\n",
       "      <td>1</td>\n",
       "      <td>0</td>\n",
       "      <td>1.1</td>\n",
       "      <td>93.994</td>\n",
       "      <td>-36.4</td>\n",
       "      <td>4.857</td>\n",
       "      <td>5191.0</td>\n",
       "      <td>no</td>\n",
       "      <td>0</td>\n",
       "      <td>1</td>\n",
       "    </tr>\n",
       "  </tbody>\n",
       "</table>\n",
       "</div>"
      ],
      "text/plain": [
       "   age        job  marital    education  default housing loan month  \\\n",
       "0   56  housemaid  married     basic.4y       no      no   no   may   \n",
       "1   57   services  married  high.school  unknown      no   no   may   \n",
       "2   37   services  married  high.school       no     yes   no   may   \n",
       "3   40     admin.  married     basic.6y       no      no   no   may   \n",
       "4   56   services  married  high.school       no      no  yes   may   \n",
       "\n",
       "  day_of_week  duration  campaign  previous  emp_var_rate  cons_price_idx  \\\n",
       "0         mon       261         1         0           1.1          93.994   \n",
       "1         mon       149         1         0           1.1          93.994   \n",
       "2         mon       226         1         0           1.1          93.994   \n",
       "3         mon       151         1         0           1.1          93.994   \n",
       "4         mon       307         1         0           1.1          93.994   \n",
       "\n",
       "   cons_conf_idx  euribor3m  nr_employed   y  dur_bin  no_of_loans  \n",
       "0          -36.4      4.857       5191.0  no        0            0  \n",
       "1          -36.4      4.857       5191.0  no        0            0  \n",
       "2          -36.4      4.857       5191.0  no        0            1  \n",
       "3          -36.4      4.857       5191.0  no        0            0  \n",
       "4          -36.4      4.857       5191.0  no        0            1  "
      ]
     },
     "execution_count": 16,
     "metadata": {},
     "output_type": "execute_result"
    }
   ],
   "source": [
    "df1.head()"
   ]
  },
  {
   "cell_type": "code",
   "execution_count": 17,
   "id": "61fdf98e-6179-4935-be37-13c7b30f9388",
   "metadata": {},
   "outputs": [
    {
     "data": {
      "text/plain": [
       "no     33935\n",
       "yes     4258\n",
       "Name: y, dtype: int64"
      ]
     },
     "execution_count": 17,
     "metadata": {},
     "output_type": "execute_result"
    }
   ],
   "source": [
    "df1.y.value_counts()"
   ]
  },
  {
   "cell_type": "code",
   "execution_count": 18,
   "id": "95ac98b5-c95b-4de8-8c3c-a05cf3d75ac1",
   "metadata": {},
   "outputs": [],
   "source": [
    "df1.y = df1.y.map({'yes':1,'no':0})"
   ]
  },
  {
   "cell_type": "code",
   "execution_count": 19,
   "id": "0bfeccc7-21c3-45b2-820c-7bc9922dbf31",
   "metadata": {},
   "outputs": [
    {
     "data": {
      "image/png": "[encoded data removed]",
      "text/plain": [
       "<Figure size 402.375x360 with 1 Axes>"
      ]
     },
     "metadata": {
      "needs_background": "light"
     },
     "output_type": "display_data"
    }
   ],
   "source": [
    "sns.lmplot(x='duration', y='campaign', hue='y',data=df1, fit_reg=False)\n",
    "plt.axhline(y=5, linewidth=2, color=\"k\", linestyle='--')\n",
    "plt.annotate('Higher purchase rate when calls <5',xytext = (1500,13),\n",
    "             arrowprops=dict(color = 'k', width=1),xy=(30,6))\n",
    "plt.axvline(x=1200, linewidth=2, color=\"k\", linestyle='--')\n",
    "plt.annotate('Higher purchase rate when duration < 1200 s',xytext = (1800,30),\n",
    "             arrowprops=dict(color = 'k', width=1),xy=(1200,6))\n",
    "plt.show()"
   ]
  },
  {
   "cell_type": "code",
   "execution_count": 20,
   "id": "4936e5b2-6121-409b-8056-94b0eba50e41",
   "metadata": {},
   "outputs": [],
   "source": [
    "df2 = df1[(df1.y == 0)]\n",
    "df3 = df1[(df1.y == 1)]"
   ]
  },
  {
   "cell_type": "code",
   "execution_count": 21,
   "id": "e35390d7-e01d-49b7-8be1-345622f3fa68",
   "metadata": {},
   "outputs": [
    {
     "data": {
      "text/plain": [
       "<seaborn.axisgrid.FacetGrid at 0x2b2f2ed9a90>"
      ]
     },
     "execution_count": 21,
     "metadata": {},
     "output_type": "execute_result"
    },
    {
     "data": {
      "image/png": "[encoded data removed]",
      "text/plain": [
       "<Figure size 402.375x360 with 1 Axes>"
      ]
     },
     "metadata": {
      "needs_background": "light"
     },
     "output_type": "display_data"
    }
   ],
   "source": [
    "sns.lmplot(x='duration', y='campaign', hue='y',data=df2, fit_reg=False)"
   ]
  },
  {
   "cell_type": "code",
   "execution_count": 22,
   "id": "cabfe466-f4c4-4eb5-9ac9-3ee0faa10345",
   "metadata": {},
   "outputs": [
    {
     "data": {
      "text/plain": [
       "<seaborn.axisgrid.FacetGrid at 0x2b2f3735430>"
      ]
     },
     "execution_count": 22,
     "metadata": {},
     "output_type": "execute_result"
    },
    {
     "data": {
      "image/png": "[encoded data removed]",
      "text/plain": [
       "<Figure size 402.375x360 with 1 Axes>"
      ]
     },
     "metadata": {
      "needs_background": "light"
     },
     "output_type": "display_data"
    }
   ],
   "source": [
    "sns.lmplot(x='duration', y='campaign', hue='y',data=df3, fit_reg=False)"
   ]
  },
  {
   "cell_type": "markdown",
   "id": "f3e911a9-e56d-49ef-8b7b-6cce413e116e",
   "metadata": {},
   "source": [
    "When a person has been contacted for a lower number of times and each contact in itself results in a call that is in the range of 1000-1500 seconds then the chances of getting a yes are higher"
   ]
  },
  {
   "cell_type": "markdown",
   "id": "ecc52245-5286-4166-a46f-c6488ca0310a",
   "metadata": {},
   "source": [
    "# Label Encoding"
   ]
  },
  {
   "cell_type": "code",
   "execution_count": 23,
   "id": "da5157bd-c77b-435d-bfd7-eaba419af250",
   "metadata": {},
   "outputs": [
    {
     "data": {
      "text/plain": [
       "{'job': array(['admin.', 'blue-collar', 'entrepreneur', 'housemaid', 'management',\n",
       "        'retired', 'self-employed', 'services', 'student', 'technician',\n",
       "        'unemployed'], dtype=object),\n",
       " 'marital': array(['divorced', 'married', 'single'], dtype=object),\n",
       " 'education': array(['basic.4y', 'basic.6y', 'basic.9y', 'high.school', 'illiterate',\n",
       "        'professional.course', 'university.degree'], dtype=object),\n",
       " 'default': array(['no', 'unknown', 'yes'], dtype=object),\n",
       " 'housing': array(['no', 'yes'], dtype=object),\n",
       " 'loan': array(['no', 'yes'], dtype=object),\n",
       " 'month': array(['apr', 'aug', 'dec', 'jul', 'jun', 'mar', 'may', 'nov', 'oct',\n",
       "        'sep'], dtype=object),\n",
       " 'day_of_week': array(['fri', 'mon', 'thu', 'tue', 'wed'], dtype=object)}"
      ]
     },
     "execution_count": 23,
     "metadata": {},
     "output_type": "execute_result"
    }
   ],
   "source": [
    "le = LabelEncoder()\n",
    "\n",
    "def label_encode(df):\n",
    "    classes = {}\n",
    "    for i in df:\n",
    "        if df[i].dtype in ['object', 'bool']:\n",
    "            df[i] = le.fit_transform(df[i])\n",
    "            classes.update(**{i: le.classes_})\n",
    "            \n",
    "    return classes\n",
    "\n",
    "df_le = df1\n",
    "classes = label_encode(df_le)\n",
    "classes"
   ]
  },
  {
   "cell_type": "code",
   "execution_count": 24,
   "id": "ac6b6a96-7b8a-487e-ad90-c44d01891091",
   "metadata": {},
   "outputs": [
    {
     "data": {
      "text/html": [
       "<div>\n",
       "<style scoped>\n",
       "    .dataframe tbody tr th:only-of-type {\n",
       "        vertical-align: middle;\n",
       "    }\n",
       "\n",
       "    .dataframe tbody tr th {\n",
       "        vertical-align: top;\n",
       "    }\n",
       "\n",
       "    .dataframe thead th {\n",
       "        text-align: right;\n",
       "    }\n",
       "</style>\n",
       "<table border=\"1\" class=\"dataframe\">\n",
       "  <thead>\n",
       "    <tr style=\"text-align: right;\">\n",
       "      <th></th>\n",
       "      <th>age</th>\n",
       "      <th>job</th>\n",
       "      <th>marital</th>\n",
       "      <th>education</th>\n",
       "      <th>default</th>\n",
       "      <th>housing</th>\n",
       "      <th>loan</th>\n",
       "      <th>month</th>\n",
       "      <th>day_of_week</th>\n",
       "      <th>duration</th>\n",
       "      <th>campaign</th>\n",
       "      <th>previous</th>\n",
       "      <th>emp_var_rate</th>\n",
       "      <th>cons_price_idx</th>\n",
       "      <th>cons_conf_idx</th>\n",
       "      <th>euribor3m</th>\n",
       "      <th>nr_employed</th>\n",
       "      <th>y</th>\n",
       "      <th>dur_bin</th>\n",
       "      <th>no_of_loans</th>\n",
       "    </tr>\n",
       "  </thead>\n",
       "  <tbody>\n",
       "    <tr>\n",
       "      <th>0</th>\n",
       "      <td>56</td>\n",
       "      <td>3</td>\n",
       "      <td>1</td>\n",
       "      <td>0</td>\n",
       "      <td>0</td>\n",
       "      <td>0</td>\n",
       "      <td>0</td>\n",
       "      <td>6</td>\n",
       "      <td>1</td>\n",
       "      <td>261</td>\n",
       "      <td>1</td>\n",
       "      <td>0</td>\n",
       "      <td>1.1</td>\n",
       "      <td>93.994</td>\n",
       "      <td>-36.4</td>\n",
       "      <td>4.857</td>\n",
       "      <td>5191.0</td>\n",
       "      <td>0</td>\n",
       "      <td>0</td>\n",
       "      <td>0</td>\n",
       "    </tr>\n",
       "    <tr>\n",
       "      <th>1</th>\n",
       "      <td>57</td>\n",
       "      <td>7</td>\n",
       "      <td>1</td>\n",
       "      <td>3</td>\n",
       "      <td>1</td>\n",
       "      <td>0</td>\n",
       "      <td>0</td>\n",
       "      <td>6</td>\n",
       "      <td>1</td>\n",
       "      <td>149</td>\n",
       "      <td>1</td>\n",
       "      <td>0</td>\n",
       "      <td>1.1</td>\n",
       "      <td>93.994</td>\n",
       "      <td>-36.4</td>\n",
       "      <td>4.857</td>\n",
       "      <td>5191.0</td>\n",
       "      <td>0</td>\n",
       "      <td>0</td>\n",
       "      <td>0</td>\n",
       "    </tr>\n",
       "    <tr>\n",
       "      <th>2</th>\n",
       "      <td>37</td>\n",
       "      <td>7</td>\n",
       "      <td>1</td>\n",
       "      <td>3</td>\n",
       "      <td>0</td>\n",
       "      <td>1</td>\n",
       "      <td>0</td>\n",
       "      <td>6</td>\n",
       "      <td>1</td>\n",
       "      <td>226</td>\n",
       "      <td>1</td>\n",
       "      <td>0</td>\n",
       "      <td>1.1</td>\n",
       "      <td>93.994</td>\n",
       "      <td>-36.4</td>\n",
       "      <td>4.857</td>\n",
       "      <td>5191.0</td>\n",
       "      <td>0</td>\n",
       "      <td>0</td>\n",
       "      <td>1</td>\n",
       "    </tr>\n",
       "    <tr>\n",
       "      <th>3</th>\n",
       "      <td>40</td>\n",
       "      <td>0</td>\n",
       "      <td>1</td>\n",
       "      <td>1</td>\n",
       "      <td>0</td>\n",
       "      <td>0</td>\n",
       "      <td>0</td>\n",
       "      <td>6</td>\n",
       "      <td>1</td>\n",
       "      <td>151</td>\n",
       "      <td>1</td>\n",
       "      <td>0</td>\n",
       "      <td>1.1</td>\n",
       "      <td>93.994</td>\n",
       "      <td>-36.4</td>\n",
       "      <td>4.857</td>\n",
       "      <td>5191.0</td>\n",
       "      <td>0</td>\n",
       "      <td>0</td>\n",
       "      <td>0</td>\n",
       "    </tr>\n",
       "    <tr>\n",
       "      <th>4</th>\n",
       "      <td>56</td>\n",
       "      <td>7</td>\n",
       "      <td>1</td>\n",
       "      <td>3</td>\n",
       "      <td>0</td>\n",
       "      <td>0</td>\n",
       "      <td>1</td>\n",
       "      <td>6</td>\n",
       "      <td>1</td>\n",
       "      <td>307</td>\n",
       "      <td>1</td>\n",
       "      <td>0</td>\n",
       "      <td>1.1</td>\n",
       "      <td>93.994</td>\n",
       "      <td>-36.4</td>\n",
       "      <td>4.857</td>\n",
       "      <td>5191.0</td>\n",
       "      <td>0</td>\n",
       "      <td>0</td>\n",
       "      <td>1</td>\n",
       "    </tr>\n",
       "  </tbody>\n",
       "</table>\n",
       "</div>"
      ],
      "text/plain": [
       "   age  job  marital  education  default  housing  loan  month  day_of_week  \\\n",
       "0   56    3        1          0        0        0     0      6            1   \n",
       "1   57    7        1          3        1        0     0      6            1   \n",
       "2   37    7        1          3        0        1     0      6            1   \n",
       "3   40    0        1          1        0        0     0      6            1   \n",
       "4   56    7        1          3        0        0     1      6            1   \n",
       "\n",
       "   duration  campaign  previous  emp_var_rate  cons_price_idx  cons_conf_idx  \\\n",
       "0       261         1         0           1.1          93.994          -36.4   \n",
       "1       149         1         0           1.1          93.994          -36.4   \n",
       "2       226         1         0           1.1          93.994          -36.4   \n",
       "3       151         1         0           1.1          93.994          -36.4   \n",
       "4       307         1         0           1.1          93.994          -36.4   \n",
       "\n",
       "   euribor3m  nr_employed  y  dur_bin  no_of_loans  \n",
       "0      4.857       5191.0  0        0            0  \n",
       "1      4.857       5191.0  0        0            0  \n",
       "2      4.857       5191.0  0        0            1  \n",
       "3      4.857       5191.0  0        0            0  \n",
       "4      4.857       5191.0  0        0            1  "
      ]
     },
     "execution_count": 24,
     "metadata": {},
     "output_type": "execute_result"
    }
   ],
   "source": [
    "df_le.head()"
   ]
  },
  {
   "cell_type": "markdown",
   "id": "d7f2e53a-da9c-4c02-ade1-f7956ff57a5b",
   "metadata": {},
   "source": [
    "## values of duration cons_price_idx and nr_employed needs to be scaled down also we need to have a column for no of loans that adds up housing and other loans"
   ]
  },
  {
   "cell_type": "code",
   "execution_count": 25,
   "id": "1b428fc3-6038-47ec-921c-efb1048932fe",
   "metadata": {},
   "outputs": [],
   "source": [
    "from sklearn.preprocessing import scale"
   ]
  },
  {
   "cell_type": "code",
   "execution_count": 26,
   "id": "5ff51922-4925-4a64-bce5-9ab30be0a650",
   "metadata": {},
   "outputs": [],
   "source": [
    "# converting duration to minutes which scales down the values so no need to scale the conversation\n",
    "df_le['duration'] = df_le.duration/60"
   ]
  },
  {
   "cell_type": "code",
   "execution_count": 27,
   "id": "d3b8ecf6-4638-47ad-b8fb-72f0d75a2ff4",
   "metadata": {},
   "outputs": [
    {
     "data": {
      "text/html": [
       "<div>\n",
       "<style scoped>\n",
       "    .dataframe tbody tr th:only-of-type {\n",
       "        vertical-align: middle;\n",
       "    }\n",
       "\n",
       "    .dataframe tbody tr th {\n",
       "        vertical-align: top;\n",
       "    }\n",
       "\n",
       "    .dataframe thead th {\n",
       "        text-align: right;\n",
       "    }\n",
       "</style>\n",
       "<table border=\"1\" class=\"dataframe\">\n",
       "  <thead>\n",
       "    <tr style=\"text-align: right;\">\n",
       "      <th></th>\n",
       "      <th>age</th>\n",
       "      <th>job</th>\n",
       "      <th>marital</th>\n",
       "      <th>education</th>\n",
       "      <th>default</th>\n",
       "      <th>housing</th>\n",
       "      <th>loan</th>\n",
       "      <th>month</th>\n",
       "      <th>day_of_week</th>\n",
       "      <th>duration</th>\n",
       "      <th>campaign</th>\n",
       "      <th>previous</th>\n",
       "      <th>emp_var_rate</th>\n",
       "      <th>cons_price_idx</th>\n",
       "      <th>cons_conf_idx</th>\n",
       "      <th>euribor3m</th>\n",
       "      <th>nr_employed</th>\n",
       "      <th>y</th>\n",
       "      <th>dur_bin</th>\n",
       "      <th>no_of_loans</th>\n",
       "    </tr>\n",
       "  </thead>\n",
       "  <tbody>\n",
       "    <tr>\n",
       "      <th>0</th>\n",
       "      <td>56</td>\n",
       "      <td>3</td>\n",
       "      <td>1</td>\n",
       "      <td>0</td>\n",
       "      <td>0</td>\n",
       "      <td>0</td>\n",
       "      <td>0</td>\n",
       "      <td>6</td>\n",
       "      <td>1</td>\n",
       "      <td>4.350000</td>\n",
       "      <td>1</td>\n",
       "      <td>0</td>\n",
       "      <td>1.1</td>\n",
       "      <td>93.994</td>\n",
       "      <td>-36.4</td>\n",
       "      <td>4.857</td>\n",
       "      <td>5191.0</td>\n",
       "      <td>0</td>\n",
       "      <td>0</td>\n",
       "      <td>0</td>\n",
       "    </tr>\n",
       "    <tr>\n",
       "      <th>1</th>\n",
       "      <td>57</td>\n",
       "      <td>7</td>\n",
       "      <td>1</td>\n",
       "      <td>3</td>\n",
       "      <td>1</td>\n",
       "      <td>0</td>\n",
       "      <td>0</td>\n",
       "      <td>6</td>\n",
       "      <td>1</td>\n",
       "      <td>2.483333</td>\n",
       "      <td>1</td>\n",
       "      <td>0</td>\n",
       "      <td>1.1</td>\n",
       "      <td>93.994</td>\n",
       "      <td>-36.4</td>\n",
       "      <td>4.857</td>\n",
       "      <td>5191.0</td>\n",
       "      <td>0</td>\n",
       "      <td>0</td>\n",
       "      <td>0</td>\n",
       "    </tr>\n",
       "    <tr>\n",
       "      <th>2</th>\n",
       "      <td>37</td>\n",
       "      <td>7</td>\n",
       "      <td>1</td>\n",
       "      <td>3</td>\n",
       "      <td>0</td>\n",
       "      <td>1</td>\n",
       "      <td>0</td>\n",
       "      <td>6</td>\n",
       "      <td>1</td>\n",
       "      <td>3.766667</td>\n",
       "      <td>1</td>\n",
       "      <td>0</td>\n",
       "      <td>1.1</td>\n",
       "      <td>93.994</td>\n",
       "      <td>-36.4</td>\n",
       "      <td>4.857</td>\n",
       "      <td>5191.0</td>\n",
       "      <td>0</td>\n",
       "      <td>0</td>\n",
       "      <td>1</td>\n",
       "    </tr>\n",
       "    <tr>\n",
       "      <th>3</th>\n",
       "      <td>40</td>\n",
       "      <td>0</td>\n",
       "      <td>1</td>\n",
       "      <td>1</td>\n",
       "      <td>0</td>\n",
       "      <td>0</td>\n",
       "      <td>0</td>\n",
       "      <td>6</td>\n",
       "      <td>1</td>\n",
       "      <td>2.516667</td>\n",
       "      <td>1</td>\n",
       "      <td>0</td>\n",
       "      <td>1.1</td>\n",
       "      <td>93.994</td>\n",
       "      <td>-36.4</td>\n",
       "      <td>4.857</td>\n",
       "      <td>5191.0</td>\n",
       "      <td>0</td>\n",
       "      <td>0</td>\n",
       "      <td>0</td>\n",
       "    </tr>\n",
       "    <tr>\n",
       "      <th>4</th>\n",
       "      <td>56</td>\n",
       "      <td>7</td>\n",
       "      <td>1</td>\n",
       "      <td>3</td>\n",
       "      <td>0</td>\n",
       "      <td>0</td>\n",
       "      <td>1</td>\n",
       "      <td>6</td>\n",
       "      <td>1</td>\n",
       "      <td>5.116667</td>\n",
       "      <td>1</td>\n",
       "      <td>0</td>\n",
       "      <td>1.1</td>\n",
       "      <td>93.994</td>\n",
       "      <td>-36.4</td>\n",
       "      <td>4.857</td>\n",
       "      <td>5191.0</td>\n",
       "      <td>0</td>\n",
       "      <td>0</td>\n",
       "      <td>1</td>\n",
       "    </tr>\n",
       "  </tbody>\n",
       "</table>\n",
       "</div>"
      ],
      "text/plain": [
       "   age  job  marital  education  default  housing  loan  month  day_of_week  \\\n",
       "0   56    3        1          0        0        0     0      6            1   \n",
       "1   57    7        1          3        1        0     0      6            1   \n",
       "2   37    7        1          3        0        1     0      6            1   \n",
       "3   40    0        1          1        0        0     0      6            1   \n",
       "4   56    7        1          3        0        0     1      6            1   \n",
       "\n",
       "   duration  campaign  previous  emp_var_rate  cons_price_idx  cons_conf_idx  \\\n",
       "0  4.350000         1         0           1.1          93.994          -36.4   \n",
       "1  2.483333         1         0           1.1          93.994          -36.4   \n",
       "2  3.766667         1         0           1.1          93.994          -36.4   \n",
       "3  2.516667         1         0           1.1          93.994          -36.4   \n",
       "4  5.116667         1         0           1.1          93.994          -36.4   \n",
       "\n",
       "   euribor3m  nr_employed  y  dur_bin  no_of_loans  \n",
       "0      4.857       5191.0  0        0            0  \n",
       "1      4.857       5191.0  0        0            0  \n",
       "2      4.857       5191.0  0        0            1  \n",
       "3      4.857       5191.0  0        0            0  \n",
       "4      4.857       5191.0  0        0            1  "
      ]
     },
     "execution_count": 27,
     "metadata": {},
     "output_type": "execute_result"
    }
   ],
   "source": [
    "df_le.head()"
   ]
  },
  {
   "cell_type": "code",
   "execution_count": 28,
   "id": "25c48e01-e23e-419c-ad2d-c123c2b0a3bd",
   "metadata": {},
   "outputs": [],
   "source": [
    "df_le.cons_price_idx = scale(df_le.cons_price_idx)\n",
    "df_le.nr_employed = scale(df_le.nr_employed)\n",
    "df_le.cons_conf_idx = scale(df_le.cons_conf_idx)"
   ]
  },
  {
   "cell_type": "markdown",
   "id": "f4de590b-4024-44cf-b27f-db818b659f66",
   "metadata": {},
   "source": [
    "# Now lets move forward towards feature selection"
   ]
  },
  {
   "cell_type": "code",
   "execution_count": 29,
   "id": "5787250a-5f07-4bf1-8a24-6cea7bd147af",
   "metadata": {},
   "outputs": [],
   "source": [
    "X = pd.concat([df_le.iloc[:,:-3], df_le.iloc[:, -2:]], axis=1)\n",
    "y = df_le.y"
   ]
  },
  {
   "cell_type": "code",
   "execution_count": 30,
   "id": "08231b80-10d4-4ff7-a761-34d8c9fe9564",
   "metadata": {},
   "outputs": [
    {
     "data": {
      "text/plain": [
       "Index(['age', 'job', 'marital', 'education', 'default', 'housing', 'loan',\n",
       "       'month', 'day_of_week', 'duration', 'campaign', 'previous',\n",
       "       'emp_var_rate', 'cons_price_idx', 'cons_conf_idx', 'euribor3m',\n",
       "       'nr_employed', 'dur_bin', 'no_of_loans'],\n",
       "      dtype='object')"
      ]
     },
     "execution_count": 30,
     "metadata": {},
     "output_type": "execute_result"
    }
   ],
   "source": [
    "X.columns"
   ]
  },
  {
   "cell_type": "code",
   "execution_count": 31,
   "id": "24903aa0-e196-4f22-b796-24fa55969594",
   "metadata": {},
   "outputs": [
    {
     "data": {
      "text/plain": [
       "0    33935\n",
       "1     4258\n",
       "Name: y, dtype: int64"
      ]
     },
     "execution_count": 31,
     "metadata": {},
     "output_type": "execute_result"
    }
   ],
   "source": [
    "y.value_counts()"
   ]
  },
  {
   "cell_type": "markdown",
   "id": "6b8dcc4b-ad34-41d1-8e71-76c7323f326a",
   "metadata": {
    "tags": []
   },
   "source": [
    "## Handling Imbalanced Data"
   ]
  },
  {
   "cell_type": "markdown",
   "id": "a8213a2b-aba1-4a87-b138-cdd83d0c759f",
   "metadata": {},
   "source": [
    "#### The first way we are gonna handle the data is that we shall use SMOTE for oversampling the data and then use RandomUnderSampling and gather the data using the imblearn pipeline"
   ]
  },
  {
   "cell_type": "code",
   "execution_count": 32,
   "id": "dd0bcf14-9e03-43e6-8438-7995eb0e7b1b",
   "metadata": {},
   "outputs": [],
   "source": [
    "from imblearn.under_sampling import RandomUnderSampler\n",
    "from imblearn.over_sampling import SMOTE\n",
    "from imblearn.pipeline import Pipeline"
   ]
  },
  {
   "cell_type": "code",
   "execution_count": 33,
   "id": "0ee4147a-df88-415a-9a20-8a4af3d94d01",
   "metadata": {},
   "outputs": [],
   "source": [
    "oversample = SMOTE()\n",
    "undersample = RandomUnderSampler()\n",
    "steps = [(\"o\", oversample),(\"u\",undersample)]\n",
    "\n",
    "pipeline = Pipeline(steps=steps)\n",
    "\n",
    "X_bal, y_bal = pipeline.fit_resample(X, y)"
   ]
  },
  {
   "cell_type": "code",
   "execution_count": 34,
   "id": "74eb0e7b-36bc-4377-a08a-c6023e9bee5a",
   "metadata": {},
   "outputs": [
    {
     "data": {
      "text/plain": [
       "0    33935\n",
       "1    33935\n",
       "Name: y, dtype: int64"
      ]
     },
     "execution_count": 34,
     "metadata": {},
     "output_type": "execute_result"
    }
   ],
   "source": [
    "y_bal.value_counts()"
   ]
  },
  {
   "cell_type": "markdown",
   "id": "abe8f34c-3e2b-4b12-acc6-12aa3d7baa9d",
   "metadata": {},
   "source": [
    "# Model selection"
   ]
  },
  {
   "cell_type": "code",
   "execution_count": 35,
   "id": "fd85a638-e942-438b-94ba-660355a35075",
   "metadata": {},
   "outputs": [],
   "source": [
    "test_size = 0.25\n",
    "random_seed = 19\n",
    "\n",
    "X_train, X_test, y_train, y_test = train_test_split(X_bal, y_bal, test_size=test_size, random_state=random_seed)"
   ]
  },
  {
   "cell_type": "code",
   "execution_count": 37,
   "id": "969221d1-4f7c-4ff7-bc07-e897e4c49967",
   "metadata": {},
   "outputs": [],
   "source": [
    "from sklearn.linear_model import LogisticRegression\n",
    "from sklearn.ensemble import RandomForestClassifier\n",
    "from sklearn.cluster import KMeans\n",
    "from sklearn.neighbors import KNeighborsClassifier\n",
    "from sklearn.neural_network import MLPClassifier\n",
    "from sklearn.naive_bayes import GaussianNB\n",
    "from sklearn.svm import SVC"
   ]
  },
  {
   "cell_type": "code",
   "execution_count": 38,
   "id": "d9c30f95-d9d6-468e-94b7-58b5cebd6ad2",
   "metadata": {},
   "outputs": [],
   "source": [
    "models = {\n",
    "    'logr': LogisticRegression(),\n",
    "    'knn': KNeighborsClassifier(n_neighbors=2),\n",
    "    'Kmeans': KMeans(n_clusters=2),\n",
    "    'naive_bayes': GaussianNB(),\n",
    "    'MLP': MLPClassifier(hidden_layer_sizes=(64, 32, 2), activation='relu'),\n",
    "    'RandomF': RandomForestClassifier(n_estimators=200)\n",
    "}"
   ]
  },
  {
   "cell_type": "code",
   "execution_count": 39,
   "id": "4d01f8c0-d86e-4f9c-9814-3c306e785f51",
   "metadata": {},
   "outputs": [],
   "source": [
    "from sklearn.model_selection import KFold, cross_val_score"
   ]
  },
  {
   "cell_type": "code",
   "execution_count": 51,
   "id": "a4209985-00ff-486f-bddf-0107be83f4e2",
   "metadata": {},
   "outputs": [
    {
     "name": "stderr",
     "output_type": "stream",
     "text": [
      "C:\\ProgramData\\Anaconda3\\lib\\site-packages\\sklearn\\linear_model\\_logistic.py:763: ConvergenceWarning: lbfgs failed to converge (status=1):\n",
      "STOP: TOTAL NO. of ITERATIONS REACHED LIMIT.\n",
      "\n",
      "Increase the number of iterations (max_iter) or scale the data as shown in:\n",
      "    https://scikit-learn.org/stable/modules/preprocessing.html\n",
      "Please also refer to the documentation for alternative solver options:\n",
      "    https://scikit-learn.org/stable/modules/linear_model.html#logistic-regression\n",
      "  n_iter_i = _check_optimize_result(\n",
      "C:\\ProgramData\\Anaconda3\\lib\\site-packages\\sklearn\\linear_model\\_logistic.py:763: ConvergenceWarning: lbfgs failed to converge (status=1):\n",
      "STOP: TOTAL NO. of ITERATIONS REACHED LIMIT.\n",
      "\n",
      "Increase the number of iterations (max_iter) or scale the data as shown in:\n",
      "    https://scikit-learn.org/stable/modules/preprocessing.html\n",
      "Please also refer to the documentation for alternative solver options:\n",
      "    https://scikit-learn.org/stable/modules/linear_model.html#logistic-regression\n",
      "  n_iter_i = _check_optimize_result(\n",
      "C:\\ProgramData\\Anaconda3\\lib\\site-packages\\sklearn\\linear_model\\_logistic.py:763: ConvergenceWarning: lbfgs failed to converge (status=1):\n",
      "STOP: TOTAL NO. of ITERATIONS REACHED LIMIT.\n",
      "\n",
      "Increase the number of iterations (max_iter) or scale the data as shown in:\n",
      "    https://scikit-learn.org/stable/modules/preprocessing.html\n",
      "Please also refer to the documentation for alternative solver options:\n",
      "    https://scikit-learn.org/stable/modules/linear_model.html#logistic-regression\n",
      "  n_iter_i = _check_optimize_result(\n",
      "C:\\ProgramData\\Anaconda3\\lib\\site-packages\\sklearn\\linear_model\\_logistic.py:763: ConvergenceWarning: lbfgs failed to converge (status=1):\n",
      "STOP: TOTAL NO. of ITERATIONS REACHED LIMIT.\n",
      "\n",
      "Increase the number of iterations (max_iter) or scale the data as shown in:\n",
      "    https://scikit-learn.org/stable/modules/preprocessing.html\n",
      "Please also refer to the documentation for alternative solver options:\n",
      "    https://scikit-learn.org/stable/modules/linear_model.html#logistic-regression\n",
      "  n_iter_i = _check_optimize_result(\n",
      "C:\\ProgramData\\Anaconda3\\lib\\site-packages\\sklearn\\linear_model\\_logistic.py:763: ConvergenceWarning: lbfgs failed to converge (status=1):\n",
      "STOP: TOTAL NO. of ITERATIONS REACHED LIMIT.\n",
      "\n",
      "Increase the number of iterations (max_iter) or scale the data as shown in:\n",
      "    https://scikit-learn.org/stable/modules/preprocessing.html\n",
      "Please also refer to the documentation for alternative solver options:\n",
      "    https://scikit-learn.org/stable/modules/linear_model.html#logistic-regression\n",
      "  n_iter_i = _check_optimize_result(\n",
      "C:\\ProgramData\\Anaconda3\\lib\\site-packages\\sklearn\\linear_model\\_logistic.py:763: ConvergenceWarning: lbfgs failed to converge (status=1):\n",
      "STOP: TOTAL NO. of ITERATIONS REACHED LIMIT.\n",
      "\n",
      "Increase the number of iterations (max_iter) or scale the data as shown in:\n",
      "    https://scikit-learn.org/stable/modules/preprocessing.html\n",
      "Please also refer to the documentation for alternative solver options:\n",
      "    https://scikit-learn.org/stable/modules/linear_model.html#logistic-regression\n",
      "  n_iter_i = _check_optimize_result(\n",
      "C:\\ProgramData\\Anaconda3\\lib\\site-packages\\sklearn\\linear_model\\_logistic.py:763: ConvergenceWarning: lbfgs failed to converge (status=1):\n",
      "STOP: TOTAL NO. of ITERATIONS REACHED LIMIT.\n",
      "\n",
      "Increase the number of iterations (max_iter) or scale the data as shown in:\n",
      "    https://scikit-learn.org/stable/modules/preprocessing.html\n",
      "Please also refer to the documentation for alternative solver options:\n",
      "    https://scikit-learn.org/stable/modules/linear_model.html#logistic-regression\n",
      "  n_iter_i = _check_optimize_result(\n",
      "C:\\ProgramData\\Anaconda3\\lib\\site-packages\\sklearn\\linear_model\\_logistic.py:763: ConvergenceWarning: lbfgs failed to converge (status=1):\n",
      "STOP: TOTAL NO. of ITERATIONS REACHED LIMIT.\n",
      "\n",
      "Increase the number of iterations (max_iter) or scale the data as shown in:\n",
      "    https://scikit-learn.org/stable/modules/preprocessing.html\n",
      "Please also refer to the documentation for alternative solver options:\n",
      "    https://scikit-learn.org/stable/modules/linear_model.html#logistic-regression\n",
      "  n_iter_i = _check_optimize_result(\n",
      "C:\\ProgramData\\Anaconda3\\lib\\site-packages\\sklearn\\linear_model\\_logistic.py:763: ConvergenceWarning: lbfgs failed to converge (status=1):\n",
      "STOP: TOTAL NO. of ITERATIONS REACHED LIMIT.\n",
      "\n",
      "Increase the number of iterations (max_iter) or scale the data as shown in:\n",
      "    https://scikit-learn.org/stable/modules/preprocessing.html\n",
      "Please also refer to the documentation for alternative solver options:\n",
      "    https://scikit-learn.org/stable/modules/linear_model.html#logistic-regression\n",
      "  n_iter_i = _check_optimize_result(\n",
      "C:\\ProgramData\\Anaconda3\\lib\\site-packages\\sklearn\\linear_model\\_logistic.py:763: ConvergenceWarning: lbfgs failed to converge (status=1):\n",
      "STOP: TOTAL NO. of ITERATIONS REACHED LIMIT.\n",
      "\n",
      "Increase the number of iterations (max_iter) or scale the data as shown in:\n",
      "    https://scikit-learn.org/stable/modules/preprocessing.html\n",
      "Please also refer to the documentation for alternative solver options:\n",
      "    https://scikit-learn.org/stable/modules/linear_model.html#logistic-regression\n",
      "  n_iter_i = _check_optimize_result(\n",
      "C:\\ProgramData\\Anaconda3\\lib\\site-packages\\sklearn\\neural_network\\_multilayer_perceptron.py:614: ConvergenceWarning: Stochastic Optimizer: Maximum iterations (200) reached and the optimization hasn't converged yet.\n",
      "  warnings.warn(\n",
      "C:\\ProgramData\\Anaconda3\\lib\\site-packages\\sklearn\\neural_network\\_multilayer_perceptron.py:614: ConvergenceWarning: Stochastic Optimizer: Maximum iterations (200) reached and the optimization hasn't converged yet.\n",
      "  warnings.warn(\n",
      "C:\\ProgramData\\Anaconda3\\lib\\site-packages\\sklearn\\neural_network\\_multilayer_perceptron.py:614: ConvergenceWarning: Stochastic Optimizer: Maximum iterations (200) reached and the optimization hasn't converged yet.\n",
      "  warnings.warn(\n",
      "C:\\ProgramData\\Anaconda3\\lib\\site-packages\\sklearn\\neural_network\\_multilayer_perceptron.py:614: ConvergenceWarning: Stochastic Optimizer: Maximum iterations (200) reached and the optimization hasn't converged yet.\n",
      "  warnings.warn(\n",
      "C:\\ProgramData\\Anaconda3\\lib\\site-packages\\sklearn\\neural_network\\_multilayer_perceptron.py:614: ConvergenceWarning: Stochastic Optimizer: Maximum iterations (200) reached and the optimization hasn't converged yet.\n",
      "  warnings.warn(\n"
     ]
    },
    {
     "data": {
      "text/plain": [
       "{'logr': (array([0.85994893, 0.85543115, 0.84636542, 0.85717092, 0.84990177,\n",
       "         0.84282908, 0.856778  , 0.84440079, 0.85206287, 0.86660118]),\n",
       "  0.8531490102144892,\n",
       "  0.007088914221051911),\n",
       " 'knn': (array([0.92653703, 0.92692988, 0.9302554 , 0.93202358, 0.92573674,\n",
       "         0.92082515, 0.92789784, 0.9194499 , 0.93202358, 0.92554028]),\n",
       "  0.926721935817242,\n",
       "  0.004002272679675538),\n",
       " 'Kmeans': (array([0.50363386, 0.49656256, 0.49489194, 0.50275049, 0.50392927,\n",
       "         0.50176817, 0.48408644, 0.49469548, 0.50805501, 0.5043222 ]),\n",
       "  0.49946954427455675,\n",
       "  0.006628528861874245),\n",
       " 'naive_bayes': (array([0.83441367, 0.82262817, 0.8172888 , 0.82573674, 0.82318271,\n",
       "         0.8172888 , 0.82770138, 0.81768173, 0.82455796, 0.83064833]),\n",
       "  0.8241128282546455,\n",
       "  0.0054963269388130075),\n",
       " 'MLP': (array([0.91180515, 0.91259085, 0.91100196, 0.91886051, 0.91139489,\n",
       "         0.49862475, 0.91650295, 0.91237721, 0.90687623, 0.49666012]),\n",
       "  0.8296694617683118,\n",
       "  0.1660417489216531),\n",
       " 'RandomF': (array([0.94362601, 0.94225103, 0.94499018, 0.95049116, 0.94400786,\n",
       "         0.94361493, 0.94715128, 0.94891945, 0.95088409, 0.94715128]),\n",
       "  0.9463087254020058,\n",
       "  0.002908836482844444)}"
      ]
     },
     "execution_count": 51,
     "metadata": {},
     "output_type": "execute_result"
    }
   ],
   "source": [
    "model_report = {}\n",
    "for key, value in models.items():\n",
    "    \n",
    "    # lets first create k folds of our dataset\n",
    "    kfold = KFold(n_splits=10, random_state=15, shuffle=True)\n",
    "    \n",
    "    # now lets train and varify each model's cross validations score\n",
    "    cv_report = cross_val_score(value, X_train, y=y_train, cv=kfold, scoring='accuracy')\n",
    "    model_report.update(**{\n",
    "        key: (cv_report, cv_report.mean(), cv_report.std())\n",
    "    })\n",
    "\n",
    "model_report"
   ]
  },
  {
   "cell_type": "code",
   "execution_count": 81,
   "id": "4666babb-6a75-47af-9424-d565e83a0864",
   "metadata": {},
   "outputs": [
    {
     "data": {
      "image/png": "[encoded data removed]",
      "text/plain": [
       "<Figure size 1080x576 with 1 Axes>"
      ]
     },
     "metadata": {
      "needs_background": "light"
     },
     "output_type": "display_data"
    }
   ],
   "source": [
    "fig = plt.figure(figsize=(15,8))\n",
    "\n",
    "fig.suptitle('Algo Performance')\n",
    "ax = fig.add_subplot(1,1,1)\n",
    "plt.boxplot([value[0] for value in model_report.values()])\n",
    "ax.set_xticklabels([key for key in model_report.keys()])\n",
    "plt.show()"
   ]
  },
  {
   "cell_type": "code",
   "execution_count": 50,
   "id": "736c245c-3fe4-42c7-a1b6-6e4cd5b6701b",
   "metadata": {},
   "outputs": [
    {
     "name": "stdout",
     "output_type": "stream",
     "text": [
      "train_accuracy:  0.9348748575694472\n",
      "test accuracy:  0.9208510136727959\n",
      "              precision    recall  f1-score   support\n",
      "\n",
      "           0       0.99      0.85      0.92      8489\n",
      "           1       0.87      0.99      0.93      8479\n",
      "\n",
      "    accuracy                           0.92     16968\n",
      "   macro avg       0.93      0.92      0.92     16968\n",
      "weighted avg       0.93      0.92      0.92     16968\n",
      "\n"
     ]
    }
   ],
   "source": [
    "from sklearn.metrics import accuracy_score, classification_report\n",
    "model = KNeighborsClassifier(n_neighbors=8, weights='uniform', p=2)\n",
    "\n",
    "model.fit(X_train, y_train)\n",
    "\n",
    "y_pred_train = model.predict(X_train)\n",
    "y_pred_test = model.predict(X_test)\n",
    "\n",
    "\n",
    "print(\"train_accuracy: \", accuracy_score(y_train, y_pred_train))\n",
    "print(\"test accuracy: \", accuracy_score(y_test, y_pred_test))\n",
    "\n",
    "print(classification_report(y_test, y_pred_test))"
   ]
  },
  {
   "cell_type": "code",
   "execution_count": 51,
   "id": "9e43850c-18ae-491a-83db-918d167856b1",
   "metadata": {},
   "outputs": [
    {
     "data": {
      "text/html": [
       "<div>\n",
       "<style scoped>\n",
       "    .dataframe tbody tr th:only-of-type {\n",
       "        vertical-align: middle;\n",
       "    }\n",
       "\n",
       "    .dataframe tbody tr th {\n",
       "        vertical-align: top;\n",
       "    }\n",
       "\n",
       "    .dataframe thead th {\n",
       "        text-align: right;\n",
       "    }\n",
       "</style>\n",
       "<table border=\"1\" class=\"dataframe\">\n",
       "  <thead>\n",
       "    <tr style=\"text-align: right;\">\n",
       "      <th>col_0</th>\n",
       "      <th>0</th>\n",
       "      <th>1</th>\n",
       "    </tr>\n",
       "    <tr>\n",
       "      <th>y</th>\n",
       "      <th></th>\n",
       "      <th></th>\n",
       "    </tr>\n",
       "  </thead>\n",
       "  <tbody>\n",
       "    <tr>\n",
       "      <th>0</th>\n",
       "      <td>7248</td>\n",
       "      <td>1241</td>\n",
       "    </tr>\n",
       "    <tr>\n",
       "      <th>1</th>\n",
       "      <td>102</td>\n",
       "      <td>8377</td>\n",
       "    </tr>\n",
       "  </tbody>\n",
       "</table>\n",
       "</div>"
      ],
      "text/plain": [
       "col_0     0     1\n",
       "y                \n",
       "0      7248  1241\n",
       "1       102  8377"
      ]
     },
     "execution_count": 51,
     "metadata": {},
     "output_type": "execute_result"
    }
   ],
   "source": [
    "pd.crosstab(y_test, y_pred_test)"
   ]
  },
  {
   "cell_type": "code",
   "execution_count": 52,
   "id": "99db430b-b5ff-4ef8-a317-2747a60a4a1f",
   "metadata": {},
   "outputs": [
    {
     "name": "stdout",
     "output_type": "stream",
     "text": [
      "Num CPUs Available:  1\n"
     ]
    }
   ],
   "source": [
    "print(\"Num CPUs Available: \", len(tf.config.list_physical_devices('CPU')))"
   ]
  },
  {
   "cell_type": "code",
   "execution_count": 60,
   "id": "f175ee60-b53b-4678-ad61-c0b2c87718cb",
   "metadata": {},
   "outputs": [
    {
     "data": {
      "text/html": [
       "<div>\n",
       "<style scoped>\n",
       "    .dataframe tbody tr th:only-of-type {\n",
       "        vertical-align: middle;\n",
       "    }\n",
       "\n",
       "    .dataframe tbody tr th {\n",
       "        vertical-align: top;\n",
       "    }\n",
       "\n",
       "    .dataframe thead th {\n",
       "        text-align: right;\n",
       "    }\n",
       "</style>\n",
       "<table border=\"1\" class=\"dataframe\">\n",
       "  <thead>\n",
       "    <tr style=\"text-align: right;\">\n",
       "      <th></th>\n",
       "      <th>age</th>\n",
       "      <th>job</th>\n",
       "      <th>marital</th>\n",
       "      <th>education</th>\n",
       "      <th>default</th>\n",
       "      <th>housing</th>\n",
       "      <th>loan</th>\n",
       "      <th>month</th>\n",
       "      <th>day_of_week</th>\n",
       "      <th>duration</th>\n",
       "      <th>campaign</th>\n",
       "      <th>previous</th>\n",
       "      <th>emp_var_rate</th>\n",
       "      <th>cons_price_idx</th>\n",
       "      <th>cons_conf_idx</th>\n",
       "      <th>euribor3m</th>\n",
       "      <th>nr_employed</th>\n",
       "      <th>y</th>\n",
       "      <th>dur_bin</th>\n",
       "      <th>no_of_loans</th>\n",
       "    </tr>\n",
       "  </thead>\n",
       "  <tbody>\n",
       "    <tr>\n",
       "      <th>0</th>\n",
       "      <td>30</td>\n",
       "      <td>blue-collar</td>\n",
       "      <td>married</td>\n",
       "      <td>basic.9y</td>\n",
       "      <td>no</td>\n",
       "      <td>yes</td>\n",
       "      <td>no</td>\n",
       "      <td>may</td>\n",
       "      <td>fri</td>\n",
       "      <td>487</td>\n",
       "      <td>2</td>\n",
       "      <td>0</td>\n",
       "      <td>-1.8</td>\n",
       "      <td>92.893</td>\n",
       "      <td>-46.2</td>\n",
       "      <td>1.313</td>\n",
       "      <td>5099.1</td>\n",
       "      <td>no</td>\n",
       "      <td>0</td>\n",
       "      <td>1</td>\n",
       "    </tr>\n",
       "    <tr>\n",
       "      <th>1</th>\n",
       "      <td>39</td>\n",
       "      <td>services</td>\n",
       "      <td>single</td>\n",
       "      <td>high.school</td>\n",
       "      <td>no</td>\n",
       "      <td>no</td>\n",
       "      <td>no</td>\n",
       "      <td>may</td>\n",
       "      <td>fri</td>\n",
       "      <td>346</td>\n",
       "      <td>4</td>\n",
       "      <td>0</td>\n",
       "      <td>1.1</td>\n",
       "      <td>93.994</td>\n",
       "      <td>-36.4</td>\n",
       "      <td>4.855</td>\n",
       "      <td>5191.0</td>\n",
       "      <td>no</td>\n",
       "      <td>0</td>\n",
       "      <td>0</td>\n",
       "    </tr>\n",
       "    <tr>\n",
       "      <th>2</th>\n",
       "      <td>25</td>\n",
       "      <td>services</td>\n",
       "      <td>married</td>\n",
       "      <td>high.school</td>\n",
       "      <td>no</td>\n",
       "      <td>yes</td>\n",
       "      <td>no</td>\n",
       "      <td>jun</td>\n",
       "      <td>wed</td>\n",
       "      <td>227</td>\n",
       "      <td>1</td>\n",
       "      <td>0</td>\n",
       "      <td>1.4</td>\n",
       "      <td>94.465</td>\n",
       "      <td>-41.8</td>\n",
       "      <td>4.962</td>\n",
       "      <td>5228.1</td>\n",
       "      <td>no</td>\n",
       "      <td>0</td>\n",
       "      <td>1</td>\n",
       "    </tr>\n",
       "    <tr>\n",
       "      <th>4</th>\n",
       "      <td>47</td>\n",
       "      <td>admin.</td>\n",
       "      <td>married</td>\n",
       "      <td>university.degree</td>\n",
       "      <td>no</td>\n",
       "      <td>yes</td>\n",
       "      <td>no</td>\n",
       "      <td>nov</td>\n",
       "      <td>mon</td>\n",
       "      <td>58</td>\n",
       "      <td>1</td>\n",
       "      <td>0</td>\n",
       "      <td>-0.1</td>\n",
       "      <td>93.200</td>\n",
       "      <td>-42.0</td>\n",
       "      <td>4.191</td>\n",
       "      <td>5195.8</td>\n",
       "      <td>no</td>\n",
       "      <td>0</td>\n",
       "      <td>1</td>\n",
       "    </tr>\n",
       "    <tr>\n",
       "      <th>5</th>\n",
       "      <td>32</td>\n",
       "      <td>services</td>\n",
       "      <td>single</td>\n",
       "      <td>university.degree</td>\n",
       "      <td>no</td>\n",
       "      <td>no</td>\n",
       "      <td>no</td>\n",
       "      <td>sep</td>\n",
       "      <td>thu</td>\n",
       "      <td>128</td>\n",
       "      <td>3</td>\n",
       "      <td>2</td>\n",
       "      <td>-1.1</td>\n",
       "      <td>94.199</td>\n",
       "      <td>-37.5</td>\n",
       "      <td>0.884</td>\n",
       "      <td>4963.6</td>\n",
       "      <td>no</td>\n",
       "      <td>0</td>\n",
       "      <td>0</td>\n",
       "    </tr>\n",
       "  </tbody>\n",
       "</table>\n",
       "</div>"
      ],
      "text/plain": [
       "   age          job  marital          education default housing loan month  \\\n",
       "0   30  blue-collar  married           basic.9y      no     yes   no   may   \n",
       "1   39     services   single        high.school      no      no   no   may   \n",
       "2   25     services  married        high.school      no     yes   no   jun   \n",
       "4   47       admin.  married  university.degree      no     yes   no   nov   \n",
       "5   32     services   single  university.degree      no      no   no   sep   \n",
       "\n",
       "  day_of_week  duration  campaign  previous  emp_var_rate  cons_price_idx  \\\n",
       "0         fri       487         2         0          -1.8          92.893   \n",
       "1         fri       346         4         0           1.1          93.994   \n",
       "2         wed       227         1         0           1.4          94.465   \n",
       "4         mon        58         1         0          -0.1          93.200   \n",
       "5         thu       128         3         2          -1.1          94.199   \n",
       "\n",
       "   cons_conf_idx  euribor3m  nr_employed   y  dur_bin  no_of_loans  \n",
       "0          -46.2      1.313       5099.1  no        0            1  \n",
       "1          -36.4      4.855       5191.0  no        0            0  \n",
       "2          -41.8      4.962       5228.1  no        0            1  \n",
       "4          -42.0      4.191       5195.8  no        0            1  \n",
       "5          -37.5      0.884       4963.6  no        0            0  "
      ]
     },
     "execution_count": 60,
     "metadata": {},
     "output_type": "execute_result"
    }
   ],
   "source": [
    "test_df = pd.read_csv(os.getenv('bank_additional_samp'), sep=';')\n",
    "test_df.columns = col_additional\n",
    "\n",
    "test_df.drop(['contact', 'pdays', 'poutcome'], axis=1, inplace=True)\n",
    "\n",
    "test_df['dur_bin'] = test_df.duration.map(lambda x: int(math.floor(x/600)*10))\n",
    "\n",
    "test_df.drop(test_df[(test_df.loan == 'unknown') & (test_df.housing == 'unknown')].index, axis=0, inplace=True)\n",
    "x = {'yes': 1, 'no': 0}\n",
    "test_df['no_of_loans'] = test_df['loan'].map(x) + test_df['housing'].map(x)\n",
    "test_df['no_of_loans'].head(10)\n",
    "\n",
    "test_df.head()"
   ]
  },
  {
   "cell_type": "code",
   "execution_count": 62,
   "id": "ee44be1b-6ecb-408e-87a9-2f71d54849d7",
   "metadata": {},
   "outputs": [
    {
     "data": {
      "image/png": "[encoded data removed]",
      "text/plain": [
       "<Figure size 413.25x360 with 1 Axes>"
      ]
     },
     "metadata": {
      "needs_background": "light"
     },
     "output_type": "display_data"
    }
   ],
   "source": []
  },
  {
   "cell_type": "code",
   "execution_count": 79,
   "id": "0adc1b6f-b340-4b73-a232-a89eb1bd2baf",
   "metadata": {},
   "outputs": [
    {
     "data": {
      "image/png": "[encoded data removed]",
      "text/plain": [
       "<Figure size 1080x576 with 1 Axes>"
      ]
     },
     "metadata": {
      "needs_background": "light"
     },
     "output_type": "display_data"
    }
   ],
   "source": []
  },
  {
   "cell_type": "code",
   "execution_count": null,
   "id": "1bec7886-6594-4bfa-88ff-7f7da048a4c2",
   "metadata": {},
   "outputs": [],
   "source": []
  }
 ],
 "metadata": {
  "kernelspec": {
   "display_name": "Python 3",
   "language": "python",
   "name": "python3"
  },
  "language_info": {
   "codemirror_mode": {
    "name": "ipython",
    "version": 3
   },
   "file_extension": ".py",
   "mimetype": "text/x-python",
   "name": "python",
   "nbconvert_exporter": "python",
   "pygments_lexer": "ipython3",
   "version": "3.8.8"
  }
 },
 "nbformat": 4,
 "nbformat_minor": 5
}
