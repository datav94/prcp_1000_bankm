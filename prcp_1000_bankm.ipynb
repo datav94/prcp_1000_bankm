{
 "cells": [
  {
   "cell_type": "markdown",
   "id": "59f03978-81ee-4a41-9070-502311ad62cb",
   "metadata": {},
   "source": [
    "# ___Portuguese bank marketing dataset___"
   ]
  },
  {
   "cell_type": "markdown",
   "id": "163b8d3c-c2df-4532-bda9-b3be5bb4282e",
   "metadata": {},
   "source": [
    "## ___Import libraries___"
   ]
  },
  {
   "cell_type": "code",
   "execution_count": 2,
   "id": "5cec2428-31d7-4b38-9789-6deb1eed5f42",
   "metadata": {},
   "outputs": [],
   "source": [
    "# loading data using .env file\n",
    "import os\n",
    "import pandas as pd\n",
    "import matplotlib.pyplot as plt\n",
    "import seaborn as sns\n",
    "from sklearn.preprocessing import LabelEncoder, MultiLabelBinarizer, OneHotEncoder\n",
    "from sklearn.model_selection import train_test_split\n",
    "from scipy import stats\n",
    "from dotenv import load_dotenv\n",
    "\n",
    "dotenv_path = os.getcwd()+'\\\\local.env'\n",
    "load_dotenv(dotenv_path=dotenv_path)\n",
    "\n",
    "%matplotlib inline"
   ]
  },
  {
   "cell_type": "markdown",
   "id": "90826c0b-5aac-409c-a584-b0504fc8863e",
   "metadata": {},
   "source": [
    "## ___Import dataset___"
   ]
  },
  {
   "cell_type": "code",
   "execution_count": 3,
   "id": "2b1efb57-8899-41b1-93d1-53c1b37c14c7",
   "metadata": {},
   "outputs": [
    {
     "data": {
      "text/html": [
       "<div>\n",
       "<style scoped>\n",
       "    .dataframe tbody tr th:only-of-type {\n",
       "        vertical-align: middle;\n",
       "    }\n",
       "\n",
       "    .dataframe tbody tr th {\n",
       "        vertical-align: top;\n",
       "    }\n",
       "\n",
       "    .dataframe thead th {\n",
       "        text-align: right;\n",
       "    }\n",
       "</style>\n",
       "<table border=\"1\" class=\"dataframe\">\n",
       "  <thead>\n",
       "    <tr style=\"text-align: right;\">\n",
       "      <th></th>\n",
       "      <th>age</th>\n",
       "      <th>job</th>\n",
       "      <th>marital</th>\n",
       "      <th>education</th>\n",
       "      <th>default</th>\n",
       "      <th>balance</th>\n",
       "      <th>housing</th>\n",
       "      <th>loan</th>\n",
       "      <th>contact</th>\n",
       "      <th>day</th>\n",
       "      <th>month</th>\n",
       "      <th>duration</th>\n",
       "      <th>campaign</th>\n",
       "      <th>pdays</th>\n",
       "      <th>previous</th>\n",
       "      <th>poutcome</th>\n",
       "      <th>y</th>\n",
       "    </tr>\n",
       "  </thead>\n",
       "  <tbody>\n",
       "    <tr>\n",
       "      <th>0</th>\n",
       "      <td>58</td>\n",
       "      <td>management</td>\n",
       "      <td>married</td>\n",
       "      <td>tertiary</td>\n",
       "      <td>no</td>\n",
       "      <td>2143</td>\n",
       "      <td>yes</td>\n",
       "      <td>no</td>\n",
       "      <td>unknown</td>\n",
       "      <td>5</td>\n",
       "      <td>may</td>\n",
       "      <td>261</td>\n",
       "      <td>1</td>\n",
       "      <td>-1</td>\n",
       "      <td>0</td>\n",
       "      <td>unknown</td>\n",
       "      <td>no</td>\n",
       "    </tr>\n",
       "    <tr>\n",
       "      <th>1</th>\n",
       "      <td>44</td>\n",
       "      <td>technician</td>\n",
       "      <td>single</td>\n",
       "      <td>secondary</td>\n",
       "      <td>no</td>\n",
       "      <td>29</td>\n",
       "      <td>yes</td>\n",
       "      <td>no</td>\n",
       "      <td>unknown</td>\n",
       "      <td>5</td>\n",
       "      <td>may</td>\n",
       "      <td>151</td>\n",
       "      <td>1</td>\n",
       "      <td>-1</td>\n",
       "      <td>0</td>\n",
       "      <td>unknown</td>\n",
       "      <td>no</td>\n",
       "    </tr>\n",
       "    <tr>\n",
       "      <th>2</th>\n",
       "      <td>33</td>\n",
       "      <td>entrepreneur</td>\n",
       "      <td>married</td>\n",
       "      <td>secondary</td>\n",
       "      <td>no</td>\n",
       "      <td>2</td>\n",
       "      <td>yes</td>\n",
       "      <td>yes</td>\n",
       "      <td>unknown</td>\n",
       "      <td>5</td>\n",
       "      <td>may</td>\n",
       "      <td>76</td>\n",
       "      <td>1</td>\n",
       "      <td>-1</td>\n",
       "      <td>0</td>\n",
       "      <td>unknown</td>\n",
       "      <td>no</td>\n",
       "    </tr>\n",
       "    <tr>\n",
       "      <th>3</th>\n",
       "      <td>47</td>\n",
       "      <td>blue-collar</td>\n",
       "      <td>married</td>\n",
       "      <td>unknown</td>\n",
       "      <td>no</td>\n",
       "      <td>1506</td>\n",
       "      <td>yes</td>\n",
       "      <td>no</td>\n",
       "      <td>unknown</td>\n",
       "      <td>5</td>\n",
       "      <td>may</td>\n",
       "      <td>92</td>\n",
       "      <td>1</td>\n",
       "      <td>-1</td>\n",
       "      <td>0</td>\n",
       "      <td>unknown</td>\n",
       "      <td>no</td>\n",
       "    </tr>\n",
       "    <tr>\n",
       "      <th>4</th>\n",
       "      <td>33</td>\n",
       "      <td>unknown</td>\n",
       "      <td>single</td>\n",
       "      <td>unknown</td>\n",
       "      <td>no</td>\n",
       "      <td>1</td>\n",
       "      <td>no</td>\n",
       "      <td>no</td>\n",
       "      <td>unknown</td>\n",
       "      <td>5</td>\n",
       "      <td>may</td>\n",
       "      <td>198</td>\n",
       "      <td>1</td>\n",
       "      <td>-1</td>\n",
       "      <td>0</td>\n",
       "      <td>unknown</td>\n",
       "      <td>no</td>\n",
       "    </tr>\n",
       "  </tbody>\n",
       "</table>\n",
       "</div>"
      ],
      "text/plain": [
       "   age           job  marital  education default  balance housing loan  \\\n",
       "0   58    management  married   tertiary      no     2143     yes   no   \n",
       "1   44    technician   single  secondary      no       29     yes   no   \n",
       "2   33  entrepreneur  married  secondary      no        2     yes  yes   \n",
       "3   47   blue-collar  married    unknown      no     1506     yes   no   \n",
       "4   33       unknown   single    unknown      no        1      no   no   \n",
       "\n",
       "   contact  day month  duration  campaign  pdays  previous poutcome   y  \n",
       "0  unknown    5   may       261         1     -1         0  unknown  no  \n",
       "1  unknown    5   may       151         1     -1         0  unknown  no  \n",
       "2  unknown    5   may        76         1     -1         0  unknown  no  \n",
       "3  unknown    5   may        92         1     -1         0  unknown  no  \n",
       "4  unknown    5   may       198         1     -1         0  unknown  no  "
      ]
     },
     "execution_count": 3,
     "metadata": {},
     "output_type": "execute_result"
    }
   ],
   "source": [
    "df = pd.read_csv(os.getenv('bank_data'), sep=';')\n",
    "col = ['age',\n",
    " 'job',\n",
    " 'marital',\n",
    " 'education',\n",
    " 'default',\n",
    " 'housing',\n",
    " 'loan',\n",
    " 'contact',\n",
    " 'month',\n",
    " 'day_of_week',\n",
    " 'duration',\n",
    " 'campaign',\n",
    " 'pdays',\n",
    " 'previous',\n",
    " 'poutcome',\n",
    " 'emp_var_rate',\n",
    " 'cons_price_idx',\n",
    " 'cons_conf_idx',\n",
    " 'euribor3m',\n",
    " 'nr_employed',\n",
    " 'y']\n",
    "df_additional = pd.read_csv(os.getenv('bank_additional_data'), sep=';')\n",
    "df_additional.columns = col\n",
    "df.head()"
   ]
  },
  {
   "cell_type": "code",
   "execution_count": 328,
   "id": "b605be1c-a1ee-462e-8d53-f14a34e390e1",
   "metadata": {},
   "outputs": [
    {
     "data": {
      "text/plain": [
       "(45211, 17)"
      ]
     },
     "execution_count": 328,
     "metadata": {},
     "output_type": "execute_result"
    }
   ],
   "source": [
    "df.shape"
   ]
  },
  {
   "cell_type": "code",
   "execution_count": 326,
   "id": "a77d4d36-eab3-4798-ab4c-931f21d49a6f",
   "metadata": {},
   "outputs": [
    {
     "data": {
      "text/plain": [
       "(41188, 21)"
      ]
     },
     "execution_count": 326,
     "metadata": {},
     "output_type": "execute_result"
    }
   ],
   "source": [
    "df_additional.shape"
   ]
  },
  {
   "cell_type": "code",
   "execution_count": 239,
   "id": "2eaa5be4-5aa6-46f6-b017-135dd248dd1e",
   "metadata": {},
   "outputs": [
    {
     "data": {
      "text/html": [
       "<div>\n",
       "<style scoped>\n",
       "    .dataframe tbody tr th:only-of-type {\n",
       "        vertical-align: middle;\n",
       "    }\n",
       "\n",
       "    .dataframe tbody tr th {\n",
       "        vertical-align: top;\n",
       "    }\n",
       "\n",
       "    .dataframe thead th {\n",
       "        text-align: right;\n",
       "    }\n",
       "</style>\n",
       "<table border=\"1\" class=\"dataframe\">\n",
       "  <thead>\n",
       "    <tr style=\"text-align: right;\">\n",
       "      <th></th>\n",
       "      <th>age</th>\n",
       "      <th>job</th>\n",
       "      <th>marital</th>\n",
       "      <th>education</th>\n",
       "      <th>default</th>\n",
       "      <th>housing</th>\n",
       "      <th>loan</th>\n",
       "      <th>contact</th>\n",
       "      <th>month</th>\n",
       "      <th>day_of_week</th>\n",
       "      <th>...</th>\n",
       "      <th>campaign</th>\n",
       "      <th>pdays</th>\n",
       "      <th>previous</th>\n",
       "      <th>poutcome</th>\n",
       "      <th>emp.var.rate</th>\n",
       "      <th>cons.price.idx</th>\n",
       "      <th>cons.conf.idx</th>\n",
       "      <th>euribor3m</th>\n",
       "      <th>nr.employed</th>\n",
       "      <th>y</th>\n",
       "    </tr>\n",
       "  </thead>\n",
       "  <tbody>\n",
       "    <tr>\n",
       "      <th>0</th>\n",
       "      <td>56</td>\n",
       "      <td>housemaid</td>\n",
       "      <td>married</td>\n",
       "      <td>basic.4y</td>\n",
       "      <td>no</td>\n",
       "      <td>no</td>\n",
       "      <td>no</td>\n",
       "      <td>telephone</td>\n",
       "      <td>may</td>\n",
       "      <td>mon</td>\n",
       "      <td>...</td>\n",
       "      <td>1</td>\n",
       "      <td>999</td>\n",
       "      <td>0</td>\n",
       "      <td>nonexistent</td>\n",
       "      <td>1.1</td>\n",
       "      <td>93.994</td>\n",
       "      <td>-36.4</td>\n",
       "      <td>4.857</td>\n",
       "      <td>5191.0</td>\n",
       "      <td>no</td>\n",
       "    </tr>\n",
       "    <tr>\n",
       "      <th>1</th>\n",
       "      <td>57</td>\n",
       "      <td>services</td>\n",
       "      <td>married</td>\n",
       "      <td>high.school</td>\n",
       "      <td>unknown</td>\n",
       "      <td>no</td>\n",
       "      <td>no</td>\n",
       "      <td>telephone</td>\n",
       "      <td>may</td>\n",
       "      <td>mon</td>\n",
       "      <td>...</td>\n",
       "      <td>1</td>\n",
       "      <td>999</td>\n",
       "      <td>0</td>\n",
       "      <td>nonexistent</td>\n",
       "      <td>1.1</td>\n",
       "      <td>93.994</td>\n",
       "      <td>-36.4</td>\n",
       "      <td>4.857</td>\n",
       "      <td>5191.0</td>\n",
       "      <td>no</td>\n",
       "    </tr>\n",
       "    <tr>\n",
       "      <th>2</th>\n",
       "      <td>37</td>\n",
       "      <td>services</td>\n",
       "      <td>married</td>\n",
       "      <td>high.school</td>\n",
       "      <td>no</td>\n",
       "      <td>yes</td>\n",
       "      <td>no</td>\n",
       "      <td>telephone</td>\n",
       "      <td>may</td>\n",
       "      <td>mon</td>\n",
       "      <td>...</td>\n",
       "      <td>1</td>\n",
       "      <td>999</td>\n",
       "      <td>0</td>\n",
       "      <td>nonexistent</td>\n",
       "      <td>1.1</td>\n",
       "      <td>93.994</td>\n",
       "      <td>-36.4</td>\n",
       "      <td>4.857</td>\n",
       "      <td>5191.0</td>\n",
       "      <td>no</td>\n",
       "    </tr>\n",
       "    <tr>\n",
       "      <th>3</th>\n",
       "      <td>40</td>\n",
       "      <td>admin.</td>\n",
       "      <td>married</td>\n",
       "      <td>basic.6y</td>\n",
       "      <td>no</td>\n",
       "      <td>no</td>\n",
       "      <td>no</td>\n",
       "      <td>telephone</td>\n",
       "      <td>may</td>\n",
       "      <td>mon</td>\n",
       "      <td>...</td>\n",
       "      <td>1</td>\n",
       "      <td>999</td>\n",
       "      <td>0</td>\n",
       "      <td>nonexistent</td>\n",
       "      <td>1.1</td>\n",
       "      <td>93.994</td>\n",
       "      <td>-36.4</td>\n",
       "      <td>4.857</td>\n",
       "      <td>5191.0</td>\n",
       "      <td>no</td>\n",
       "    </tr>\n",
       "    <tr>\n",
       "      <th>4</th>\n",
       "      <td>56</td>\n",
       "      <td>services</td>\n",
       "      <td>married</td>\n",
       "      <td>high.school</td>\n",
       "      <td>no</td>\n",
       "      <td>no</td>\n",
       "      <td>yes</td>\n",
       "      <td>telephone</td>\n",
       "      <td>may</td>\n",
       "      <td>mon</td>\n",
       "      <td>...</td>\n",
       "      <td>1</td>\n",
       "      <td>999</td>\n",
       "      <td>0</td>\n",
       "      <td>nonexistent</td>\n",
       "      <td>1.1</td>\n",
       "      <td>93.994</td>\n",
       "      <td>-36.4</td>\n",
       "      <td>4.857</td>\n",
       "      <td>5191.0</td>\n",
       "      <td>no</td>\n",
       "    </tr>\n",
       "  </tbody>\n",
       "</table>\n",
       "<p>5 rows × 21 columns</p>\n",
       "</div>"
      ],
      "text/plain": [
       "   age        job  marital    education  default housing loan    contact  \\\n",
       "0   56  housemaid  married     basic.4y       no      no   no  telephone   \n",
       "1   57   services  married  high.school  unknown      no   no  telephone   \n",
       "2   37   services  married  high.school       no     yes   no  telephone   \n",
       "3   40     admin.  married     basic.6y       no      no   no  telephone   \n",
       "4   56   services  married  high.school       no      no  yes  telephone   \n",
       "\n",
       "  month day_of_week  ...  campaign  pdays  previous     poutcome emp.var.rate  \\\n",
       "0   may         mon  ...         1    999         0  nonexistent          1.1   \n",
       "1   may         mon  ...         1    999         0  nonexistent          1.1   \n",
       "2   may         mon  ...         1    999         0  nonexistent          1.1   \n",
       "3   may         mon  ...         1    999         0  nonexistent          1.1   \n",
       "4   may         mon  ...         1    999         0  nonexistent          1.1   \n",
       "\n",
       "   cons.price.idx  cons.conf.idx  euribor3m  nr.employed   y  \n",
       "0          93.994          -36.4      4.857       5191.0  no  \n",
       "1          93.994          -36.4      4.857       5191.0  no  \n",
       "2          93.994          -36.4      4.857       5191.0  no  \n",
       "3          93.994          -36.4      4.857       5191.0  no  \n",
       "4          93.994          -36.4      4.857       5191.0  no  \n",
       "\n",
       "[5 rows x 21 columns]"
      ]
     },
     "execution_count": 239,
     "metadata": {},
     "output_type": "execute_result"
    }
   ],
   "source": [
    "df_additional.head()"
   ]
  },
  {
   "cell_type": "code",
   "execution_count": 240,
   "id": "57a4072f-e6a4-4666-913d-8b2efb433f32",
   "metadata": {},
   "outputs": [
    {
     "name": "stdout",
     "output_type": "stream",
     "text": [
      "<class 'pandas.core.frame.DataFrame'>\n",
      "RangeIndex: 45211 entries, 0 to 45210\n",
      "Data columns (total 17 columns):\n",
      " #   Column     Non-Null Count  Dtype \n",
      "---  ------     --------------  ----- \n",
      " 0   age        45211 non-null  int64 \n",
      " 1   job        45211 non-null  object\n",
      " 2   marital    45211 non-null  object\n",
      " 3   education  45211 non-null  object\n",
      " 4   default    45211 non-null  object\n",
      " 5   balance    45211 non-null  int64 \n",
      " 6   housing    45211 non-null  object\n",
      " 7   loan       45211 non-null  object\n",
      " 8   contact    45211 non-null  object\n",
      " 9   day        45211 non-null  int64 \n",
      " 10  month      45211 non-null  object\n",
      " 11  duration   45211 non-null  int64 \n",
      " 12  campaign   45211 non-null  int64 \n",
      " 13  pdays      45211 non-null  int64 \n",
      " 14  previous   45211 non-null  int64 \n",
      " 15  poutcome   45211 non-null  object\n",
      " 16  y          45211 non-null  object\n",
      "dtypes: int64(7), object(10)\n",
      "memory usage: 5.9+ MB\n"
     ]
    }
   ],
   "source": [
    "df.info()"
   ]
  },
  {
   "cell_type": "code",
   "execution_count": 241,
   "id": "43b7faf2-cb63-4efc-9a9f-c52965743499",
   "metadata": {},
   "outputs": [
    {
     "name": "stdout",
     "output_type": "stream",
     "text": [
      "<class 'pandas.core.frame.DataFrame'>\n",
      "RangeIndex: 41188 entries, 0 to 41187\n",
      "Data columns (total 21 columns):\n",
      " #   Column          Non-Null Count  Dtype  \n",
      "---  ------          --------------  -----  \n",
      " 0   age             41188 non-null  int64  \n",
      " 1   job             41188 non-null  object \n",
      " 2   marital         41188 non-null  object \n",
      " 3   education       41188 non-null  object \n",
      " 4   default         41188 non-null  object \n",
      " 5   housing         41188 non-null  object \n",
      " 6   loan            41188 non-null  object \n",
      " 7   contact         41188 non-null  object \n",
      " 8   month           41188 non-null  object \n",
      " 9   day_of_week     41188 non-null  object \n",
      " 10  duration        41188 non-null  int64  \n",
      " 11  campaign        41188 non-null  int64  \n",
      " 12  pdays           41188 non-null  int64  \n",
      " 13  previous        41188 non-null  int64  \n",
      " 14  poutcome        41188 non-null  object \n",
      " 15  emp.var.rate    41188 non-null  float64\n",
      " 16  cons.price.idx  41188 non-null  float64\n",
      " 17  cons.conf.idx   41188 non-null  float64\n",
      " 18  euribor3m       41188 non-null  float64\n",
      " 19  nr.employed     41188 non-null  float64\n",
      " 20  y               41188 non-null  object \n",
      "dtypes: float64(5), int64(5), object(11)\n",
      "memory usage: 6.6+ MB\n"
     ]
    }
   ],
   "source": [
    "df_additional.info()"
   ]
  },
  {
   "cell_type": "markdown",
   "id": "ab9c1f65-2ceb-4de6-a7dd-acaf3023c048",
   "metadata": {},
   "source": [
    "### __Data Separation__"
   ]
  },
  {
   "cell_type": "code",
   "execution_count": 242,
   "id": "ef856c63-8d79-47d7-b42d-c72b1df9e407",
   "metadata": {},
   "outputs": [],
   "source": [
    "# categorical data\n",
    "cat_data = df_additional.select_dtypes(['object', 'bool'])\n",
    "\n",
    "# numerical data\n",
    "num_data = df_additional.select_dtypes(['int','float','int64','float64'])"
   ]
  },
  {
   "cell_type": "code",
   "execution_count": 243,
   "id": "3a43ef40-87c5-4cbe-8ba3-149eadc412b8",
   "metadata": {},
   "outputs": [],
   "source": [
    "le = LabelEncoder()\n",
    "\n",
    "def encode(df, collist):\n",
    "    classes = {}\n",
    "    for i in collist:\n",
    "        if i in df.columns:\n",
    "            df[i] = le.fit_transform(df[i])\n",
    "            classes.update({i: {i:j for i,j in enumerate(le.classes_)}})\n",
    "    return classes"
   ]
  },
  {
   "cell_type": "code",
   "execution_count": 244,
   "id": "1e93cab7-ea2a-4b90-96b3-57657ae53afc",
   "metadata": {},
   "outputs": [
    {
     "data": {
      "text/plain": [
       "{'job': {0: 'admin.',\n",
       "  1: 'blue-collar',\n",
       "  2: 'entrepreneur',\n",
       "  3: 'housemaid',\n",
       "  4: 'management',\n",
       "  5: 'retired',\n",
       "  6: 'self-employed',\n",
       "  7: 'services',\n",
       "  8: 'student',\n",
       "  9: 'technician',\n",
       "  10: 'unemployed',\n",
       "  11: 'unknown'},\n",
       " 'marital': {0: 'divorced', 1: 'married', 2: 'single', 3: 'unknown'},\n",
       " 'education': {0: 'basic.4y',\n",
       "  1: 'basic.6y',\n",
       "  2: 'basic.9y',\n",
       "  3: 'high.school',\n",
       "  4: 'illiterate',\n",
       "  5: 'professional.course',\n",
       "  6: 'university.degree',\n",
       "  7: 'unknown'},\n",
       " 'default': {0: 'no', 1: 'unknown', 2: 'yes'},\n",
       " 'housing': {0: 'no', 1: 'unknown', 2: 'yes'},\n",
       " 'loan': {0: 'no', 1: 'unknown', 2: 'yes'},\n",
       " 'contact': {0: 'cellular', 1: 'telephone'},\n",
       " 'month': {0: 'apr',\n",
       "  1: 'aug',\n",
       "  2: 'dec',\n",
       "  3: 'jul',\n",
       "  4: 'jun',\n",
       "  5: 'mar',\n",
       "  6: 'may',\n",
       "  7: 'nov',\n",
       "  8: 'oct',\n",
       "  9: 'sep'},\n",
       " 'day_of_week': {0: 'fri', 1: 'mon', 2: 'thu', 3: 'tue', 4: 'wed'},\n",
       " 'poutcome': {0: 'failure', 1: 'nonexistent', 2: 'success'},\n",
       " 'y': {0: 'no', 1: 'yes'}}"
      ]
     },
     "execution_count": 244,
     "metadata": {},
     "output_type": "execute_result"
    }
   ],
   "source": [
    "collist = ['job','marital','education','default','housing','loan','contact','month','day_of_week','poutcome','y']\n",
    "classes = encode(df_additional, collist)\n",
    "classes"
   ]
  },
  {
   "cell_type": "code",
   "execution_count": 245,
   "id": "b8497bab-a4b8-4c04-bbf8-128452c97ad0",
   "metadata": {},
   "outputs": [
    {
     "data": {
      "text/html": [
       "<div>\n",
       "<style scoped>\n",
       "    .dataframe tbody tr th:only-of-type {\n",
       "        vertical-align: middle;\n",
       "    }\n",
       "\n",
       "    .dataframe tbody tr th {\n",
       "        vertical-align: top;\n",
       "    }\n",
       "\n",
       "    .dataframe thead th {\n",
       "        text-align: right;\n",
       "    }\n",
       "</style>\n",
       "<table border=\"1\" class=\"dataframe\">\n",
       "  <thead>\n",
       "    <tr style=\"text-align: right;\">\n",
       "      <th></th>\n",
       "      <th>age</th>\n",
       "      <th>job</th>\n",
       "      <th>marital</th>\n",
       "      <th>education</th>\n",
       "      <th>default</th>\n",
       "      <th>housing</th>\n",
       "      <th>loan</th>\n",
       "      <th>contact</th>\n",
       "      <th>month</th>\n",
       "      <th>day_of_week</th>\n",
       "      <th>...</th>\n",
       "      <th>campaign</th>\n",
       "      <th>pdays</th>\n",
       "      <th>previous</th>\n",
       "      <th>poutcome</th>\n",
       "      <th>emp.var.rate</th>\n",
       "      <th>cons.price.idx</th>\n",
       "      <th>cons.conf.idx</th>\n",
       "      <th>euribor3m</th>\n",
       "      <th>nr.employed</th>\n",
       "      <th>y</th>\n",
       "    </tr>\n",
       "  </thead>\n",
       "  <tbody>\n",
       "    <tr>\n",
       "      <th>0</th>\n",
       "      <td>56</td>\n",
       "      <td>3</td>\n",
       "      <td>1</td>\n",
       "      <td>0</td>\n",
       "      <td>0</td>\n",
       "      <td>0</td>\n",
       "      <td>0</td>\n",
       "      <td>1</td>\n",
       "      <td>6</td>\n",
       "      <td>1</td>\n",
       "      <td>...</td>\n",
       "      <td>1</td>\n",
       "      <td>999</td>\n",
       "      <td>0</td>\n",
       "      <td>1</td>\n",
       "      <td>1.1</td>\n",
       "      <td>93.994</td>\n",
       "      <td>-36.4</td>\n",
       "      <td>4.857</td>\n",
       "      <td>5191.0</td>\n",
       "      <td>0</td>\n",
       "    </tr>\n",
       "    <tr>\n",
       "      <th>1</th>\n",
       "      <td>57</td>\n",
       "      <td>7</td>\n",
       "      <td>1</td>\n",
       "      <td>3</td>\n",
       "      <td>1</td>\n",
       "      <td>0</td>\n",
       "      <td>0</td>\n",
       "      <td>1</td>\n",
       "      <td>6</td>\n",
       "      <td>1</td>\n",
       "      <td>...</td>\n",
       "      <td>1</td>\n",
       "      <td>999</td>\n",
       "      <td>0</td>\n",
       "      <td>1</td>\n",
       "      <td>1.1</td>\n",
       "      <td>93.994</td>\n",
       "      <td>-36.4</td>\n",
       "      <td>4.857</td>\n",
       "      <td>5191.0</td>\n",
       "      <td>0</td>\n",
       "    </tr>\n",
       "  </tbody>\n",
       "</table>\n",
       "<p>2 rows × 21 columns</p>\n",
       "</div>"
      ],
      "text/plain": [
       "   age  job  marital  education  default  housing  loan  contact  month  \\\n",
       "0   56    3        1          0        0        0     0        1      6   \n",
       "1   57    7        1          3        1        0     0        1      6   \n",
       "\n",
       "   day_of_week  ...  campaign  pdays  previous  poutcome  emp.var.rate  \\\n",
       "0            1  ...         1    999         0         1           1.1   \n",
       "1            1  ...         1    999         0         1           1.1   \n",
       "\n",
       "   cons.price.idx  cons.conf.idx  euribor3m  nr.employed  y  \n",
       "0          93.994          -36.4      4.857       5191.0  0  \n",
       "1          93.994          -36.4      4.857       5191.0  0  \n",
       "\n",
       "[2 rows x 21 columns]"
      ]
     },
     "execution_count": 245,
     "metadata": {},
     "output_type": "execute_result"
    }
   ],
   "source": [
    "df_additional.head(2)"
   ]
  },
  {
   "cell_type": "code",
   "execution_count": 246,
   "id": "1a5ee649-8812-4779-9b2c-544461487d7c",
   "metadata": {},
   "outputs": [
    {
     "data": {
      "text/plain": [
       "Index(['age', 'job', 'marital', 'education', 'default', 'housing', 'loan',\n",
       "       'contact', 'month', 'day_of_week', 'campaign', 'pdays', 'previous',\n",
       "       'poutcome', 'emp.var.rate', 'cons.price.idx', 'cons.conf.idx',\n",
       "       'euribor3m', 'nr.employed', 'y'],\n",
       "      dtype='object')"
      ]
     },
     "execution_count": 246,
     "metadata": {},
     "output_type": "execute_result"
    }
   ],
   "source": [
    "# lets drop the unnecessary column\n",
    "df_additional.drop('duration', axis=1, inplace=True)\n",
    "df_additional.columns"
   ]
  },
  {
   "cell_type": "code",
   "execution_count": 247,
   "id": "e90f5f39-2834-49c4-8736-b3259b597a0a",
   "metadata": {},
   "outputs": [
    {
     "data": {
      "text/html": [
       "<div>\n",
       "<style scoped>\n",
       "    .dataframe tbody tr th:only-of-type {\n",
       "        vertical-align: middle;\n",
       "    }\n",
       "\n",
       "    .dataframe tbody tr th {\n",
       "        vertical-align: top;\n",
       "    }\n",
       "\n",
       "    .dataframe thead th {\n",
       "        text-align: right;\n",
       "    }\n",
       "</style>\n",
       "<table border=\"1\" class=\"dataframe\">\n",
       "  <thead>\n",
       "    <tr style=\"text-align: right;\">\n",
       "      <th></th>\n",
       "      <th>0</th>\n",
       "      <th>1</th>\n",
       "      <th>2</th>\n",
       "      <th>3</th>\n",
       "      <th>4</th>\n",
       "    </tr>\n",
       "  </thead>\n",
       "  <tbody>\n",
       "    <tr>\n",
       "      <th>age</th>\n",
       "      <td>56.000</td>\n",
       "      <td>57.000</td>\n",
       "      <td>37.000</td>\n",
       "      <td>40.000</td>\n",
       "      <td>56.000</td>\n",
       "    </tr>\n",
       "    <tr>\n",
       "      <th>job</th>\n",
       "      <td>3.000</td>\n",
       "      <td>7.000</td>\n",
       "      <td>7.000</td>\n",
       "      <td>0.000</td>\n",
       "      <td>7.000</td>\n",
       "    </tr>\n",
       "    <tr>\n",
       "      <th>marital</th>\n",
       "      <td>1.000</td>\n",
       "      <td>1.000</td>\n",
       "      <td>1.000</td>\n",
       "      <td>1.000</td>\n",
       "      <td>1.000</td>\n",
       "    </tr>\n",
       "    <tr>\n",
       "      <th>education</th>\n",
       "      <td>0.000</td>\n",
       "      <td>3.000</td>\n",
       "      <td>3.000</td>\n",
       "      <td>1.000</td>\n",
       "      <td>3.000</td>\n",
       "    </tr>\n",
       "    <tr>\n",
       "      <th>default</th>\n",
       "      <td>0.000</td>\n",
       "      <td>1.000</td>\n",
       "      <td>0.000</td>\n",
       "      <td>0.000</td>\n",
       "      <td>0.000</td>\n",
       "    </tr>\n",
       "    <tr>\n",
       "      <th>housing</th>\n",
       "      <td>0.000</td>\n",
       "      <td>0.000</td>\n",
       "      <td>2.000</td>\n",
       "      <td>0.000</td>\n",
       "      <td>0.000</td>\n",
       "    </tr>\n",
       "    <tr>\n",
       "      <th>loan</th>\n",
       "      <td>0.000</td>\n",
       "      <td>0.000</td>\n",
       "      <td>0.000</td>\n",
       "      <td>0.000</td>\n",
       "      <td>2.000</td>\n",
       "    </tr>\n",
       "    <tr>\n",
       "      <th>contact</th>\n",
       "      <td>1.000</td>\n",
       "      <td>1.000</td>\n",
       "      <td>1.000</td>\n",
       "      <td>1.000</td>\n",
       "      <td>1.000</td>\n",
       "    </tr>\n",
       "    <tr>\n",
       "      <th>month</th>\n",
       "      <td>6.000</td>\n",
       "      <td>6.000</td>\n",
       "      <td>6.000</td>\n",
       "      <td>6.000</td>\n",
       "      <td>6.000</td>\n",
       "    </tr>\n",
       "    <tr>\n",
       "      <th>day_of_week</th>\n",
       "      <td>1.000</td>\n",
       "      <td>1.000</td>\n",
       "      <td>1.000</td>\n",
       "      <td>1.000</td>\n",
       "      <td>1.000</td>\n",
       "    </tr>\n",
       "    <tr>\n",
       "      <th>campaign</th>\n",
       "      <td>1.000</td>\n",
       "      <td>1.000</td>\n",
       "      <td>1.000</td>\n",
       "      <td>1.000</td>\n",
       "      <td>1.000</td>\n",
       "    </tr>\n",
       "    <tr>\n",
       "      <th>pdays</th>\n",
       "      <td>999.000</td>\n",
       "      <td>999.000</td>\n",
       "      <td>999.000</td>\n",
       "      <td>999.000</td>\n",
       "      <td>999.000</td>\n",
       "    </tr>\n",
       "    <tr>\n",
       "      <th>previous</th>\n",
       "      <td>0.000</td>\n",
       "      <td>0.000</td>\n",
       "      <td>0.000</td>\n",
       "      <td>0.000</td>\n",
       "      <td>0.000</td>\n",
       "    </tr>\n",
       "    <tr>\n",
       "      <th>poutcome</th>\n",
       "      <td>1.000</td>\n",
       "      <td>1.000</td>\n",
       "      <td>1.000</td>\n",
       "      <td>1.000</td>\n",
       "      <td>1.000</td>\n",
       "    </tr>\n",
       "    <tr>\n",
       "      <th>emp.var.rate</th>\n",
       "      <td>1.100</td>\n",
       "      <td>1.100</td>\n",
       "      <td>1.100</td>\n",
       "      <td>1.100</td>\n",
       "      <td>1.100</td>\n",
       "    </tr>\n",
       "    <tr>\n",
       "      <th>cons.price.idx</th>\n",
       "      <td>93.994</td>\n",
       "      <td>93.994</td>\n",
       "      <td>93.994</td>\n",
       "      <td>93.994</td>\n",
       "      <td>93.994</td>\n",
       "    </tr>\n",
       "    <tr>\n",
       "      <th>cons.conf.idx</th>\n",
       "      <td>-36.400</td>\n",
       "      <td>-36.400</td>\n",
       "      <td>-36.400</td>\n",
       "      <td>-36.400</td>\n",
       "      <td>-36.400</td>\n",
       "    </tr>\n",
       "    <tr>\n",
       "      <th>euribor3m</th>\n",
       "      <td>4.857</td>\n",
       "      <td>4.857</td>\n",
       "      <td>4.857</td>\n",
       "      <td>4.857</td>\n",
       "      <td>4.857</td>\n",
       "    </tr>\n",
       "    <tr>\n",
       "      <th>nr.employed</th>\n",
       "      <td>5191.000</td>\n",
       "      <td>5191.000</td>\n",
       "      <td>5191.000</td>\n",
       "      <td>5191.000</td>\n",
       "      <td>5191.000</td>\n",
       "    </tr>\n",
       "    <tr>\n",
       "      <th>y</th>\n",
       "      <td>0.000</td>\n",
       "      <td>0.000</td>\n",
       "      <td>0.000</td>\n",
       "      <td>0.000</td>\n",
       "      <td>0.000</td>\n",
       "    </tr>\n",
       "  </tbody>\n",
       "</table>\n",
       "</div>"
      ],
      "text/plain": [
       "                       0         1         2         3         4\n",
       "age               56.000    57.000    37.000    40.000    56.000\n",
       "job                3.000     7.000     7.000     0.000     7.000\n",
       "marital            1.000     1.000     1.000     1.000     1.000\n",
       "education          0.000     3.000     3.000     1.000     3.000\n",
       "default            0.000     1.000     0.000     0.000     0.000\n",
       "housing            0.000     0.000     2.000     0.000     0.000\n",
       "loan               0.000     0.000     0.000     0.000     2.000\n",
       "contact            1.000     1.000     1.000     1.000     1.000\n",
       "month              6.000     6.000     6.000     6.000     6.000\n",
       "day_of_week        1.000     1.000     1.000     1.000     1.000\n",
       "campaign           1.000     1.000     1.000     1.000     1.000\n",
       "pdays            999.000   999.000   999.000   999.000   999.000\n",
       "previous           0.000     0.000     0.000     0.000     0.000\n",
       "poutcome           1.000     1.000     1.000     1.000     1.000\n",
       "emp.var.rate       1.100     1.100     1.100     1.100     1.100\n",
       "cons.price.idx    93.994    93.994    93.994    93.994    93.994\n",
       "cons.conf.idx    -36.400   -36.400   -36.400   -36.400   -36.400\n",
       "euribor3m          4.857     4.857     4.857     4.857     4.857\n",
       "nr.employed     5191.000  5191.000  5191.000  5191.000  5191.000\n",
       "y                  0.000     0.000     0.000     0.000     0.000"
      ]
     },
     "execution_count": 247,
     "metadata": {},
     "output_type": "execute_result"
    }
   ],
   "source": [
    "df_additional.head().T"
   ]
  },
  {
   "cell_type": "code",
   "execution_count": 248,
   "id": "f392df10-592a-4fe7-a511-eab6fc36d462",
   "metadata": {},
   "outputs": [
    {
     "data": {
      "text/html": [
       "<div>\n",
       "<style scoped>\n",
       "    .dataframe tbody tr th:only-of-type {\n",
       "        vertical-align: middle;\n",
       "    }\n",
       "\n",
       "    .dataframe tbody tr th {\n",
       "        vertical-align: top;\n",
       "    }\n",
       "\n",
       "    .dataframe thead th {\n",
       "        text-align: right;\n",
       "    }\n",
       "</style>\n",
       "<table border=\"1\" class=\"dataframe\">\n",
       "  <thead>\n",
       "    <tr style=\"text-align: right;\">\n",
       "      <th></th>\n",
       "      <th>age</th>\n",
       "      <th>job</th>\n",
       "      <th>marital</th>\n",
       "      <th>education</th>\n",
       "      <th>default</th>\n",
       "      <th>housing</th>\n",
       "      <th>loan</th>\n",
       "      <th>contact</th>\n",
       "      <th>month</th>\n",
       "      <th>day_of_week</th>\n",
       "      <th>campaign</th>\n",
       "      <th>pdays</th>\n",
       "      <th>previous</th>\n",
       "      <th>poutcome</th>\n",
       "      <th>emp.var.rate</th>\n",
       "      <th>cons.price.idx</th>\n",
       "      <th>cons.conf.idx</th>\n",
       "      <th>euribor3m</th>\n",
       "      <th>nr.employed</th>\n",
       "      <th>y</th>\n",
       "    </tr>\n",
       "  </thead>\n",
       "  <tbody>\n",
       "    <tr>\n",
       "      <th>age</th>\n",
       "      <td>1.000000</td>\n",
       "      <td>0.001250</td>\n",
       "      <td>-0.389753</td>\n",
       "      <td>-0.117892</td>\n",
       "      <td>0.164965</td>\n",
       "      <td>-0.001603</td>\n",
       "      <td>-0.007368</td>\n",
       "      <td>0.007021</td>\n",
       "      <td>-0.024877</td>\n",
       "      <td>-0.017572</td>\n",
       "      <td>0.004594</td>\n",
       "      <td>-0.034369</td>\n",
       "      <td>0.024365</td>\n",
       "      <td>0.019750</td>\n",
       "      <td>-0.000371</td>\n",
       "      <td>0.000857</td>\n",
       "      <td>0.129372</td>\n",
       "      <td>0.010767</td>\n",
       "      <td>-0.017725</td>\n",
       "      <td>0.030399</td>\n",
       "    </tr>\n",
       "    <tr>\n",
       "      <th>job</th>\n",
       "      <td>0.001250</td>\n",
       "      <td>1.000000</td>\n",
       "      <td>0.027897</td>\n",
       "      <td>0.134121</td>\n",
       "      <td>-0.028277</td>\n",
       "      <td>0.006962</td>\n",
       "      <td>-0.010209</td>\n",
       "      <td>-0.025132</td>\n",
       "      <td>-0.033213</td>\n",
       "      <td>-0.000844</td>\n",
       "      <td>-0.006923</td>\n",
       "      <td>-0.028468</td>\n",
       "      <td>0.020965</td>\n",
       "      <td>0.011504</td>\n",
       "      <td>-0.008271</td>\n",
       "      <td>-0.016017</td>\n",
       "      <td>0.052760</td>\n",
       "      <td>-0.007880</td>\n",
       "      <td>-0.019574</td>\n",
       "      <td>0.025122</td>\n",
       "    </tr>\n",
       "    <tr>\n",
       "      <th>marital</th>\n",
       "      <td>-0.389753</td>\n",
       "      <td>0.027897</td>\n",
       "      <td>1.000000</td>\n",
       "      <td>0.109220</td>\n",
       "      <td>-0.079450</td>\n",
       "      <td>0.010467</td>\n",
       "      <td>0.005788</td>\n",
       "      <td>-0.054501</td>\n",
       "      <td>-0.007629</td>\n",
       "      <td>0.002202</td>\n",
       "      <td>-0.007240</td>\n",
       "      <td>-0.037942</td>\n",
       "      <td>0.038689</td>\n",
       "      <td>0.001912</td>\n",
       "      <td>-0.084210</td>\n",
       "      <td>-0.057477</td>\n",
       "      <td>-0.033783</td>\n",
       "      <td>-0.091939</td>\n",
       "      <td>-0.086199</td>\n",
       "      <td>0.046203</td>\n",
       "    </tr>\n",
       "    <tr>\n",
       "      <th>education</th>\n",
       "      <td>-0.117892</td>\n",
       "      <td>0.134121</td>\n",
       "      <td>0.109220</td>\n",
       "      <td>1.000000</td>\n",
       "      <td>-0.186859</td>\n",
       "      <td>0.016825</td>\n",
       "      <td>0.006384</td>\n",
       "      <td>-0.105726</td>\n",
       "      <td>-0.082684</td>\n",
       "      <td>-0.017986</td>\n",
       "      <td>0.000371</td>\n",
       "      <td>-0.046626</td>\n",
       "      <td>0.038831</td>\n",
       "      <td>0.017009</td>\n",
       "      <td>-0.043778</td>\n",
       "      <td>-0.081607</td>\n",
       "      <td>0.078799</td>\n",
       "      <td>-0.036380</td>\n",
       "      <td>-0.041492</td>\n",
       "      <td>0.057799</td>\n",
       "    </tr>\n",
       "    <tr>\n",
       "      <th>default</th>\n",
       "      <td>0.164965</td>\n",
       "      <td>-0.028277</td>\n",
       "      <td>-0.079450</td>\n",
       "      <td>-0.186859</td>\n",
       "      <td>1.000000</td>\n",
       "      <td>-0.015815</td>\n",
       "      <td>-0.003782</td>\n",
       "      <td>0.135238</td>\n",
       "      <td>-0.015830</td>\n",
       "      <td>-0.008701</td>\n",
       "      <td>0.032825</td>\n",
       "      <td>0.080062</td>\n",
       "      <td>-0.102416</td>\n",
       "      <td>0.023417</td>\n",
       "      <td>0.203263</td>\n",
       "      <td>0.168073</td>\n",
       "      <td>0.026522</td>\n",
       "      <td>0.195336</td>\n",
       "      <td>0.189845</td>\n",
       "      <td>-0.099352</td>\n",
       "    </tr>\n",
       "    <tr>\n",
       "      <th>housing</th>\n",
       "      <td>-0.001603</td>\n",
       "      <td>0.006962</td>\n",
       "      <td>0.010467</td>\n",
       "      <td>0.016825</td>\n",
       "      <td>-0.015815</td>\n",
       "      <td>1.000000</td>\n",
       "      <td>0.044296</td>\n",
       "      <td>-0.082186</td>\n",
       "      <td>-0.018141</td>\n",
       "      <td>0.003339</td>\n",
       "      <td>-0.011010</td>\n",
       "      <td>-0.010551</td>\n",
       "      <td>0.021314</td>\n",
       "      <td>-0.011783</td>\n",
       "      <td>-0.060196</td>\n",
       "      <td>-0.080504</td>\n",
       "      <td>-0.033845</td>\n",
       "      <td>-0.059277</td>\n",
       "      <td>-0.045862</td>\n",
       "      <td>0.011552</td>\n",
       "    </tr>\n",
       "    <tr>\n",
       "      <th>loan</th>\n",
       "      <td>-0.007368</td>\n",
       "      <td>-0.010209</td>\n",
       "      <td>0.005788</td>\n",
       "      <td>0.006384</td>\n",
       "      <td>-0.003782</td>\n",
       "      <td>0.044296</td>\n",
       "      <td>1.000000</td>\n",
       "      <td>-0.008556</td>\n",
       "      <td>-0.005705</td>\n",
       "      <td>-0.009344</td>\n",
       "      <td>0.005166</td>\n",
       "      <td>0.000345</td>\n",
       "      <td>-0.001327</td>\n",
       "      <td>-0.001511</td>\n",
       "      <td>0.001849</td>\n",
       "      <td>-0.002430</td>\n",
       "      <td>-0.012025</td>\n",
       "      <td>0.000125</td>\n",
       "      <td>0.003903</td>\n",
       "      <td>-0.004909</td>\n",
       "    </tr>\n",
       "    <tr>\n",
       "      <th>contact</th>\n",
       "      <td>0.007021</td>\n",
       "      <td>-0.025132</td>\n",
       "      <td>-0.054501</td>\n",
       "      <td>-0.105726</td>\n",
       "      <td>0.135238</td>\n",
       "      <td>-0.082186</td>\n",
       "      <td>-0.008556</td>\n",
       "      <td>1.000000</td>\n",
       "      <td>0.276565</td>\n",
       "      <td>-0.009575</td>\n",
       "      <td>0.077368</td>\n",
       "      <td>0.117970</td>\n",
       "      <td>-0.212848</td>\n",
       "      <td>0.118744</td>\n",
       "      <td>0.393584</td>\n",
       "      <td>0.591474</td>\n",
       "      <td>0.251614</td>\n",
       "      <td>0.399773</td>\n",
       "      <td>0.269155</td>\n",
       "      <td>-0.144773</td>\n",
       "    </tr>\n",
       "    <tr>\n",
       "      <th>month</th>\n",
       "      <td>-0.024877</td>\n",
       "      <td>-0.033213</td>\n",
       "      <td>-0.007629</td>\n",
       "      <td>-0.082684</td>\n",
       "      <td>-0.015830</td>\n",
       "      <td>-0.018141</td>\n",
       "      <td>-0.005705</td>\n",
       "      <td>0.276565</td>\n",
       "      <td>1.000000</td>\n",
       "      <td>0.027677</td>\n",
       "      <td>-0.062059</td>\n",
       "      <td>-0.047891</td>\n",
       "      <td>0.103157</td>\n",
       "      <td>-0.065012</td>\n",
       "      <td>-0.178782</td>\n",
       "      <td>-0.004239</td>\n",
       "      <td>0.009652</td>\n",
       "      <td>-0.117264</td>\n",
       "      <td>-0.221425</td>\n",
       "      <td>-0.006065</td>\n",
       "    </tr>\n",
       "    <tr>\n",
       "      <th>day_of_week</th>\n",
       "      <td>-0.017572</td>\n",
       "      <td>-0.000844</td>\n",
       "      <td>0.002202</td>\n",
       "      <td>-0.017986</td>\n",
       "      <td>-0.008701</td>\n",
       "      <td>0.003339</td>\n",
       "      <td>-0.009344</td>\n",
       "      <td>-0.009575</td>\n",
       "      <td>0.027677</td>\n",
       "      <td>1.000000</td>\n",
       "      <td>-0.038288</td>\n",
       "      <td>-0.009531</td>\n",
       "      <td>-0.004102</td>\n",
       "      <td>0.018732</td>\n",
       "      <td>0.033245</td>\n",
       "      <td>0.005644</td>\n",
       "      <td>0.041465</td>\n",
       "      <td>0.039043</td>\n",
       "      <td>0.028380</td>\n",
       "      <td>0.015967</td>\n",
       "    </tr>\n",
       "    <tr>\n",
       "      <th>campaign</th>\n",
       "      <td>0.004594</td>\n",
       "      <td>-0.006923</td>\n",
       "      <td>-0.007240</td>\n",
       "      <td>0.000371</td>\n",
       "      <td>0.032825</td>\n",
       "      <td>-0.011010</td>\n",
       "      <td>0.005166</td>\n",
       "      <td>0.077368</td>\n",
       "      <td>-0.062059</td>\n",
       "      <td>-0.038288</td>\n",
       "      <td>1.000000</td>\n",
       "      <td>0.052584</td>\n",
       "      <td>-0.079141</td>\n",
       "      <td>0.032586</td>\n",
       "      <td>0.150754</td>\n",
       "      <td>0.127836</td>\n",
       "      <td>-0.013733</td>\n",
       "      <td>0.135133</td>\n",
       "      <td>0.144095</td>\n",
       "      <td>-0.066357</td>\n",
       "    </tr>\n",
       "    <tr>\n",
       "      <th>pdays</th>\n",
       "      <td>-0.034369</td>\n",
       "      <td>-0.028468</td>\n",
       "      <td>-0.037942</td>\n",
       "      <td>-0.046626</td>\n",
       "      <td>0.080062</td>\n",
       "      <td>-0.010551</td>\n",
       "      <td>0.000345</td>\n",
       "      <td>0.117970</td>\n",
       "      <td>-0.047891</td>\n",
       "      <td>-0.009531</td>\n",
       "      <td>0.052584</td>\n",
       "      <td>1.000000</td>\n",
       "      <td>-0.587514</td>\n",
       "      <td>-0.475619</td>\n",
       "      <td>0.271004</td>\n",
       "      <td>0.078889</td>\n",
       "      <td>-0.091342</td>\n",
       "      <td>0.296899</td>\n",
       "      <td>0.372605</td>\n",
       "      <td>-0.324914</td>\n",
       "    </tr>\n",
       "    <tr>\n",
       "      <th>previous</th>\n",
       "      <td>0.024365</td>\n",
       "      <td>0.020965</td>\n",
       "      <td>0.038689</td>\n",
       "      <td>0.038831</td>\n",
       "      <td>-0.102416</td>\n",
       "      <td>0.021314</td>\n",
       "      <td>-0.001327</td>\n",
       "      <td>-0.212848</td>\n",
       "      <td>0.103157</td>\n",
       "      <td>-0.004102</td>\n",
       "      <td>-0.079141</td>\n",
       "      <td>-0.587514</td>\n",
       "      <td>1.000000</td>\n",
       "      <td>-0.313110</td>\n",
       "      <td>-0.420489</td>\n",
       "      <td>-0.203130</td>\n",
       "      <td>-0.050936</td>\n",
       "      <td>-0.454494</td>\n",
       "      <td>-0.501333</td>\n",
       "      <td>0.230181</td>\n",
       "    </tr>\n",
       "    <tr>\n",
       "      <th>poutcome</th>\n",
       "      <td>0.019750</td>\n",
       "      <td>0.011504</td>\n",
       "      <td>0.001912</td>\n",
       "      <td>0.017009</td>\n",
       "      <td>0.023417</td>\n",
       "      <td>-0.011783</td>\n",
       "      <td>-0.001511</td>\n",
       "      <td>0.118744</td>\n",
       "      <td>-0.065012</td>\n",
       "      <td>0.018732</td>\n",
       "      <td>0.032586</td>\n",
       "      <td>-0.475619</td>\n",
       "      <td>-0.313110</td>\n",
       "      <td>1.000000</td>\n",
       "      <td>0.192972</td>\n",
       "      <td>0.211330</td>\n",
       "      <td>0.178289</td>\n",
       "      <td>0.184144</td>\n",
       "      <td>0.119689</td>\n",
       "      <td>0.129789</td>\n",
       "    </tr>\n",
       "    <tr>\n",
       "      <th>emp.var.rate</th>\n",
       "      <td>-0.000371</td>\n",
       "      <td>-0.008271</td>\n",
       "      <td>-0.084210</td>\n",
       "      <td>-0.043778</td>\n",
       "      <td>0.203263</td>\n",
       "      <td>-0.060196</td>\n",
       "      <td>0.001849</td>\n",
       "      <td>0.393584</td>\n",
       "      <td>-0.178782</td>\n",
       "      <td>0.033245</td>\n",
       "      <td>0.150754</td>\n",
       "      <td>0.271004</td>\n",
       "      <td>-0.420489</td>\n",
       "      <td>0.192972</td>\n",
       "      <td>1.000000</td>\n",
       "      <td>0.775334</td>\n",
       "      <td>0.196041</td>\n",
       "      <td>0.972245</td>\n",
       "      <td>0.906970</td>\n",
       "      <td>-0.298334</td>\n",
       "    </tr>\n",
       "    <tr>\n",
       "      <th>cons.price.idx</th>\n",
       "      <td>0.000857</td>\n",
       "      <td>-0.016017</td>\n",
       "      <td>-0.057477</td>\n",
       "      <td>-0.081607</td>\n",
       "      <td>0.168073</td>\n",
       "      <td>-0.080504</td>\n",
       "      <td>-0.002430</td>\n",
       "      <td>0.591474</td>\n",
       "      <td>-0.004239</td>\n",
       "      <td>0.005644</td>\n",
       "      <td>0.127836</td>\n",
       "      <td>0.078889</td>\n",
       "      <td>-0.203130</td>\n",
       "      <td>0.211330</td>\n",
       "      <td>0.775334</td>\n",
       "      <td>1.000000</td>\n",
       "      <td>0.058986</td>\n",
       "      <td>0.688230</td>\n",
       "      <td>0.522034</td>\n",
       "      <td>-0.136211</td>\n",
       "    </tr>\n",
       "    <tr>\n",
       "      <th>cons.conf.idx</th>\n",
       "      <td>0.129372</td>\n",
       "      <td>0.052760</td>\n",
       "      <td>-0.033783</td>\n",
       "      <td>0.078799</td>\n",
       "      <td>0.026522</td>\n",
       "      <td>-0.033845</td>\n",
       "      <td>-0.012025</td>\n",
       "      <td>0.251614</td>\n",
       "      <td>0.009652</td>\n",
       "      <td>0.041465</td>\n",
       "      <td>-0.013733</td>\n",
       "      <td>-0.091342</td>\n",
       "      <td>-0.050936</td>\n",
       "      <td>0.178289</td>\n",
       "      <td>0.196041</td>\n",
       "      <td>0.058986</td>\n",
       "      <td>1.000000</td>\n",
       "      <td>0.277686</td>\n",
       "      <td>0.100513</td>\n",
       "      <td>0.054878</td>\n",
       "    </tr>\n",
       "    <tr>\n",
       "      <th>euribor3m</th>\n",
       "      <td>0.010767</td>\n",
       "      <td>-0.007880</td>\n",
       "      <td>-0.091939</td>\n",
       "      <td>-0.036380</td>\n",
       "      <td>0.195336</td>\n",
       "      <td>-0.059277</td>\n",
       "      <td>0.000125</td>\n",
       "      <td>0.399773</td>\n",
       "      <td>-0.117264</td>\n",
       "      <td>0.039043</td>\n",
       "      <td>0.135133</td>\n",
       "      <td>0.296899</td>\n",
       "      <td>-0.454494</td>\n",
       "      <td>0.184144</td>\n",
       "      <td>0.972245</td>\n",
       "      <td>0.688230</td>\n",
       "      <td>0.277686</td>\n",
       "      <td>1.000000</td>\n",
       "      <td>0.945154</td>\n",
       "      <td>-0.307771</td>\n",
       "    </tr>\n",
       "    <tr>\n",
       "      <th>nr.employed</th>\n",
       "      <td>-0.017725</td>\n",
       "      <td>-0.019574</td>\n",
       "      <td>-0.086199</td>\n",
       "      <td>-0.041492</td>\n",
       "      <td>0.189845</td>\n",
       "      <td>-0.045862</td>\n",
       "      <td>0.003903</td>\n",
       "      <td>0.269155</td>\n",
       "      <td>-0.221425</td>\n",
       "      <td>0.028380</td>\n",
       "      <td>0.144095</td>\n",
       "      <td>0.372605</td>\n",
       "      <td>-0.501333</td>\n",
       "      <td>0.119689</td>\n",
       "      <td>0.906970</td>\n",
       "      <td>0.522034</td>\n",
       "      <td>0.100513</td>\n",
       "      <td>0.945154</td>\n",
       "      <td>1.000000</td>\n",
       "      <td>-0.354678</td>\n",
       "    </tr>\n",
       "    <tr>\n",
       "      <th>y</th>\n",
       "      <td>0.030399</td>\n",
       "      <td>0.025122</td>\n",
       "      <td>0.046203</td>\n",
       "      <td>0.057799</td>\n",
       "      <td>-0.099352</td>\n",
       "      <td>0.011552</td>\n",
       "      <td>-0.004909</td>\n",
       "      <td>-0.144773</td>\n",
       "      <td>-0.006065</td>\n",
       "      <td>0.015967</td>\n",
       "      <td>-0.066357</td>\n",
       "      <td>-0.324914</td>\n",
       "      <td>0.230181</td>\n",
       "      <td>0.129789</td>\n",
       "      <td>-0.298334</td>\n",
       "      <td>-0.136211</td>\n",
       "      <td>0.054878</td>\n",
       "      <td>-0.307771</td>\n",
       "      <td>-0.354678</td>\n",
       "      <td>1.000000</td>\n",
       "    </tr>\n",
       "  </tbody>\n",
       "</table>\n",
       "</div>"
      ],
      "text/plain": [
       "                     age       job   marital  education   default   housing  \\\n",
       "age             1.000000  0.001250 -0.389753  -0.117892  0.164965 -0.001603   \n",
       "job             0.001250  1.000000  0.027897   0.134121 -0.028277  0.006962   \n",
       "marital        -0.389753  0.027897  1.000000   0.109220 -0.079450  0.010467   \n",
       "education      -0.117892  0.134121  0.109220   1.000000 -0.186859  0.016825   \n",
       "default         0.164965 -0.028277 -0.079450  -0.186859  1.000000 -0.015815   \n",
       "housing        -0.001603  0.006962  0.010467   0.016825 -0.015815  1.000000   \n",
       "loan           -0.007368 -0.010209  0.005788   0.006384 -0.003782  0.044296   \n",
       "contact         0.007021 -0.025132 -0.054501  -0.105726  0.135238 -0.082186   \n",
       "month          -0.024877 -0.033213 -0.007629  -0.082684 -0.015830 -0.018141   \n",
       "day_of_week    -0.017572 -0.000844  0.002202  -0.017986 -0.008701  0.003339   \n",
       "campaign        0.004594 -0.006923 -0.007240   0.000371  0.032825 -0.011010   \n",
       "pdays          -0.034369 -0.028468 -0.037942  -0.046626  0.080062 -0.010551   \n",
       "previous        0.024365  0.020965  0.038689   0.038831 -0.102416  0.021314   \n",
       "poutcome        0.019750  0.011504  0.001912   0.017009  0.023417 -0.011783   \n",
       "emp.var.rate   -0.000371 -0.008271 -0.084210  -0.043778  0.203263 -0.060196   \n",
       "cons.price.idx  0.000857 -0.016017 -0.057477  -0.081607  0.168073 -0.080504   \n",
       "cons.conf.idx   0.129372  0.052760 -0.033783   0.078799  0.026522 -0.033845   \n",
       "euribor3m       0.010767 -0.007880 -0.091939  -0.036380  0.195336 -0.059277   \n",
       "nr.employed    -0.017725 -0.019574 -0.086199  -0.041492  0.189845 -0.045862   \n",
       "y               0.030399  0.025122  0.046203   0.057799 -0.099352  0.011552   \n",
       "\n",
       "                    loan   contact     month  day_of_week  campaign     pdays  \\\n",
       "age            -0.007368  0.007021 -0.024877    -0.017572  0.004594 -0.034369   \n",
       "job            -0.010209 -0.025132 -0.033213    -0.000844 -0.006923 -0.028468   \n",
       "marital         0.005788 -0.054501 -0.007629     0.002202 -0.007240 -0.037942   \n",
       "education       0.006384 -0.105726 -0.082684    -0.017986  0.000371 -0.046626   \n",
       "default        -0.003782  0.135238 -0.015830    -0.008701  0.032825  0.080062   \n",
       "housing         0.044296 -0.082186 -0.018141     0.003339 -0.011010 -0.010551   \n",
       "loan            1.000000 -0.008556 -0.005705    -0.009344  0.005166  0.000345   \n",
       "contact        -0.008556  1.000000  0.276565    -0.009575  0.077368  0.117970   \n",
       "month          -0.005705  0.276565  1.000000     0.027677 -0.062059 -0.047891   \n",
       "day_of_week    -0.009344 -0.009575  0.027677     1.000000 -0.038288 -0.009531   \n",
       "campaign        0.005166  0.077368 -0.062059    -0.038288  1.000000  0.052584   \n",
       "pdays           0.000345  0.117970 -0.047891    -0.009531  0.052584  1.000000   \n",
       "previous       -0.001327 -0.212848  0.103157    -0.004102 -0.079141 -0.587514   \n",
       "poutcome       -0.001511  0.118744 -0.065012     0.018732  0.032586 -0.475619   \n",
       "emp.var.rate    0.001849  0.393584 -0.178782     0.033245  0.150754  0.271004   \n",
       "cons.price.idx -0.002430  0.591474 -0.004239     0.005644  0.127836  0.078889   \n",
       "cons.conf.idx  -0.012025  0.251614  0.009652     0.041465 -0.013733 -0.091342   \n",
       "euribor3m       0.000125  0.399773 -0.117264     0.039043  0.135133  0.296899   \n",
       "nr.employed     0.003903  0.269155 -0.221425     0.028380  0.144095  0.372605   \n",
       "y              -0.004909 -0.144773 -0.006065     0.015967 -0.066357 -0.324914   \n",
       "\n",
       "                previous  poutcome  emp.var.rate  cons.price.idx  \\\n",
       "age             0.024365  0.019750     -0.000371        0.000857   \n",
       "job             0.020965  0.011504     -0.008271       -0.016017   \n",
       "marital         0.038689  0.001912     -0.084210       -0.057477   \n",
       "education       0.038831  0.017009     -0.043778       -0.081607   \n",
       "default        -0.102416  0.023417      0.203263        0.168073   \n",
       "housing         0.021314 -0.011783     -0.060196       -0.080504   \n",
       "loan           -0.001327 -0.001511      0.001849       -0.002430   \n",
       "contact        -0.212848  0.118744      0.393584        0.591474   \n",
       "month           0.103157 -0.065012     -0.178782       -0.004239   \n",
       "day_of_week    -0.004102  0.018732      0.033245        0.005644   \n",
       "campaign       -0.079141  0.032586      0.150754        0.127836   \n",
       "pdays          -0.587514 -0.475619      0.271004        0.078889   \n",
       "previous        1.000000 -0.313110     -0.420489       -0.203130   \n",
       "poutcome       -0.313110  1.000000      0.192972        0.211330   \n",
       "emp.var.rate   -0.420489  0.192972      1.000000        0.775334   \n",
       "cons.price.idx -0.203130  0.211330      0.775334        1.000000   \n",
       "cons.conf.idx  -0.050936  0.178289      0.196041        0.058986   \n",
       "euribor3m      -0.454494  0.184144      0.972245        0.688230   \n",
       "nr.employed    -0.501333  0.119689      0.906970        0.522034   \n",
       "y               0.230181  0.129789     -0.298334       -0.136211   \n",
       "\n",
       "                cons.conf.idx  euribor3m  nr.employed         y  \n",
       "age                  0.129372   0.010767    -0.017725  0.030399  \n",
       "job                  0.052760  -0.007880    -0.019574  0.025122  \n",
       "marital             -0.033783  -0.091939    -0.086199  0.046203  \n",
       "education            0.078799  -0.036380    -0.041492  0.057799  \n",
       "default              0.026522   0.195336     0.189845 -0.099352  \n",
       "housing             -0.033845  -0.059277    -0.045862  0.011552  \n",
       "loan                -0.012025   0.000125     0.003903 -0.004909  \n",
       "contact              0.251614   0.399773     0.269155 -0.144773  \n",
       "month                0.009652  -0.117264    -0.221425 -0.006065  \n",
       "day_of_week          0.041465   0.039043     0.028380  0.015967  \n",
       "campaign            -0.013733   0.135133     0.144095 -0.066357  \n",
       "pdays               -0.091342   0.296899     0.372605 -0.324914  \n",
       "previous            -0.050936  -0.454494    -0.501333  0.230181  \n",
       "poutcome             0.178289   0.184144     0.119689  0.129789  \n",
       "emp.var.rate         0.196041   0.972245     0.906970 -0.298334  \n",
       "cons.price.idx       0.058986   0.688230     0.522034 -0.136211  \n",
       "cons.conf.idx        1.000000   0.277686     0.100513  0.054878  \n",
       "euribor3m            0.277686   1.000000     0.945154 -0.307771  \n",
       "nr.employed          0.100513   0.945154     1.000000 -0.354678  \n",
       "y                    0.054878  -0.307771    -0.354678  1.000000  "
      ]
     },
     "execution_count": 248,
     "metadata": {},
     "output_type": "execute_result"
    }
   ],
   "source": [
    "df_additional.corr()"
   ]
  },
  {
   "cell_type": "code",
   "execution_count": 249,
   "id": "c7c41468-3b97-4967-996e-e7b57882d9cf",
   "metadata": {},
   "outputs": [
    {
     "data": {
      "text/plain": [
       "age               0.030399\n",
       "job               0.025122\n",
       "marital           0.046203\n",
       "education         0.057799\n",
       "default          -0.099352\n",
       "housing           0.011552\n",
       "loan             -0.004909\n",
       "contact          -0.144773\n",
       "month            -0.006065\n",
       "day_of_week       0.015967\n",
       "campaign         -0.066357\n",
       "pdays            -0.324914\n",
       "previous          0.230181\n",
       "poutcome          0.129789\n",
       "emp.var.rate     -0.298334\n",
       "cons.price.idx   -0.136211\n",
       "cons.conf.idx     0.054878\n",
       "euribor3m        -0.307771\n",
       "nr.employed      -0.354678\n",
       "y                 1.000000\n",
       "Name: y, dtype: float64"
      ]
     },
     "execution_count": 249,
     "metadata": {},
     "output_type": "execute_result"
    }
   ],
   "source": [
    "df_additional.corr().y"
   ]
  },
  {
   "cell_type": "code",
   "execution_count": 250,
   "id": "f07602b1-bb05-49bc-ae5b-6dcc0a413fc8",
   "metadata": {},
   "outputs": [
    {
     "data": {
      "text/html": [
       "<div>\n",
       "<style scoped>\n",
       "    .dataframe tbody tr th:only-of-type {\n",
       "        vertical-align: middle;\n",
       "    }\n",
       "\n",
       "    .dataframe tbody tr th {\n",
       "        vertical-align: top;\n",
       "    }\n",
       "\n",
       "    .dataframe thead th {\n",
       "        text-align: right;\n",
       "    }\n",
       "</style>\n",
       "<table border=\"1\" class=\"dataframe\">\n",
       "  <thead>\n",
       "    <tr style=\"text-align: right;\">\n",
       "      <th></th>\n",
       "      <th>age</th>\n",
       "      <th>job</th>\n",
       "      <th>marital</th>\n",
       "      <th>education</th>\n",
       "      <th>default</th>\n",
       "      <th>housing</th>\n",
       "      <th>loan</th>\n",
       "      <th>contact</th>\n",
       "      <th>month</th>\n",
       "      <th>day_of_week</th>\n",
       "      <th>campaign</th>\n",
       "      <th>pdays</th>\n",
       "      <th>previous</th>\n",
       "      <th>poutcome</th>\n",
       "      <th>emp.var.rate</th>\n",
       "      <th>cons.price.idx</th>\n",
       "      <th>cons.conf.idx</th>\n",
       "      <th>euribor3m</th>\n",
       "      <th>nr.employed</th>\n",
       "      <th>y</th>\n",
       "    </tr>\n",
       "  </thead>\n",
       "  <tbody>\n",
       "    <tr>\n",
       "      <th>count</th>\n",
       "      <td>41188.00000</td>\n",
       "      <td>41188.00000</td>\n",
       "      <td>41188.000000</td>\n",
       "      <td>41188.000000</td>\n",
       "      <td>41188.000000</td>\n",
       "      <td>41188.000000</td>\n",
       "      <td>41188.000000</td>\n",
       "      <td>41188.000000</td>\n",
       "      <td>41188.000000</td>\n",
       "      <td>41188.000000</td>\n",
       "      <td>41188.000000</td>\n",
       "      <td>41188.000000</td>\n",
       "      <td>41188.000000</td>\n",
       "      <td>41188.000000</td>\n",
       "      <td>41188.000000</td>\n",
       "      <td>41188.000000</td>\n",
       "      <td>41188.000000</td>\n",
       "      <td>41188.000000</td>\n",
       "      <td>41188.000000</td>\n",
       "      <td>41188.000000</td>\n",
       "    </tr>\n",
       "    <tr>\n",
       "      <th>mean</th>\n",
       "      <td>40.02406</td>\n",
       "      <td>3.72458</td>\n",
       "      <td>1.172769</td>\n",
       "      <td>3.747184</td>\n",
       "      <td>0.208872</td>\n",
       "      <td>1.071720</td>\n",
       "      <td>0.327425</td>\n",
       "      <td>0.365252</td>\n",
       "      <td>4.230868</td>\n",
       "      <td>2.004613</td>\n",
       "      <td>2.567593</td>\n",
       "      <td>962.475454</td>\n",
       "      <td>0.172963</td>\n",
       "      <td>0.930101</td>\n",
       "      <td>0.081886</td>\n",
       "      <td>93.575664</td>\n",
       "      <td>-40.502600</td>\n",
       "      <td>3.621291</td>\n",
       "      <td>5167.035911</td>\n",
       "      <td>0.112654</td>\n",
       "    </tr>\n",
       "    <tr>\n",
       "      <th>std</th>\n",
       "      <td>10.42125</td>\n",
       "      <td>3.59456</td>\n",
       "      <td>0.608902</td>\n",
       "      <td>2.136482</td>\n",
       "      <td>0.406686</td>\n",
       "      <td>0.985314</td>\n",
       "      <td>0.723616</td>\n",
       "      <td>0.481507</td>\n",
       "      <td>2.320025</td>\n",
       "      <td>1.397575</td>\n",
       "      <td>2.770014</td>\n",
       "      <td>186.910907</td>\n",
       "      <td>0.494901</td>\n",
       "      <td>0.362886</td>\n",
       "      <td>1.570960</td>\n",
       "      <td>0.578840</td>\n",
       "      <td>4.628198</td>\n",
       "      <td>1.734447</td>\n",
       "      <td>72.251528</td>\n",
       "      <td>0.316173</td>\n",
       "    </tr>\n",
       "    <tr>\n",
       "      <th>min</th>\n",
       "      <td>17.00000</td>\n",
       "      <td>0.00000</td>\n",
       "      <td>0.000000</td>\n",
       "      <td>0.000000</td>\n",
       "      <td>0.000000</td>\n",
       "      <td>0.000000</td>\n",
       "      <td>0.000000</td>\n",
       "      <td>0.000000</td>\n",
       "      <td>0.000000</td>\n",
       "      <td>0.000000</td>\n",
       "      <td>1.000000</td>\n",
       "      <td>0.000000</td>\n",
       "      <td>0.000000</td>\n",
       "      <td>0.000000</td>\n",
       "      <td>-3.400000</td>\n",
       "      <td>92.201000</td>\n",
       "      <td>-50.800000</td>\n",
       "      <td>0.634000</td>\n",
       "      <td>4963.600000</td>\n",
       "      <td>0.000000</td>\n",
       "    </tr>\n",
       "    <tr>\n",
       "      <th>25%</th>\n",
       "      <td>32.00000</td>\n",
       "      <td>0.00000</td>\n",
       "      <td>1.000000</td>\n",
       "      <td>2.000000</td>\n",
       "      <td>0.000000</td>\n",
       "      <td>0.000000</td>\n",
       "      <td>0.000000</td>\n",
       "      <td>0.000000</td>\n",
       "      <td>3.000000</td>\n",
       "      <td>1.000000</td>\n",
       "      <td>1.000000</td>\n",
       "      <td>999.000000</td>\n",
       "      <td>0.000000</td>\n",
       "      <td>1.000000</td>\n",
       "      <td>-1.800000</td>\n",
       "      <td>93.075000</td>\n",
       "      <td>-42.700000</td>\n",
       "      <td>1.344000</td>\n",
       "      <td>5099.100000</td>\n",
       "      <td>0.000000</td>\n",
       "    </tr>\n",
       "    <tr>\n",
       "      <th>50%</th>\n",
       "      <td>38.00000</td>\n",
       "      <td>2.00000</td>\n",
       "      <td>1.000000</td>\n",
       "      <td>3.000000</td>\n",
       "      <td>0.000000</td>\n",
       "      <td>2.000000</td>\n",
       "      <td>0.000000</td>\n",
       "      <td>0.000000</td>\n",
       "      <td>4.000000</td>\n",
       "      <td>2.000000</td>\n",
       "      <td>2.000000</td>\n",
       "      <td>999.000000</td>\n",
       "      <td>0.000000</td>\n",
       "      <td>1.000000</td>\n",
       "      <td>1.100000</td>\n",
       "      <td>93.749000</td>\n",
       "      <td>-41.800000</td>\n",
       "      <td>4.857000</td>\n",
       "      <td>5191.000000</td>\n",
       "      <td>0.000000</td>\n",
       "    </tr>\n",
       "    <tr>\n",
       "      <th>75%</th>\n",
       "      <td>47.00000</td>\n",
       "      <td>7.00000</td>\n",
       "      <td>2.000000</td>\n",
       "      <td>6.000000</td>\n",
       "      <td>0.000000</td>\n",
       "      <td>2.000000</td>\n",
       "      <td>0.000000</td>\n",
       "      <td>1.000000</td>\n",
       "      <td>6.000000</td>\n",
       "      <td>3.000000</td>\n",
       "      <td>3.000000</td>\n",
       "      <td>999.000000</td>\n",
       "      <td>0.000000</td>\n",
       "      <td>1.000000</td>\n",
       "      <td>1.400000</td>\n",
       "      <td>93.994000</td>\n",
       "      <td>-36.400000</td>\n",
       "      <td>4.961000</td>\n",
       "      <td>5228.100000</td>\n",
       "      <td>0.000000</td>\n",
       "    </tr>\n",
       "    <tr>\n",
       "      <th>max</th>\n",
       "      <td>98.00000</td>\n",
       "      <td>11.00000</td>\n",
       "      <td>3.000000</td>\n",
       "      <td>7.000000</td>\n",
       "      <td>2.000000</td>\n",
       "      <td>2.000000</td>\n",
       "      <td>2.000000</td>\n",
       "      <td>1.000000</td>\n",
       "      <td>9.000000</td>\n",
       "      <td>4.000000</td>\n",
       "      <td>56.000000</td>\n",
       "      <td>999.000000</td>\n",
       "      <td>7.000000</td>\n",
       "      <td>2.000000</td>\n",
       "      <td>1.400000</td>\n",
       "      <td>94.767000</td>\n",
       "      <td>-26.900000</td>\n",
       "      <td>5.045000</td>\n",
       "      <td>5228.100000</td>\n",
       "      <td>1.000000</td>\n",
       "    </tr>\n",
       "  </tbody>\n",
       "</table>\n",
       "</div>"
      ],
      "text/plain": [
       "               age          job       marital     education       default  \\\n",
       "count  41188.00000  41188.00000  41188.000000  41188.000000  41188.000000   \n",
       "mean      40.02406      3.72458      1.172769      3.747184      0.208872   \n",
       "std       10.42125      3.59456      0.608902      2.136482      0.406686   \n",
       "min       17.00000      0.00000      0.000000      0.000000      0.000000   \n",
       "25%       32.00000      0.00000      1.000000      2.000000      0.000000   \n",
       "50%       38.00000      2.00000      1.000000      3.000000      0.000000   \n",
       "75%       47.00000      7.00000      2.000000      6.000000      0.000000   \n",
       "max       98.00000     11.00000      3.000000      7.000000      2.000000   \n",
       "\n",
       "            housing          loan       contact         month   day_of_week  \\\n",
       "count  41188.000000  41188.000000  41188.000000  41188.000000  41188.000000   \n",
       "mean       1.071720      0.327425      0.365252      4.230868      2.004613   \n",
       "std        0.985314      0.723616      0.481507      2.320025      1.397575   \n",
       "min        0.000000      0.000000      0.000000      0.000000      0.000000   \n",
       "25%        0.000000      0.000000      0.000000      3.000000      1.000000   \n",
       "50%        2.000000      0.000000      0.000000      4.000000      2.000000   \n",
       "75%        2.000000      0.000000      1.000000      6.000000      3.000000   \n",
       "max        2.000000      2.000000      1.000000      9.000000      4.000000   \n",
       "\n",
       "           campaign         pdays      previous      poutcome  emp.var.rate  \\\n",
       "count  41188.000000  41188.000000  41188.000000  41188.000000  41188.000000   \n",
       "mean       2.567593    962.475454      0.172963      0.930101      0.081886   \n",
       "std        2.770014    186.910907      0.494901      0.362886      1.570960   \n",
       "min        1.000000      0.000000      0.000000      0.000000     -3.400000   \n",
       "25%        1.000000    999.000000      0.000000      1.000000     -1.800000   \n",
       "50%        2.000000    999.000000      0.000000      1.000000      1.100000   \n",
       "75%        3.000000    999.000000      0.000000      1.000000      1.400000   \n",
       "max       56.000000    999.000000      7.000000      2.000000      1.400000   \n",
       "\n",
       "       cons.price.idx  cons.conf.idx     euribor3m   nr.employed             y  \n",
       "count    41188.000000   41188.000000  41188.000000  41188.000000  41188.000000  \n",
       "mean        93.575664     -40.502600      3.621291   5167.035911      0.112654  \n",
       "std          0.578840       4.628198      1.734447     72.251528      0.316173  \n",
       "min         92.201000     -50.800000      0.634000   4963.600000      0.000000  \n",
       "25%         93.075000     -42.700000      1.344000   5099.100000      0.000000  \n",
       "50%         93.749000     -41.800000      4.857000   5191.000000      0.000000  \n",
       "75%         93.994000     -36.400000      4.961000   5228.100000      0.000000  \n",
       "max         94.767000     -26.900000      5.045000   5228.100000      1.000000  "
      ]
     },
     "execution_count": 250,
     "metadata": {},
     "output_type": "execute_result"
    }
   ],
   "source": [
    "df_additional.describe()"
   ]
  },
  {
   "cell_type": "code",
   "execution_count": 251,
   "id": "8da37ad4-adac-4a0b-9de1-dd36e13ad4ef",
   "metadata": {},
   "outputs": [
    {
     "data": {
      "text/plain": [
       "0    36548\n",
       "1     4640\n",
       "Name: y, dtype: int64"
      ]
     },
     "execution_count": 251,
     "metadata": {},
     "output_type": "execute_result"
    }
   ],
   "source": [
    "df_additional.y.value_counts()"
   ]
  },
  {
   "cell_type": "markdown",
   "id": "d7e531c1-7465-4d1e-9249-ee3bdd9dc095",
   "metadata": {},
   "source": [
    "### __Data structure separation__"
   ]
  },
  {
   "cell_type": "code",
   "execution_count": 252,
   "id": "452d57c2-46b6-44ce-9631-8b986633b98d",
   "metadata": {},
   "outputs": [
    {
     "data": {
      "text/html": [
       "<div>\n",
       "<style scoped>\n",
       "    .dataframe tbody tr th:only-of-type {\n",
       "        vertical-align: middle;\n",
       "    }\n",
       "\n",
       "    .dataframe tbody tr th {\n",
       "        vertical-align: top;\n",
       "    }\n",
       "\n",
       "    .dataframe thead th {\n",
       "        text-align: right;\n",
       "    }\n",
       "</style>\n",
       "<table border=\"1\" class=\"dataframe\">\n",
       "  <thead>\n",
       "    <tr style=\"text-align: right;\">\n",
       "      <th></th>\n",
       "      <th>0</th>\n",
       "      <th>1</th>\n",
       "      <th>2</th>\n",
       "      <th>3</th>\n",
       "      <th>4</th>\n",
       "    </tr>\n",
       "  </thead>\n",
       "  <tbody>\n",
       "    <tr>\n",
       "      <th>job</th>\n",
       "      <td>housemaid</td>\n",
       "      <td>services</td>\n",
       "      <td>services</td>\n",
       "      <td>admin.</td>\n",
       "      <td>services</td>\n",
       "    </tr>\n",
       "    <tr>\n",
       "      <th>marital</th>\n",
       "      <td>married</td>\n",
       "      <td>married</td>\n",
       "      <td>married</td>\n",
       "      <td>married</td>\n",
       "      <td>married</td>\n",
       "    </tr>\n",
       "    <tr>\n",
       "      <th>education</th>\n",
       "      <td>basic.4y</td>\n",
       "      <td>high.school</td>\n",
       "      <td>high.school</td>\n",
       "      <td>basic.6y</td>\n",
       "      <td>high.school</td>\n",
       "    </tr>\n",
       "    <tr>\n",
       "      <th>default</th>\n",
       "      <td>no</td>\n",
       "      <td>unknown</td>\n",
       "      <td>no</td>\n",
       "      <td>no</td>\n",
       "      <td>no</td>\n",
       "    </tr>\n",
       "    <tr>\n",
       "      <th>housing</th>\n",
       "      <td>no</td>\n",
       "      <td>no</td>\n",
       "      <td>yes</td>\n",
       "      <td>no</td>\n",
       "      <td>no</td>\n",
       "    </tr>\n",
       "    <tr>\n",
       "      <th>loan</th>\n",
       "      <td>no</td>\n",
       "      <td>no</td>\n",
       "      <td>no</td>\n",
       "      <td>no</td>\n",
       "      <td>yes</td>\n",
       "    </tr>\n",
       "    <tr>\n",
       "      <th>contact</th>\n",
       "      <td>telephone</td>\n",
       "      <td>telephone</td>\n",
       "      <td>telephone</td>\n",
       "      <td>telephone</td>\n",
       "      <td>telephone</td>\n",
       "    </tr>\n",
       "    <tr>\n",
       "      <th>month</th>\n",
       "      <td>may</td>\n",
       "      <td>may</td>\n",
       "      <td>may</td>\n",
       "      <td>may</td>\n",
       "      <td>may</td>\n",
       "    </tr>\n",
       "    <tr>\n",
       "      <th>day_of_week</th>\n",
       "      <td>mon</td>\n",
       "      <td>mon</td>\n",
       "      <td>mon</td>\n",
       "      <td>mon</td>\n",
       "      <td>mon</td>\n",
       "    </tr>\n",
       "    <tr>\n",
       "      <th>poutcome</th>\n",
       "      <td>nonexistent</td>\n",
       "      <td>nonexistent</td>\n",
       "      <td>nonexistent</td>\n",
       "      <td>nonexistent</td>\n",
       "      <td>nonexistent</td>\n",
       "    </tr>\n",
       "    <tr>\n",
       "      <th>y</th>\n",
       "      <td>no</td>\n",
       "      <td>no</td>\n",
       "      <td>no</td>\n",
       "      <td>no</td>\n",
       "      <td>no</td>\n",
       "    </tr>\n",
       "  </tbody>\n",
       "</table>\n",
       "</div>"
      ],
      "text/plain": [
       "                       0            1            2            3            4\n",
       "job            housemaid     services     services       admin.     services\n",
       "marital          married      married      married      married      married\n",
       "education       basic.4y  high.school  high.school     basic.6y  high.school\n",
       "default               no      unknown           no           no           no\n",
       "housing               no           no          yes           no           no\n",
       "loan                  no           no           no           no          yes\n",
       "contact        telephone    telephone    telephone    telephone    telephone\n",
       "month                may          may          may          may          may\n",
       "day_of_week          mon          mon          mon          mon          mon\n",
       "poutcome     nonexistent  nonexistent  nonexistent  nonexistent  nonexistent\n",
       "y                     no           no           no           no           no"
      ]
     },
     "execution_count": 252,
     "metadata": {},
     "output_type": "execute_result"
    }
   ],
   "source": [
    "cat_data.head().T"
   ]
  },
  {
   "cell_type": "code",
   "execution_count": 253,
   "id": "46c1f83b-ff60-48d5-a21c-3ccf02662f96",
   "metadata": {},
   "outputs": [
    {
     "data": {
      "text/html": [
       "<div>\n",
       "<style scoped>\n",
       "    .dataframe tbody tr th:only-of-type {\n",
       "        vertical-align: middle;\n",
       "    }\n",
       "\n",
       "    .dataframe tbody tr th {\n",
       "        vertical-align: top;\n",
       "    }\n",
       "\n",
       "    .dataframe thead th {\n",
       "        text-align: right;\n",
       "    }\n",
       "</style>\n",
       "<table border=\"1\" class=\"dataframe\">\n",
       "  <thead>\n",
       "    <tr style=\"text-align: right;\">\n",
       "      <th></th>\n",
       "      <th>0</th>\n",
       "      <th>1</th>\n",
       "      <th>2</th>\n",
       "      <th>3</th>\n",
       "      <th>4</th>\n",
       "    </tr>\n",
       "  </thead>\n",
       "  <tbody>\n",
       "    <tr>\n",
       "      <th>age</th>\n",
       "      <td>56.000</td>\n",
       "      <td>57.000</td>\n",
       "      <td>37.000</td>\n",
       "      <td>40.000</td>\n",
       "      <td>56.000</td>\n",
       "    </tr>\n",
       "    <tr>\n",
       "      <th>duration</th>\n",
       "      <td>261.000</td>\n",
       "      <td>149.000</td>\n",
       "      <td>226.000</td>\n",
       "      <td>151.000</td>\n",
       "      <td>307.000</td>\n",
       "    </tr>\n",
       "    <tr>\n",
       "      <th>campaign</th>\n",
       "      <td>1.000</td>\n",
       "      <td>1.000</td>\n",
       "      <td>1.000</td>\n",
       "      <td>1.000</td>\n",
       "      <td>1.000</td>\n",
       "    </tr>\n",
       "    <tr>\n",
       "      <th>pdays</th>\n",
       "      <td>999.000</td>\n",
       "      <td>999.000</td>\n",
       "      <td>999.000</td>\n",
       "      <td>999.000</td>\n",
       "      <td>999.000</td>\n",
       "    </tr>\n",
       "    <tr>\n",
       "      <th>previous</th>\n",
       "      <td>0.000</td>\n",
       "      <td>0.000</td>\n",
       "      <td>0.000</td>\n",
       "      <td>0.000</td>\n",
       "      <td>0.000</td>\n",
       "    </tr>\n",
       "    <tr>\n",
       "      <th>emp.var.rate</th>\n",
       "      <td>1.100</td>\n",
       "      <td>1.100</td>\n",
       "      <td>1.100</td>\n",
       "      <td>1.100</td>\n",
       "      <td>1.100</td>\n",
       "    </tr>\n",
       "    <tr>\n",
       "      <th>cons.price.idx</th>\n",
       "      <td>93.994</td>\n",
       "      <td>93.994</td>\n",
       "      <td>93.994</td>\n",
       "      <td>93.994</td>\n",
       "      <td>93.994</td>\n",
       "    </tr>\n",
       "    <tr>\n",
       "      <th>cons.conf.idx</th>\n",
       "      <td>-36.400</td>\n",
       "      <td>-36.400</td>\n",
       "      <td>-36.400</td>\n",
       "      <td>-36.400</td>\n",
       "      <td>-36.400</td>\n",
       "    </tr>\n",
       "    <tr>\n",
       "      <th>euribor3m</th>\n",
       "      <td>4.857</td>\n",
       "      <td>4.857</td>\n",
       "      <td>4.857</td>\n",
       "      <td>4.857</td>\n",
       "      <td>4.857</td>\n",
       "    </tr>\n",
       "    <tr>\n",
       "      <th>nr.employed</th>\n",
       "      <td>5191.000</td>\n",
       "      <td>5191.000</td>\n",
       "      <td>5191.000</td>\n",
       "      <td>5191.000</td>\n",
       "      <td>5191.000</td>\n",
       "    </tr>\n",
       "  </tbody>\n",
       "</table>\n",
       "</div>"
      ],
      "text/plain": [
       "                       0         1         2         3         4\n",
       "age               56.000    57.000    37.000    40.000    56.000\n",
       "duration         261.000   149.000   226.000   151.000   307.000\n",
       "campaign           1.000     1.000     1.000     1.000     1.000\n",
       "pdays            999.000   999.000   999.000   999.000   999.000\n",
       "previous           0.000     0.000     0.000     0.000     0.000\n",
       "emp.var.rate       1.100     1.100     1.100     1.100     1.100\n",
       "cons.price.idx    93.994    93.994    93.994    93.994    93.994\n",
       "cons.conf.idx    -36.400   -36.400   -36.400   -36.400   -36.400\n",
       "euribor3m          4.857     4.857     4.857     4.857     4.857\n",
       "nr.employed     5191.000  5191.000  5191.000  5191.000  5191.000"
      ]
     },
     "execution_count": 253,
     "metadata": {},
     "output_type": "execute_result"
    }
   ],
   "source": [
    "num_data.head().T"
   ]
  },
  {
   "cell_type": "code",
   "execution_count": 254,
   "id": "f8079e91-4ec2-4acb-bf73-eb259b7653ba",
   "metadata": {},
   "outputs": [
    {
     "name": "stdout",
     "output_type": "stream",
     "text": [
      "__________job_________\n",
      "admin.           10422\n",
      "blue-collar       9254\n",
      "technician        6743\n",
      "services          3969\n",
      "management        2924\n",
      "retired           1720\n",
      "entrepreneur      1456\n",
      "self-employed     1421\n",
      "housemaid         1060\n",
      "unemployed        1014\n",
      "student            875\n",
      "unknown            330\n",
      "Name: job, dtype: int64\n",
      "__________marital_________\n",
      "married     24928\n",
      "single      11568\n",
      "divorced     4612\n",
      "unknown        80\n",
      "Name: marital, dtype: int64\n",
      "__________education_________\n",
      "university.degree      12168\n",
      "high.school             9515\n",
      "basic.9y                6045\n",
      "professional.course     5243\n",
      "basic.4y                4176\n",
      "basic.6y                2292\n",
      "unknown                 1731\n",
      "illiterate                18\n",
      "Name: education, dtype: int64\n",
      "__________default_________\n",
      "no         32588\n",
      "unknown     8597\n",
      "yes            3\n",
      "Name: default, dtype: int64\n",
      "__________housing_________\n",
      "yes        21576\n",
      "no         18622\n",
      "unknown      990\n",
      "Name: housing, dtype: int64\n",
      "__________loan_________\n",
      "no         33950\n",
      "yes         6248\n",
      "unknown      990\n",
      "Name: loan, dtype: int64\n",
      "__________contact_________\n",
      "cellular     26144\n",
      "telephone    15044\n",
      "Name: contact, dtype: int64\n",
      "__________month_________\n",
      "may    13769\n",
      "jul     7174\n",
      "aug     6178\n",
      "jun     5318\n",
      "nov     4101\n",
      "apr     2632\n",
      "oct      718\n",
      "sep      570\n",
      "mar      546\n",
      "dec      182\n",
      "Name: month, dtype: int64\n",
      "__________day_of_week_________\n",
      "thu    8623\n",
      "mon    8514\n",
      "wed    8134\n",
      "tue    8090\n",
      "fri    7827\n",
      "Name: day_of_week, dtype: int64\n",
      "__________poutcome_________\n",
      "nonexistent    35563\n",
      "failure         4252\n",
      "success         1373\n",
      "Name: poutcome, dtype: int64\n",
      "__________y_________\n",
      "no     36548\n",
      "yes     4640\n",
      "Name: y, dtype: int64\n"
     ]
    }
   ],
   "source": [
    "for i in cat_data:\n",
    "    print(f\"__________{i}_________\")\n",
    "    print(cat_data[i].value_counts())"
   ]
  },
  {
   "cell_type": "code",
   "execution_count": 255,
   "id": "ab97649c-82ae-4965-b77e-19b47e1a0f77",
   "metadata": {},
   "outputs": [
    {
     "name": "stderr",
     "output_type": "stream",
     "text": [
      "C:\\ProgramData\\Anaconda3\\lib\\site-packages\\pandas\\core\\frame.py:4524: SettingWithCopyWarning: \n",
      "A value is trying to be set on a copy of a slice from a DataFrame\n",
      "\n",
      "See the caveats in the documentation: https://pandas.pydata.org/pandas-docs/stable/user_guide/indexing.html#returning-a-view-versus-a-copy\n",
      "  return super().replace(\n"
     ]
    },
    {
     "data": {
      "text/plain": [
       "job             330\n",
       "marital          80\n",
       "education      1731\n",
       "default        8597\n",
       "housing         990\n",
       "loan            990\n",
       "contact           0\n",
       "month             0\n",
       "day_of_week       0\n",
       "poutcome          0\n",
       "y                 0\n",
       "dtype: int64"
      ]
     },
     "execution_count": 255,
     "metadata": {},
     "output_type": "execute_result"
    }
   ],
   "source": [
    "cat_data.replace('unknown', np.nan, inplace=True)\n",
    "cat_data.isna().sum()"
   ]
  },
  {
   "cell_type": "code",
   "execution_count": 256,
   "id": "bcf8b449-53fc-4e08-aee5-cb93bfa3e2e1",
   "metadata": {},
   "outputs": [
    {
     "data": {
      "text/plain": [
       "job            0.008012\n",
       "marital        0.001942\n",
       "education      0.042027\n",
       "default        0.208726\n",
       "housing        0.024036\n",
       "loan           0.024036\n",
       "contact        0.000000\n",
       "month          0.000000\n",
       "day_of_week    0.000000\n",
       "poutcome       0.000000\n",
       "y              0.000000\n",
       "dtype: float64"
      ]
     },
     "execution_count": 256,
     "metadata": {},
     "output_type": "execute_result"
    }
   ],
   "source": [
    "proportion_na = cat_data.isnull().sum()/len(cat_data)\n",
    "proportion_na"
   ]
  },
  {
   "cell_type": "markdown",
   "id": "8774974a-8138-47e0-82f7-89abeb7210f9",
   "metadata": {},
   "source": [
    "### univariate analysis"
   ]
  },
  {
   "cell_type": "code",
   "execution_count": 257,
   "id": "c30ddf7e-3777-4def-b573-8366237a9ae4",
   "metadata": {},
   "outputs": [
    {
     "name": "stderr",
     "output_type": "stream",
     "text": [
      "C:\\ProgramData\\Anaconda3\\lib\\site-packages\\seaborn\\_decorators.py:36: FutureWarning: Pass the following variable as a keyword arg: x. From version 0.12, the only valid positional argument will be `data`, and passing other arguments without an explicit keyword will result in an error or misinterpretation.\n",
      "  warnings.warn(\n"
     ]
    },
    {
     "data": {
      "text/plain": [
       "<AxesSubplot:xlabel='education', ylabel='count'>"
      ]
     },
     "execution_count": 257,
     "metadata": {},
     "output_type": "execute_result"
    },
    {
     "data": {
      "image/png": "[encoded data removed]",
      "text/plain": [
       "<Figure size 432x288 with 1 Axes>"
      ]
     },
     "metadata": {
      "needs_background": "light"
     },
     "output_type": "display_data"
    }
   ],
   "source": [
    "sns.countplot(df_additional['education'], hue=cat_data.y)"
   ]
  },
  {
   "cell_type": "code",
   "execution_count": 264,
   "id": "6a3a726c-9d5d-4c7a-8c30-3066b30d391f",
   "metadata": {},
   "outputs": [
    {
     "name": "stderr",
     "output_type": "stream",
     "text": [
      "C:\\ProgramData\\Anaconda3\\lib\\site-packages\\seaborn\\_decorators.py:36: FutureWarning: Pass the following variable as a keyword arg: x. From version 0.12, the only valid positional argument will be `data`, and passing other arguments without an explicit keyword will result in an error or misinterpretation.\n",
      "  warnings.warn(\n"
     ]
    },
    {
     "data": {
      "image/png": "[encoded data removed]",
      "text/plain": [
       "<Figure size 432x288 with 1 Axes>"
      ]
     },
     "metadata": {
      "needs_background": "light"
     },
     "output_type": "display_data"
    },
    {
     "name": "stderr",
     "output_type": "stream",
     "text": [
      "C:\\ProgramData\\Anaconda3\\lib\\site-packages\\seaborn\\_decorators.py:36: FutureWarning: Pass the following variable as a keyword arg: x. From version 0.12, the only valid positional argument will be `data`, and passing other arguments without an explicit keyword will result in an error or misinterpretation.\n",
      "  warnings.warn(\n"
     ]
    },
    {
     "data": {
      "image/png": "[encoded data removed]",
      "text/plain": [
       "<Figure size 432x288 with 1 Axes>"
      ]
     },
     "metadata": {
      "needs_background": "light"
     },
     "output_type": "display_data"
    },
    {
     "name": "stderr",
     "output_type": "stream",
     "text": [
      "C:\\ProgramData\\Anaconda3\\lib\\site-packages\\seaborn\\_decorators.py:36: FutureWarning: Pass the following variable as a keyword arg: x. From version 0.12, the only valid positional argument will be `data`, and passing other arguments without an explicit keyword will result in an error or misinterpretation.\n",
      "  warnings.warn(\n"
     ]
    },
    {
     "data": {
      "image/png": "[encoded data removed]",
      "text/plain": [
       "<Figure size 432x288 with 1 Axes>"
      ]
     },
     "metadata": {
      "needs_background": "light"
     },
     "output_type": "display_data"
    },
    {
     "name": "stderr",
     "output_type": "stream",
     "text": [
      "C:\\ProgramData\\Anaconda3\\lib\\site-packages\\seaborn\\_decorators.py:36: FutureWarning: Pass the following variable as a keyword arg: x. From version 0.12, the only valid positional argument will be `data`, and passing other arguments without an explicit keyword will result in an error or misinterpretation.\n",
      "  warnings.warn(\n"
     ]
    },
    {
     "data": {
      "image/png": "[encoded data removed]",
      "text/plain": [
       "<Figure size 432x288 with 1 Axes>"
      ]
     },
     "metadata": {
      "needs_background": "light"
     },
     "output_type": "display_data"
    },
    {
     "name": "stderr",
     "output_type": "stream",
     "text": [
      "C:\\ProgramData\\Anaconda3\\lib\\site-packages\\seaborn\\_decorators.py:36: FutureWarning: Pass the following variable as a keyword arg: x. From version 0.12, the only valid positional argument will be `data`, and passing other arguments without an explicit keyword will result in an error or misinterpretation.\n",
      "  warnings.warn(\n"
     ]
    },
    {
     "data": {
      "image/png": "[encoded data removed]",
      "text/plain": [
       "<Figure size 432x288 with 1 Axes>"
      ]
     },
     "metadata": {
      "needs_background": "light"
     },
     "output_type": "display_data"
    },
    {
     "name": "stderr",
     "output_type": "stream",
     "text": [
      "C:\\ProgramData\\Anaconda3\\lib\\site-packages\\seaborn\\_decorators.py:36: FutureWarning: Pass the following variable as a keyword arg: x. From version 0.12, the only valid positional argument will be `data`, and passing other arguments without an explicit keyword will result in an error or misinterpretation.\n",
      "  warnings.warn(\n"
     ]
    },
    {
     "data": {
      "image/png": "[encoded data removed]",
      "text/plain": [
       "<Figure size 432x288 with 1 Axes>"
      ]
     },
     "metadata": {
      "needs_background": "light"
     },
     "output_type": "display_data"
    },
    {
     "name": "stderr",
     "output_type": "stream",
     "text": [
      "C:\\ProgramData\\Anaconda3\\lib\\site-packages\\seaborn\\_decorators.py:36: FutureWarning: Pass the following variable as a keyword arg: x. From version 0.12, the only valid positional argument will be `data`, and passing other arguments without an explicit keyword will result in an error or misinterpretation.\n",
      "  warnings.warn(\n"
     ]
    },
    {
     "data": {
      "image/png": "[encoded data removed]",
      "text/plain": [
       "<Figure size 432x288 with 1 Axes>"
      ]
     },
     "metadata": {
      "needs_background": "light"
     },
     "output_type": "display_data"
    },
    {
     "name": "stderr",
     "output_type": "stream",
     "text": [
      "C:\\ProgramData\\Anaconda3\\lib\\site-packages\\seaborn\\_decorators.py:36: FutureWarning: Pass the following variable as a keyword arg: x. From version 0.12, the only valid positional argument will be `data`, and passing other arguments without an explicit keyword will result in an error or misinterpretation.\n",
      "  warnings.warn(\n"
     ]
    },
    {
     "data": {
      "image/png": "[encoded data removed]",
      "text/plain": [
       "<Figure size 432x288 with 1 Axes>"
      ]
     },
     "metadata": {
      "needs_background": "light"
     },
     "output_type": "display_data"
    },
    {
     "name": "stderr",
     "output_type": "stream",
     "text": [
      "C:\\ProgramData\\Anaconda3\\lib\\site-packages\\seaborn\\_decorators.py:36: FutureWarning: Pass the following variable as a keyword arg: x. From version 0.12, the only valid positional argument will be `data`, and passing other arguments without an explicit keyword will result in an error or misinterpretation.\n",
      "  warnings.warn(\n"
     ]
    },
    {
     "data": {
      "image/png": "[encoded data removed]",
      "text/plain": [
       "<Figure size 432x288 with 1 Axes>"
      ]
     },
     "metadata": {
      "needs_background": "light"
     },
     "output_type": "display_data"
    },
    {
     "name": "stderr",
     "output_type": "stream",
     "text": [
      "C:\\ProgramData\\Anaconda3\\lib\\site-packages\\seaborn\\_decorators.py:36: FutureWarning: Pass the following variable as a keyword arg: x. From version 0.12, the only valid positional argument will be `data`, and passing other arguments without an explicit keyword will result in an error or misinterpretation.\n",
      "  warnings.warn(\n"
     ]
    },
    {
     "data": {
      "image/png": "[encoded data removed]",
      "text/plain": [
       "<Figure size 432x288 with 1 Axes>"
      ]
     },
     "metadata": {
      "needs_background": "light"
     },
     "output_type": "display_data"
    },
    {
     "name": "stderr",
     "output_type": "stream",
     "text": [
      "C:\\ProgramData\\Anaconda3\\lib\\site-packages\\seaborn\\_decorators.py:36: FutureWarning: Pass the following variable as a keyword arg: x. From version 0.12, the only valid positional argument will be `data`, and passing other arguments without an explicit keyword will result in an error or misinterpretation.\n",
      "  warnings.warn(\n"
     ]
    },
    {
     "data": {
      "image/png": "[encoded data removed]",
      "text/plain": [
       "<Figure size 432x288 with 1 Axes>"
      ]
     },
     "metadata": {
      "needs_background": "light"
     },
     "output_type": "display_data"
    }
   ],
   "source": [
    "for i in cat_data:\n",
    "    sns.countplot(cat_data[i], hue=cat_data.y)\n",
    "    plt.xticks(rotation=40)\n",
    "    plt.show()"
   ]
  },
  {
   "cell_type": "code",
   "execution_count": 261,
   "id": "904114f1-a019-4747-90b5-69cbaf4d0f93",
   "metadata": {},
   "outputs": [
    {
     "name": "stderr",
     "output_type": "stream",
     "text": [
      "C:\\ProgramData\\Anaconda3\\lib\\site-packages\\seaborn\\_decorators.py:36: FutureWarning: Pass the following variables as keyword args: x, y. From version 0.12, the only valid positional argument will be `data`, and passing other arguments without an explicit keyword will result in an error or misinterpretation.\n",
      "  warnings.warn(\n"
     ]
    },
    {
     "data": {
      "text/plain": [
       "<AxesSubplot:xlabel='poutcome', ylabel='pdays'>"
      ]
     },
     "execution_count": 261,
     "metadata": {},
     "output_type": "execute_result"
    },
    {
     "data": {
      "image/png": "[encoded data removed]",
      "text/plain": [
       "<Figure size 432x288 with 1 Axes>"
      ]
     },
     "metadata": {
      "needs_background": "light"
     },
     "output_type": "display_data"
    }
   ],
   "source": [
    "sns.lineplot(df_additional['poutcome'], df_additional['pdays'])"
   ]
  },
  {
   "cell_type": "code",
   "execution_count": 236,
   "id": "dad4ee95-72cd-4beb-8fd0-2de41401f7a8",
   "metadata": {},
   "outputs": [
    {
     "data": {
      "application/vnd.jupyter.widget-view+json": {
       "model_id": "eadea0a37cd94903a2795d7a9333c9e5",
       "version_major": 2,
       "version_minor": 0
      },
      "text/plain": [
       "Summarize dataset:   0%|          | 0/5 [00:00<?, ?it/s]"
      ]
     },
     "metadata": {},
     "output_type": "display_data"
    },
    {
     "data": {
      "application/vnd.jupyter.widget-view+json": {
       "model_id": "c3d0f645dba6477d8685d31b87c0f2d5",
       "version_major": 2,
       "version_minor": 0
      },
      "text/plain": [
       "Generate report structure:   0%|          | 0/1 [00:00<?, ?it/s]"
      ]
     },
     "metadata": {},
     "output_type": "display_data"
    },
    {
     "data": {
      "application/vnd.jupyter.widget-view+json": {
       "model_id": "186f91ea92d24273ad053e63599f44cc",
       "version_major": 2,
       "version_minor": 0
      },
      "text/plain": [
       "Render HTML:   0%|          | 0/1 [00:00<?, ?it/s]"
      ]
     },
     "metadata": {},
     "output_type": "display_data"
    },
    {
     "data": {
      "application/vnd.jupyter.widget-view+json": {
       "model_id": "8a571128d5cd4f32ace98b0039b763be",
       "version_major": 2,
       "version_minor": 0
      },
      "text/plain": [
       "Export report to file:   0%|          | 0/1 [00:00<?, ?it/s]"
      ]
     },
     "metadata": {},
     "output_type": "display_data"
    }
   ],
   "source": [
    "# from pandas_profiling import ProfileReport\n",
    "# EDA_report = ProfileReport(df_additional)\n",
    "# EDA_report.to_file(output_file='EDA_additional.html')"
   ]
  },
  {
   "cell_type": "code",
   "execution_count": 268,
   "id": "e3f3f71f-7f0c-4825-8d89-0f837c2c5394",
   "metadata": {},
   "outputs": [
    {
     "name": "stderr",
     "output_type": "stream",
     "text": [
      "C:\\ProgramData\\Anaconda3\\lib\\site-packages\\seaborn\\_decorators.py:36: FutureWarning: Pass the following variable as a keyword arg: x. From version 0.12, the only valid positional argument will be `data`, and passing other arguments without an explicit keyword will result in an error or misinterpretation.\n",
      "  warnings.warn(\n"
     ]
    },
    {
     "data": {
      "image/png": "[encoded data removed]",
      "text/plain": [
       "<Figure size 432x288 with 1 Axes>"
      ]
     },
     "metadata": {
      "needs_background": "light"
     },
     "output_type": "display_data"
    },
    {
     "name": "stderr",
     "output_type": "stream",
     "text": [
      "C:\\ProgramData\\Anaconda3\\lib\\site-packages\\seaborn\\_decorators.py:36: FutureWarning: Pass the following variable as a keyword arg: x. From version 0.12, the only valid positional argument will be `data`, and passing other arguments without an explicit keyword will result in an error or misinterpretation.\n",
      "  warnings.warn(\n"
     ]
    },
    {
     "data": {
      "image/png": "[encoded data removed]",
      "text/plain": [
       "<Figure size 432x288 with 1 Axes>"
      ]
     },
     "metadata": {
      "needs_background": "light"
     },
     "output_type": "display_data"
    },
    {
     "name": "stderr",
     "output_type": "stream",
     "text": [
      "C:\\ProgramData\\Anaconda3\\lib\\site-packages\\seaborn\\_decorators.py:36: FutureWarning: Pass the following variable as a keyword arg: x. From version 0.12, the only valid positional argument will be `data`, and passing other arguments without an explicit keyword will result in an error or misinterpretation.\n",
      "  warnings.warn(\n"
     ]
    },
    {
     "data": {
      "image/png": "[encoded data removed]",
      "text/plain": [
       "<Figure size 432x288 with 1 Axes>"
      ]
     },
     "metadata": {
      "needs_background": "light"
     },
     "output_type": "display_data"
    },
    {
     "name": "stderr",
     "output_type": "stream",
     "text": [
      "C:\\ProgramData\\Anaconda3\\lib\\site-packages\\seaborn\\_decorators.py:36: FutureWarning: Pass the following variable as a keyword arg: x. From version 0.12, the only valid positional argument will be `data`, and passing other arguments without an explicit keyword will result in an error or misinterpretation.\n",
      "  warnings.warn(\n"
     ]
    },
    {
     "data": {
      "image/png": "[encoded data removed]",
      "text/plain": [
       "<Figure size 432x288 with 1 Axes>"
      ]
     },
     "metadata": {
      "needs_background": "light"
     },
     "output_type": "display_data"
    },
    {
     "name": "stderr",
     "output_type": "stream",
     "text": [
      "C:\\ProgramData\\Anaconda3\\lib\\site-packages\\seaborn\\_decorators.py:36: FutureWarning: Pass the following variable as a keyword arg: x. From version 0.12, the only valid positional argument will be `data`, and passing other arguments without an explicit keyword will result in an error or misinterpretation.\n",
      "  warnings.warn(\n"
     ]
    },
    {
     "data": {
      "image/png": "[encoded data removed]",
      "text/plain": [
       "<Figure size 432x288 with 1 Axes>"
      ]
     },
     "metadata": {
      "needs_background": "light"
     },
     "output_type": "display_data"
    },
    {
     "name": "stderr",
     "output_type": "stream",
     "text": [
      "C:\\ProgramData\\Anaconda3\\lib\\site-packages\\seaborn\\_decorators.py:36: FutureWarning: Pass the following variable as a keyword arg: x. From version 0.12, the only valid positional argument will be `data`, and passing other arguments without an explicit keyword will result in an error or misinterpretation.\n",
      "  warnings.warn(\n"
     ]
    },
    {
     "data": {
      "image/png": "[encoded data removed]",
      "text/plain": [
       "<Figure size 432x288 with 1 Axes>"
      ]
     },
     "metadata": {
      "needs_background": "light"
     },
     "output_type": "display_data"
    },
    {
     "name": "stderr",
     "output_type": "stream",
     "text": [
      "C:\\ProgramData\\Anaconda3\\lib\\site-packages\\seaborn\\_decorators.py:36: FutureWarning: Pass the following variable as a keyword arg: x. From version 0.12, the only valid positional argument will be `data`, and passing other arguments without an explicit keyword will result in an error or misinterpretation.\n",
      "  warnings.warn(\n"
     ]
    },
    {
     "data": {
      "image/png": "[encoded data removed]",
      "text/plain": [
       "<Figure size 432x288 with 1 Axes>"
      ]
     },
     "metadata": {
      "needs_background": "light"
     },
     "output_type": "display_data"
    },
    {
     "name": "stderr",
     "output_type": "stream",
     "text": [
      "C:\\ProgramData\\Anaconda3\\lib\\site-packages\\seaborn\\_decorators.py:36: FutureWarning: Pass the following variable as a keyword arg: x. From version 0.12, the only valid positional argument will be `data`, and passing other arguments without an explicit keyword will result in an error or misinterpretation.\n",
      "  warnings.warn(\n"
     ]
    },
    {
     "data": {
      "image/png": "[encoded data removed]",
      "text/plain": [
       "<Figure size 432x288 with 1 Axes>"
      ]
     },
     "metadata": {
      "needs_background": "light"
     },
     "output_type": "display_data"
    },
    {
     "name": "stderr",
     "output_type": "stream",
     "text": [
      "C:\\ProgramData\\Anaconda3\\lib\\site-packages\\seaborn\\_decorators.py:36: FutureWarning: Pass the following variable as a keyword arg: x. From version 0.12, the only valid positional argument will be `data`, and passing other arguments without an explicit keyword will result in an error or misinterpretation.\n",
      "  warnings.warn(\n"
     ]
    },
    {
     "data": {
      "image/png": "[encoded data removed]",
      "text/plain": [
       "<Figure size 432x288 with 1 Axes>"
      ]
     },
     "metadata": {
      "needs_background": "light"
     },
     "output_type": "display_data"
    },
    {
     "name": "stderr",
     "output_type": "stream",
     "text": [
      "C:\\ProgramData\\Anaconda3\\lib\\site-packages\\seaborn\\_decorators.py:36: FutureWarning: Pass the following variable as a keyword arg: x. From version 0.12, the only valid positional argument will be `data`, and passing other arguments without an explicit keyword will result in an error or misinterpretation.\n",
      "  warnings.warn(\n"
     ]
    },
    {
     "data": {
      "image/png": "[encoded data removed]",
      "text/plain": [
       "<Figure size 432x288 with 1 Axes>"
      ]
     },
     "metadata": {
      "needs_background": "light"
     },
     "output_type": "display_data"
    },
    {
     "name": "stderr",
     "output_type": "stream",
     "text": [
      "C:\\ProgramData\\Anaconda3\\lib\\site-packages\\seaborn\\_decorators.py:36: FutureWarning: Pass the following variable as a keyword arg: x. From version 0.12, the only valid positional argument will be `data`, and passing other arguments without an explicit keyword will result in an error or misinterpretation.\n",
      "  warnings.warn(\n"
     ]
    },
    {
     "data": {
      "image/png": "[encoded data removed]",
      "text/plain": [
       "<Figure size 432x288 with 1 Axes>"
      ]
     },
     "metadata": {
      "needs_background": "light"
     },
     "output_type": "display_data"
    }
   ],
   "source": [
    "for i in cat_data:\n",
    "    sns.boxplot(df_additional[i])\n",
    "    plt.title(i)\n",
    "    plt.show()"
   ]
  },
  {
   "cell_type": "code",
   "execution_count": 271,
   "id": "73b7b756-9310-4d08-a41c-71f7cea869e2",
   "metadata": {},
   "outputs": [
    {
     "name": "stderr",
     "output_type": "stream",
     "text": [
      "C:\\ProgramData\\Anaconda3\\lib\\site-packages\\seaborn\\_decorators.py:36: FutureWarning: Pass the following variable as a keyword arg: x. From version 0.12, the only valid positional argument will be `data`, and passing other arguments without an explicit keyword will result in an error or misinterpretation.\n",
      "  warnings.warn(\n"
     ]
    },
    {
     "data": {
      "image/png": "[encoded data removed]",
      "text/plain": [
       "<Figure size 432x288 with 1 Axes>"
      ]
     },
     "metadata": {
      "needs_background": "light"
     },
     "output_type": "display_data"
    },
    {
     "name": "stderr",
     "output_type": "stream",
     "text": [
      "C:\\ProgramData\\Anaconda3\\lib\\site-packages\\seaborn\\_decorators.py:36: FutureWarning: Pass the following variable as a keyword arg: x. From version 0.12, the only valid positional argument will be `data`, and passing other arguments without an explicit keyword will result in an error or misinterpretation.\n",
      "  warnings.warn(\n"
     ]
    },
    {
     "data": {
      "image/png": "[encoded data removed]",
      "text/plain": [
       "<Figure size 432x288 with 1 Axes>"
      ]
     },
     "metadata": {
      "needs_background": "light"
     },
     "output_type": "display_data"
    },
    {
     "name": "stderr",
     "output_type": "stream",
     "text": [
      "C:\\ProgramData\\Anaconda3\\lib\\site-packages\\seaborn\\_decorators.py:36: FutureWarning: Pass the following variable as a keyword arg: x. From version 0.12, the only valid positional argument will be `data`, and passing other arguments without an explicit keyword will result in an error or misinterpretation.\n",
      "  warnings.warn(\n"
     ]
    },
    {
     "data": {
      "image/png": "[encoded data removed]",
      "text/plain": [
       "<Figure size 432x288 with 1 Axes>"
      ]
     },
     "metadata": {
      "needs_background": "light"
     },
     "output_type": "display_data"
    },
    {
     "name": "stderr",
     "output_type": "stream",
     "text": [
      "C:\\ProgramData\\Anaconda3\\lib\\site-packages\\seaborn\\_decorators.py:36: FutureWarning: Pass the following variable as a keyword arg: x. From version 0.12, the only valid positional argument will be `data`, and passing other arguments without an explicit keyword will result in an error or misinterpretation.\n",
      "  warnings.warn(\n"
     ]
    },
    {
     "data": {
      "image/png": "[encoded data removed]",
      "text/plain": [
       "<Figure size 432x288 with 1 Axes>"
      ]
     },
     "metadata": {
      "needs_background": "light"
     },
     "output_type": "display_data"
    },
    {
     "name": "stderr",
     "output_type": "stream",
     "text": [
      "C:\\ProgramData\\Anaconda3\\lib\\site-packages\\seaborn\\_decorators.py:36: FutureWarning: Pass the following variable as a keyword arg: x. From version 0.12, the only valid positional argument will be `data`, and passing other arguments without an explicit keyword will result in an error or misinterpretation.\n",
      "  warnings.warn(\n"
     ]
    },
    {
     "data": {
      "image/png": "[encoded data removed]",
      "text/plain": [
       "<Figure size 432x288 with 1 Axes>"
      ]
     },
     "metadata": {
      "needs_background": "light"
     },
     "output_type": "display_data"
    },
    {
     "name": "stderr",
     "output_type": "stream",
     "text": [
      "C:\\ProgramData\\Anaconda3\\lib\\site-packages\\seaborn\\_decorators.py:36: FutureWarning: Pass the following variable as a keyword arg: x. From version 0.12, the only valid positional argument will be `data`, and passing other arguments without an explicit keyword will result in an error or misinterpretation.\n",
      "  warnings.warn(\n"
     ]
    },
    {
     "data": {
      "image/png": "[encoded data removed]",
      "text/plain": [
       "<Figure size 432x288 with 1 Axes>"
      ]
     },
     "metadata": {
      "needs_background": "light"
     },
     "output_type": "display_data"
    },
    {
     "name": "stderr",
     "output_type": "stream",
     "text": [
      "C:\\ProgramData\\Anaconda3\\lib\\site-packages\\seaborn\\_decorators.py:36: FutureWarning: Pass the following variable as a keyword arg: x. From version 0.12, the only valid positional argument will be `data`, and passing other arguments without an explicit keyword will result in an error or misinterpretation.\n",
      "  warnings.warn(\n"
     ]
    },
    {
     "data": {
      "image/png": "[encoded data removed]",
      "text/plain": [
       "<Figure size 432x288 with 1 Axes>"
      ]
     },
     "metadata": {
      "needs_background": "light"
     },
     "output_type": "display_data"
    },
    {
     "name": "stderr",
     "output_type": "stream",
     "text": [
      "C:\\ProgramData\\Anaconda3\\lib\\site-packages\\seaborn\\_decorators.py:36: FutureWarning: Pass the following variable as a keyword arg: x. From version 0.12, the only valid positional argument will be `data`, and passing other arguments without an explicit keyword will result in an error or misinterpretation.\n",
      "  warnings.warn(\n"
     ]
    },
    {
     "data": {
      "image/png": "[encoded data removed]",
      "text/plain": [
       "<Figure size 432x288 with 1 Axes>"
      ]
     },
     "metadata": {
      "needs_background": "light"
     },
     "output_type": "display_data"
    },
    {
     "name": "stderr",
     "output_type": "stream",
     "text": [
      "C:\\ProgramData\\Anaconda3\\lib\\site-packages\\seaborn\\_decorators.py:36: FutureWarning: Pass the following variable as a keyword arg: x. From version 0.12, the only valid positional argument will be `data`, and passing other arguments without an explicit keyword will result in an error or misinterpretation.\n",
      "  warnings.warn(\n"
     ]
    },
    {
     "data": {
      "image/png": "[encoded data removed]",
      "text/plain": [
       "<Figure size 432x288 with 1 Axes>"
      ]
     },
     "metadata": {
      "needs_background": "light"
     },
     "output_type": "display_data"
    }
   ],
   "source": [
    "for i in num_data:\n",
    "    if i != 'duration':\n",
    "        sns.boxplot(df_additional[i])\n",
    "        plt.title(i)\n",
    "        plt.show()"
   ]
  },
  {
   "cell_type": "code",
   "execution_count": 280,
   "id": "7ab4179a-0f65-4255-a477-30d5b23ba7d1",
   "metadata": {},
   "outputs": [
    {
     "data": {
      "text/plain": [
       "array([56, 57, 37, 40, 45, 59, 41, 24, 25, 29, 35, 54, 46, 50, 39, 30, 55,\n",
       "       49, 34, 52, 58, 32, 38, 44, 42, 60, 53, 47, 51, 48, 33, 31, 43, 36,\n",
       "       28, 27, 26, 22, 23, 20, 21, 61, 19, 18, 70, 66, 76, 67, 73, 88, 95,\n",
       "       77, 68, 75, 63, 80, 62, 65, 72, 82, 64, 71, 69, 78, 85, 79, 83, 81,\n",
       "       74, 17, 87, 91, 86, 98, 94, 84, 92, 89], dtype=int64)"
      ]
     },
     "execution_count": 280,
     "metadata": {},
     "output_type": "execute_result"
    }
   ],
   "source": [
    "df_additional.age.unique()"
   ]
  },
  {
   "cell_type": "code",
   "execution_count": 308,
   "id": "2aa100ff-d1ec-4afe-a56a-7ed83c3e662e",
   "metadata": {},
   "outputs": [],
   "source": [
    "df_additional.age_group[(df_additional.age >= 30) & (df_additional.age < 40)] = \"30-40\"\n",
    "df_additional.age_group[(df_additional.age >= 40) & (df_additional.age < 50)] = \"40-50\"\n",
    "df_additional.age_group[(df_additional.age >= 50) & (df_additional.age < 60)] = \"50-60\"\n",
    "df_additional.age_group[(df_additional.age >= 60)] = \">59\""
   ]
  },
  {
   "cell_type": "code",
   "execution_count": 316,
   "id": "3f845c11-b106-43f2-bd72-a1c609174f4c",
   "metadata": {},
   "outputs": [
    {
     "data": {
      "text/html": [
       "<div>\n",
       "<style scoped>\n",
       "    .dataframe tbody tr th:only-of-type {\n",
       "        vertical-align: middle;\n",
       "    }\n",
       "\n",
       "    .dataframe tbody tr th {\n",
       "        vertical-align: top;\n",
       "    }\n",
       "\n",
       "    .dataframe thead th {\n",
       "        text-align: right;\n",
       "    }\n",
       "</style>\n",
       "<table border=\"1\" class=\"dataframe\">\n",
       "  <thead>\n",
       "    <tr style=\"text-align: right;\">\n",
       "      <th></th>\n",
       "      <th>age</th>\n",
       "      <th>job</th>\n",
       "      <th>marital</th>\n",
       "      <th>education</th>\n",
       "      <th>default</th>\n",
       "      <th>housing</th>\n",
       "      <th>loan</th>\n",
       "      <th>contact</th>\n",
       "      <th>month</th>\n",
       "      <th>day_of_week</th>\n",
       "      <th>campaign</th>\n",
       "      <th>pdays</th>\n",
       "      <th>previous</th>\n",
       "      <th>poutcome</th>\n",
       "      <th>emp.var.rate</th>\n",
       "      <th>cons.price.idx</th>\n",
       "      <th>cons.conf.idx</th>\n",
       "      <th>euribor3m</th>\n",
       "      <th>nr.employed</th>\n",
       "      <th>y</th>\n",
       "    </tr>\n",
       "    <tr>\n",
       "      <th>age_group</th>\n",
       "      <th></th>\n",
       "      <th></th>\n",
       "      <th></th>\n",
       "      <th></th>\n",
       "      <th></th>\n",
       "      <th></th>\n",
       "      <th></th>\n",
       "      <th></th>\n",
       "      <th></th>\n",
       "      <th></th>\n",
       "      <th></th>\n",
       "      <th></th>\n",
       "      <th></th>\n",
       "      <th></th>\n",
       "      <th></th>\n",
       "      <th></th>\n",
       "      <th></th>\n",
       "      <th></th>\n",
       "      <th></th>\n",
       "      <th></th>\n",
       "    </tr>\n",
       "  </thead>\n",
       "  <tbody>\n",
       "    <tr>\n",
       "      <th>30-40</th>\n",
       "      <td>34.254457</td>\n",
       "      <td>3.673279</td>\n",
       "      <td>1.259948</td>\n",
       "      <td>4.013166</td>\n",
       "      <td>0.153265</td>\n",
       "      <td>1.074035</td>\n",
       "      <td>0.330972</td>\n",
       "      <td>0.360196</td>\n",
       "      <td>4.315858</td>\n",
       "      <td>2.028280</td>\n",
       "      <td>2.561223</td>\n",
       "      <td>970.047408</td>\n",
       "      <td>0.161825</td>\n",
       "      <td>0.920298</td>\n",
       "      <td>0.094592</td>\n",
       "      <td>93.558599</td>\n",
       "      <td>-40.721059</td>\n",
       "      <td>3.634677</td>\n",
       "      <td>5168.848069</td>\n",
       "      <td>0.101252</td>\n",
       "    </tr>\n",
       "    <tr>\n",
       "      <th>40-50</th>\n",
       "      <td>44.212901</td>\n",
       "      <td>3.512350</td>\n",
       "      <td>0.988980</td>\n",
       "      <td>3.506080</td>\n",
       "      <td>0.284059</td>\n",
       "      <td>1.055672</td>\n",
       "      <td>0.323390</td>\n",
       "      <td>0.409082</td>\n",
       "      <td>4.155425</td>\n",
       "      <td>1.974444</td>\n",
       "      <td>2.604503</td>\n",
       "      <td>977.488695</td>\n",
       "      <td>0.130249</td>\n",
       "      <td>0.930173</td>\n",
       "      <td>0.322402</td>\n",
       "      <td>93.633306</td>\n",
       "      <td>-40.418317</td>\n",
       "      <td>3.901934</td>\n",
       "      <td>5179.083432</td>\n",
       "      <td>0.079232</td>\n",
       "    </tr>\n",
       "    <tr>\n",
       "      <th>50-60</th>\n",
       "      <td>54.081609</td>\n",
       "      <td>3.794375</td>\n",
       "      <td>0.888371</td>\n",
       "      <td>3.464733</td>\n",
       "      <td>0.329496</td>\n",
       "      <td>1.077237</td>\n",
       "      <td>0.326435</td>\n",
       "      <td>0.376712</td>\n",
       "      <td>4.091664</td>\n",
       "      <td>1.953949</td>\n",
       "      <td>2.693821</td>\n",
       "      <td>967.438065</td>\n",
       "      <td>0.144273</td>\n",
       "      <td>0.942437</td>\n",
       "      <td>0.336841</td>\n",
       "      <td>93.622584</td>\n",
       "      <td>-39.961119</td>\n",
       "      <td>3.934371</td>\n",
       "      <td>5179.287730</td>\n",
       "      <td>0.101574</td>\n",
       "    </tr>\n",
       "    <tr>\n",
       "      <th>&lt;30</th>\n",
       "      <td>26.529017</td>\n",
       "      <td>4.005116</td>\n",
       "      <td>1.665726</td>\n",
       "      <td>3.868231</td>\n",
       "      <td>0.103546</td>\n",
       "      <td>1.081496</td>\n",
       "      <td>0.332510</td>\n",
       "      <td>0.323867</td>\n",
       "      <td>4.281884</td>\n",
       "      <td>2.047275</td>\n",
       "      <td>2.466749</td>\n",
       "      <td>937.527959</td>\n",
       "      <td>0.236902</td>\n",
       "      <td>0.936320</td>\n",
       "      <td>-0.310125</td>\n",
       "      <td>93.537747</td>\n",
       "      <td>-41.320321</td>\n",
       "      <td>3.125544</td>\n",
       "      <td>5146.778162</td>\n",
       "      <td>0.162639</td>\n",
       "    </tr>\n",
       "    <tr>\n",
       "      <th>&gt;59</th>\n",
       "      <td>68.250629</td>\n",
       "      <td>4.590947</td>\n",
       "      <td>0.849958</td>\n",
       "      <td>3.147527</td>\n",
       "      <td>0.141660</td>\n",
       "      <td>1.102263</td>\n",
       "      <td>0.294216</td>\n",
       "      <td>0.181056</td>\n",
       "      <td>4.248114</td>\n",
       "      <td>2.023470</td>\n",
       "      <td>2.085499</td>\n",
       "      <td>812.509640</td>\n",
       "      <td>0.569153</td>\n",
       "      <td>0.968148</td>\n",
       "      <td>-1.824308</td>\n",
       "      <td>93.219673</td>\n",
       "      <td>-37.373428</td>\n",
       "      <td>1.510027</td>\n",
       "      <td>5060.801760</td>\n",
       "      <td>0.395641</td>\n",
       "    </tr>\n",
       "  </tbody>\n",
       "</table>\n",
       "</div>"
      ],
      "text/plain": [
       "                 age       job   marital  education   default   housing  \\\n",
       "age_group                                                                 \n",
       "30-40      34.254457  3.673279  1.259948   4.013166  0.153265  1.074035   \n",
       "40-50      44.212901  3.512350  0.988980   3.506080  0.284059  1.055672   \n",
       "50-60      54.081609  3.794375  0.888371   3.464733  0.329496  1.077237   \n",
       "<30        26.529017  4.005116  1.665726   3.868231  0.103546  1.081496   \n",
       ">59        68.250629  4.590947  0.849958   3.147527  0.141660  1.102263   \n",
       "\n",
       "               loan   contact     month  day_of_week  campaign       pdays  \\\n",
       "age_group                                                                    \n",
       "30-40      0.330972  0.360196  4.315858     2.028280  2.561223  970.047408   \n",
       "40-50      0.323390  0.409082  4.155425     1.974444  2.604503  977.488695   \n",
       "50-60      0.326435  0.376712  4.091664     1.953949  2.693821  967.438065   \n",
       "<30        0.332510  0.323867  4.281884     2.047275  2.466749  937.527959   \n",
       ">59        0.294216  0.181056  4.248114     2.023470  2.085499  812.509640   \n",
       "\n",
       "           previous  poutcome  emp.var.rate  cons.price.idx  cons.conf.idx  \\\n",
       "age_group                                                                    \n",
       "30-40      0.161825  0.920298      0.094592       93.558599     -40.721059   \n",
       "40-50      0.130249  0.930173      0.322402       93.633306     -40.418317   \n",
       "50-60      0.144273  0.942437      0.336841       93.622584     -39.961119   \n",
       "<30        0.236902  0.936320     -0.310125       93.537747     -41.320321   \n",
       ">59        0.569153  0.968148     -1.824308       93.219673     -37.373428   \n",
       "\n",
       "           euribor3m  nr.employed         y  \n",
       "age_group                                    \n",
       "30-40       3.634677  5168.848069  0.101252  \n",
       "40-50       3.901934  5179.083432  0.079232  \n",
       "50-60       3.934371  5179.287730  0.101574  \n",
       "<30         3.125544  5146.778162  0.162639  \n",
       ">59         1.510027  5060.801760  0.395641  "
      ]
     },
     "execution_count": 316,
     "metadata": {},
     "output_type": "execute_result"
    }
   ],
   "source": [
    "df_additional.groupby(df_additional.age_group).mean()"
   ]
  },
  {
   "cell_type": "code",
   "execution_count": 331,
   "id": "1c79f0c9-c1c0-45bd-9b00-2bf81adebd6f",
   "metadata": {},
   "outputs": [],
   "source": [
    "df_age = df.sort_values('age')"
   ]
  },
  {
   "cell_type": "code",
   "execution_count": 332,
   "id": "acba041f-a8f0-44df-a732-c7b1ef106abf",
   "metadata": {},
   "outputs": [],
   "source": [
    "df_age['age_group'] = np.nan"
   ]
  },
  {
   "cell_type": "code",
   "execution_count": 14,
   "id": "92fb0034-4f85-4f53-b215-ea2b57267c6e",
   "metadata": {},
   "outputs": [
    {
     "data": {
      "text/plain": [
       "Index(['age', 'job', 'marital', 'education', 'default', 'housing', 'loan',\n",
       "       'contact', 'month', 'day_of_week', 'duration', 'campaign', 'pdays',\n",
       "       'previous', 'poutcome', 'emp_var_rate', 'cons_price_idx',\n",
       "       'cons_conf_idx', 'euribor3m', 'nr_employed', 'y'],\n",
       "      dtype='object')"
      ]
     },
     "execution_count": 14,
     "metadata": {},
     "output_type": "execute_result"
    }
   ],
   "source": [
    "df_additional.columns"
   ]
  },
  {
   "cell_type": "code",
   "execution_count": 21,
   "id": "dd269647-d7e0-4300-b009-272abc1cf760",
   "metadata": {},
   "outputs": [
    {
     "name": "stdout",
     "output_type": "stream",
     "text": [
      "__________job_________\n",
      "admin.           10422\n",
      "blue-collar       9254\n",
      "technician        6743\n",
      "services          3969\n",
      "management        2924\n",
      "retired           1720\n",
      "entrepreneur      1456\n",
      "self-employed     1421\n",
      "housemaid         1060\n",
      "unemployed        1014\n",
      "student            875\n",
      "unknown            330\n",
      "Name: job, dtype: int64\n",
      "__________marital_________\n",
      "married     24928\n",
      "single      11568\n",
      "divorced     4612\n",
      "unknown        80\n",
      "Name: marital, dtype: int64\n",
      "__________education_________\n",
      "university.degree      12168\n",
      "high.school             9515\n",
      "basic.9y                6045\n",
      "professional.course     5243\n",
      "basic.4y                4176\n",
      "basic.6y                2292\n",
      "unknown                 1731\n",
      "illiterate                18\n",
      "Name: education, dtype: int64\n",
      "__________default_________\n",
      "no         32588\n",
      "unknown     8597\n",
      "yes            3\n",
      "Name: default, dtype: int64\n",
      "__________housing_________\n",
      "yes        21576\n",
      "no         18622\n",
      "unknown      990\n",
      "Name: housing, dtype: int64\n",
      "__________loan_________\n",
      "no         33950\n",
      "yes         6248\n",
      "unknown      990\n",
      "Name: loan, dtype: int64\n",
      "__________contact_________\n",
      "cellular     26144\n",
      "telephone    15044\n",
      "Name: contact, dtype: int64\n",
      "__________month_________\n",
      "may    13769\n",
      "jul     7174\n",
      "aug     6178\n",
      "jun     5318\n",
      "nov     4101\n",
      "apr     2632\n",
      "oct      718\n",
      "sep      570\n",
      "mar      546\n",
      "dec      182\n",
      "Name: month, dtype: int64\n",
      "__________day_of_week_________\n",
      "thu    8623\n",
      "mon    8514\n",
      "wed    8134\n",
      "tue    8090\n",
      "fri    7827\n",
      "Name: day_of_week, dtype: int64\n",
      "__________poutcome_________\n",
      "nonexistent    35563\n",
      "failure         4252\n",
      "success         1373\n",
      "Name: poutcome, dtype: int64\n",
      "__________y_________\n",
      "no     36548\n",
      "yes     4640\n",
      "Name: y, dtype: int64\n"
     ]
    }
   ],
   "source": [
    "for i in df_additional:\n",
    "    if df_additional[i].dtype in ['object','bool']:\n",
    "        print(f\"__________{i}_________\")\n",
    "        print(df_additional[i].value_counts())"
   ]
  },
  {
   "cell_type": "code",
   "execution_count": null,
   "id": "986044f8-b74a-4a41-b952-8040a1bfbd5f",
   "metadata": {},
   "outputs": [],
   "source": []
  }
 ],
 "metadata": {
  "kernelspec": {
   "display_name": "Python 3",
   "language": "python",
   "name": "python3"
  },
  "language_info": {
   "codemirror_mode": {
    "name": "ipython",
    "version": 3
   },
   "file_extension": ".py",
   "mimetype": "text/x-python",
   "name": "python",
   "nbconvert_exporter": "python",
   "pygments_lexer": "ipython3",
   "version": "3.8.8"
  }
 },
 "nbformat": 4,
 "nbformat_minor": 5
}
